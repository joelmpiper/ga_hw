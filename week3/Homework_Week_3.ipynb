{
 "cells": [
  {
   "cell_type": "markdown",
   "metadata": {},
   "source": [
    "# Week 3 Homework: IMDB"
   ]
  },
  {
   "cell_type": "markdown",
   "metadata": {},
   "source": [
    "## Part #1"
   ]
  },
  {
   "cell_type": "code",
   "execution_count": 1,
   "metadata": {
    "collapsed": false
   },
   "outputs": [
    {
     "name": "stderr",
     "output_type": "stream",
     "text": [
      "/Users/Joel/anaconda/lib/python2.7/site-packages/matplotlib/__init__.py:872: UserWarning: axes.color_cycle is deprecated and replaced with axes.prop_cycle; please use the latter.\n",
      "  warnings.warn(self.msg_depr % (key, alt_key))\n"
     ]
    }
   ],
   "source": [
    "import pandas as pd\n",
    "import matplotlib.pyplot as plt\n",
    "import seaborn as sns\n",
    "import numpy as np\n",
    "%matplotlib inline"
   ]
  },
  {
   "cell_type": "markdown",
   "metadata": {},
   "source": [
    "### read in 'imdb_1000.csv' and store it in a DataFrame named movies"
   ]
  },
  {
   "cell_type": "code",
   "execution_count": 2,
   "metadata": {
    "collapsed": false
   },
   "outputs": [],
   "source": [
    "filepath = '../../DAT-DC-10/data/imdb_1000.csv'\n",
    "movies = pd.read_csv(filepath, encoding='utf-8')"
   ]
  },
  {
   "cell_type": "code",
   "execution_count": 3,
   "metadata": {
    "collapsed": false
   },
   "outputs": [
    {
     "data": {
      "text/html": [
       "<style>body {\n",
       "    margin: 0;\n",
       "    font-family: Helvetica;\n",
       "}\n",
       "table.dataframe {\n",
       "    border-collapse: collapse;\n",
       "    border: none;\n",
       "}\n",
       "table.dataframe tr {\n",
       "    border: none;\n",
       "}\n",
       "table.dataframe td, table.dataframe th {\n",
       "    margin: 0;\n",
       "    border: 1px solid white;\n",
       "    padding-left: 0.25em;\n",
       "    padding-right: 0.25em;\n",
       "}\n",
       "table.dataframe th:not(:empty) {\n",
       "    background-color: #fec;\n",
       "    text-align: left;\n",
       "    font-weight: normal;\n",
       "}\n",
       "table.dataframe tr:nth-child(2) th:empty {\n",
       "    border-left: none;\n",
       "    border-right: 1px dashed #888;\n",
       "}\n",
       "table.dataframe td {\n",
       "    border: 2px solid #ccf;\n",
       "    background-color: #f4f4ff;\n",
       "}\n",
       "h3 {\n",
       "    color: white;\n",
       "    background-color: black;\n",
       "    padding: 0.5em;\n",
       "}\n",
       "</style>"
      ],
      "text/plain": [
       "<IPython.core.display.HTML object>"
      ]
     },
     "execution_count": 3,
     "metadata": {},
     "output_type": "execute_result"
    }
   ],
   "source": [
    "from IPython.core.display import HTML\n",
    "css = open('style-table.css').read() + open('style-notebook.css').read()\n",
    "HTML('<style>{}</style>'.format(css))"
   ]
  },
  {
   "cell_type": "code",
   "execution_count": 4,
   "metadata": {
    "collapsed": false
   },
   "outputs": [
    {
     "data": {
      "text/plain": [
       "pandas.core.frame.DataFrame"
      ]
     },
     "execution_count": 4,
     "metadata": {},
     "output_type": "execute_result"
    }
   ],
   "source": [
    "type(movies)"
   ]
  },
  {
   "cell_type": "markdown",
   "metadata": {},
   "source": [
    "### check the number of rows and columns"
   ]
  },
  {
   "cell_type": "code",
   "execution_count": 5,
   "metadata": {
    "collapsed": false
   },
   "outputs": [
    {
     "data": {
      "text/plain": [
       "6"
      ]
     },
     "execution_count": 5,
     "metadata": {},
     "output_type": "execute_result"
    }
   ],
   "source": [
    "len(movies.columns)"
   ]
  },
  {
   "cell_type": "code",
   "execution_count": 6,
   "metadata": {
    "collapsed": false
   },
   "outputs": [
    {
     "data": {
      "text/plain": [
       "979"
      ]
     },
     "execution_count": 6,
     "metadata": {},
     "output_type": "execute_result"
    }
   ],
   "source": [
    "len(movies.index)"
   ]
  },
  {
   "cell_type": "code",
   "execution_count": 7,
   "metadata": {
    "collapsed": false
   },
   "outputs": [
    {
     "data": {
      "text/plain": [
       "5874"
      ]
     },
     "execution_count": 7,
     "metadata": {},
     "output_type": "execute_result"
    }
   ],
   "source": [
    "movies.size"
   ]
  },
  {
   "cell_type": "code",
   "execution_count": 8,
   "metadata": {
    "collapsed": false
   },
   "outputs": [
    {
     "data": {
      "text/plain": [
       "(979, 6)"
      ]
     },
     "execution_count": 8,
     "metadata": {},
     "output_type": "execute_result"
    }
   ],
   "source": [
    "movies.shape"
   ]
  },
  {
   "cell_type": "markdown",
   "metadata": {},
   "source": [
    "### check the data type of each column"
   ]
  },
  {
   "cell_type": "code",
   "execution_count": 9,
   "metadata": {
    "collapsed": false
   },
   "outputs": [
    {
     "data": {
      "text/plain": [
       "star_rating       float64\n",
       "title              object\n",
       "content_rating     object\n",
       "genre              object\n",
       "duration            int64\n",
       "actors_list        object\n",
       "dtype: object"
      ]
     },
     "execution_count": 9,
     "metadata": {},
     "output_type": "execute_result"
    }
   ],
   "source": [
    "movies.dtypes"
   ]
  },
  {
   "cell_type": "code",
   "execution_count": 10,
   "metadata": {
    "collapsed": false
   },
   "outputs": [
    {
     "data": {
      "text/plain": [
       "[numpy.float64, unicode, unicode, unicode, numpy.int64, unicode]"
      ]
     },
     "execution_count": 10,
     "metadata": {},
     "output_type": "execute_result"
    }
   ],
   "source": [
    "[type(col) for col in movies.loc[0]]"
   ]
  },
  {
   "cell_type": "code",
   "execution_count": 11,
   "metadata": {
    "collapsed": false
   },
   "outputs": [
    {
     "name": "stdout",
     "output_type": "stream",
     "text": [
      "<class 'pandas.core.frame.DataFrame'>\n",
      "Int64Index: 979 entries, 0 to 978\n",
      "Data columns (total 6 columns):\n",
      "star_rating       979 non-null float64\n",
      "title             979 non-null object\n",
      "content_rating    976 non-null object\n",
      "genre             979 non-null object\n",
      "duration          979 non-null int64\n",
      "actors_list       979 non-null object\n",
      "dtypes: float64(1), int64(1), object(4)\n",
      "memory usage: 53.5+ KB\n"
     ]
    }
   ],
   "source": [
    "movies.info()"
   ]
  },
  {
   "cell_type": "markdown",
   "metadata": {},
   "source": [
    "### calculate the average movie duration"
   ]
  },
  {
   "cell_type": "code",
   "execution_count": 12,
   "metadata": {
    "collapsed": false
   },
   "outputs": [
    {
     "data": {
      "text/plain": [
       "120.97957099080695"
      ]
     },
     "execution_count": 12,
     "metadata": {},
     "output_type": "execute_result"
    }
   ],
   "source": [
    "m = movies\n",
    "m = m['duration']\n",
    "m.mean()"
   ]
  },
  {
   "cell_type": "markdown",
   "metadata": {},
   "source": [
    "### sort the DataFrame by duration to find the shortest and longest movies"
   ]
  },
  {
   "cell_type": "code",
   "execution_count": 13,
   "metadata": {
    "collapsed": false
   },
   "outputs": [
    {
     "data": {
      "text/plain": [
       "(64, 242)"
      ]
     },
     "execution_count": 13,
     "metadata": {},
     "output_type": "execute_result"
    }
   ],
   "source": [
    "m = movies\n",
    "m = m['duration']\n",
    "m.min(), m.max()"
   ]
  },
  {
   "cell_type": "code",
   "execution_count": 14,
   "metadata": {
    "collapsed": false
   },
   "outputs": [
    {
     "data": {
      "text/html": [
       "<div>\n",
       "<table border=\"1\" class=\"dataframe\">\n",
       "  <thead>\n",
       "    <tr style=\"text-align: right;\">\n",
       "      <th></th>\n",
       "      <th>star_rating</th>\n",
       "      <th>title</th>\n",
       "      <th>content_rating</th>\n",
       "      <th>genre</th>\n",
       "      <th>duration</th>\n",
       "      <th>actors_list</th>\n",
       "    </tr>\n",
       "  </thead>\n",
       "  <tbody>\n",
       "    <tr>\n",
       "      <th>389</th>\n",
       "      <td>8</td>\n",
       "      <td>Freaks</td>\n",
       "      <td>UNRATED</td>\n",
       "      <td>Drama</td>\n",
       "      <td>64</td>\n",
       "      <td>[u'Wallace Ford', u'Leila Hyams', u'Olga Bacla...</td>\n",
       "    </tr>\n",
       "  </tbody>\n",
       "</table>\n",
       "</div>"
      ],
      "text/plain": [
       "     star_rating   title content_rating  genre  duration  \\\n",
       "389            8  Freaks        UNRATED  Drama        64   \n",
       "\n",
       "                                           actors_list  \n",
       "389  [u'Wallace Ford', u'Leila Hyams', u'Olga Bacla...  "
      ]
     },
     "execution_count": 14,
     "metadata": {},
     "output_type": "execute_result"
    }
   ],
   "source": [
    "movies.sort_values('duration').head(1)"
   ]
  },
  {
   "cell_type": "code",
   "execution_count": 15,
   "metadata": {
    "collapsed": false
   },
   "outputs": [
    {
     "data": {
      "text/html": [
       "<div>\n",
       "<table border=\"1\" class=\"dataframe\">\n",
       "  <thead>\n",
       "    <tr style=\"text-align: right;\">\n",
       "      <th></th>\n",
       "      <th>star_rating</th>\n",
       "      <th>title</th>\n",
       "      <th>content_rating</th>\n",
       "      <th>genre</th>\n",
       "      <th>duration</th>\n",
       "      <th>actors_list</th>\n",
       "    </tr>\n",
       "  </thead>\n",
       "  <tbody>\n",
       "    <tr>\n",
       "      <th>476</th>\n",
       "      <td>7.8</td>\n",
       "      <td>Hamlet</td>\n",
       "      <td>PG-13</td>\n",
       "      <td>Drama</td>\n",
       "      <td>242</td>\n",
       "      <td>[u'Kenneth Branagh', u'Julie Christie', u'Dere...</td>\n",
       "    </tr>\n",
       "  </tbody>\n",
       "</table>\n",
       "</div>"
      ],
      "text/plain": [
       "     star_rating   title content_rating  genre  duration  \\\n",
       "476          7.8  Hamlet          PG-13  Drama       242   \n",
       "\n",
       "                                           actors_list  \n",
       "476  [u'Kenneth Branagh', u'Julie Christie', u'Dere...  "
      ]
     },
     "execution_count": 15,
     "metadata": {},
     "output_type": "execute_result"
    }
   ],
   "source": [
    "movies.sort_values('duration').tail(1)"
   ]
  },
  {
   "cell_type": "markdown",
   "metadata": {},
   "source": [
    "### create a histogram of duration"
   ]
  },
  {
   "cell_type": "code",
   "execution_count": 17,
   "metadata": {
    "collapsed": false
   },
   "outputs": [
    {
     "data": {
      "image/png": "[encoded data removed]",
      "text/plain": [
       "<matplotlib.figure.Figure at 0x10af6ed10>"
      ]
     },
     "metadata": {},
     "output_type": "display_data"
    }
   ],
   "source": [
    "m = movies\n",
    "m = m['duration']\n",
    "myplt = m.plot(kind='hist')"
   ]
  },
  {
   "cell_type": "code",
   "execution_count": 32,
   "metadata": {
    "collapsed": false
   },
   "outputs": [
    {
     "data": {
      "text/plain": [
       "<matplotlib.rc_context at 0x10cb44f10>"
      ]
     },
     "execution_count": 32,
     "metadata": {},
     "output_type": "execute_result"
    },
    {
     "data": {
      "image/png": "[encoded data removed]",
      "text/plain": [
       "<matplotlib.figure.Figure at 0x10cb44e90>"
      ]
     },
     "metadata": {},
     "output_type": "display_data"
    }
   ],
   "source": [
    "plt.hist(movies['duration'])\n",
    "#plt.axis([0, 6, 0, 20])\n",
    "#plt.show()\n",
    "plt.xkcd()"
   ]
  },
  {
   "cell_type": "markdown",
   "metadata": {},
   "source": [
    "### use a box plot to display that same data"
   ]
  },
  {
   "cell_type": "code",
   "execution_count": 32,
   "metadata": {
    "collapsed": false
   },
   "outputs": [
    {
     "data": {
      "text/plain": [
       "<matplotlib.axes._subplots.AxesSubplot at 0x10bfad790>"
      ]
     },
     "execution_count": 32,
     "metadata": {},
     "output_type": "execute_result"
    },
    {
     "data": {
      "image/png": "[encoded data removed]",
      "text/plain": [
       "<matplotlib.figure.Figure at 0x103e11850>"
      ]
     },
     "metadata": {},
     "output_type": "display_data"
    }
   ],
   "source": [
    "m = movies\n",
    "m = m['duration']\n",
    "m.plot(kind='box')"
   ]
  },
  {
   "cell_type": "markdown",
   "metadata": {},
   "source": [
    "## Part #2"
   ]
  },
  {
   "cell_type": "markdown",
   "metadata": {},
   "source": [
    "### count how many movies have each of the content ratings"
   ]
  },
  {
   "cell_type": "code",
   "execution_count": 33,
   "metadata": {
    "collapsed": false
   },
   "outputs": [
    {
     "data": {
      "text/plain": [
       "R            460\n",
       "PG-13        189\n",
       "PG           123\n",
       "NOT RATED     65\n",
       "APPROVED      47\n",
       "UNRATED       38\n",
       "G             32\n",
       "PASSED         7\n",
       "NC-17          7\n",
       "X              4\n",
       "GP             3\n",
       "TV-MA          1\n",
       "Name: content_rating, dtype: int64"
      ]
     },
     "execution_count": 33,
     "metadata": {},
     "output_type": "execute_result"
    }
   ],
   "source": [
    "m = movies\n",
    "m['content_rating'].value_counts()"
   ]
  },
  {
   "cell_type": "markdown",
   "metadata": {},
   "source": [
    "### use a visualization to display that same data, including a title and x and y labels"
   ]
  },
  {
   "cell_type": "code",
   "execution_count": 36,
   "metadata": {
    "collapsed": false
   },
   "outputs": [
    {
     "data": {
      "text/plain": [
       "<matplotlib.text.Text at 0x10c3bd3d0>"
      ]
     },
     "execution_count": 36,
     "metadata": {},
     "output_type": "execute_result"
    },
    {
     "data": {
      "image/png": "[encoded data removed]",
      "text/plain": [
       "<matplotlib.figure.Figure at 0x10c2de850>"
      ]
     },
     "metadata": {},
     "output_type": "display_data"
    }
   ],
   "source": [
    "m = movies\n",
    "m['content_rating'].value_counts().plot(kind='bar')\n",
    "plt.xlabel(\"Rating\")\n",
    "plt.ylabel(\"Number of movies\")\n",
    "plt.title(\"The Number of Movies in IMDB Top 1000 by Rating\")"
   ]
  },
  {
   "cell_type": "markdown",
   "metadata": {},
   "source": [
    "### convert the following content ratings to \"UNRATED\": NOT RATED, APPROVED, PASSED, GP"
   ]
  },
  {
   "cell_type": "code",
   "execution_count": 37,
   "metadata": {
    "collapsed": false
   },
   "outputs": [
    {
     "data": {
      "text/html": [
       "<div>\n",
       "<table border=\"1\" class=\"dataframe\">\n",
       "  <thead>\n",
       "    <tr style=\"text-align: right;\">\n",
       "      <th></th>\n",
       "      <th>star_rating</th>\n",
       "      <th>title</th>\n",
       "      <th>content_rating</th>\n",
       "      <th>genre</th>\n",
       "      <th>duration</th>\n",
       "      <th>actors_list</th>\n",
       "    </tr>\n",
       "  </thead>\n",
       "  <tbody>\n",
       "    <tr>\n",
       "      <th>0</th>\n",
       "      <td>9.3</td>\n",
       "      <td>The Shawshank Redemption</td>\n",
       "      <td>R</td>\n",
       "      <td>Crime</td>\n",
       "      <td>142</td>\n",
       "      <td>[u'Tim Robbins', u'Morgan Freeman', u'Bob Gunt...</td>\n",
       "    </tr>\n",
       "    <tr>\n",
       "      <th>1</th>\n",
       "      <td>9.2</td>\n",
       "      <td>The Godfather</td>\n",
       "      <td>R</td>\n",
       "      <td>Crime</td>\n",
       "      <td>175</td>\n",
       "      <td>[u'Marlon Brando', u'Al Pacino', u'James Caan']</td>\n",
       "    </tr>\n",
       "    <tr>\n",
       "      <th>2</th>\n",
       "      <td>9.1</td>\n",
       "      <td>The Godfather: Part II</td>\n",
       "      <td>R</td>\n",
       "      <td>Crime</td>\n",
       "      <td>200</td>\n",
       "      <td>[u'Al Pacino', u'Robert De Niro', u'Robert Duv...</td>\n",
       "    </tr>\n",
       "    <tr>\n",
       "      <th>3</th>\n",
       "      <td>9.0</td>\n",
       "      <td>The Dark Knight</td>\n",
       "      <td>PG-13</td>\n",
       "      <td>Action</td>\n",
       "      <td>152</td>\n",
       "      <td>[u'Christian Bale', u'Heath Ledger', u'Aaron E...</td>\n",
       "    </tr>\n",
       "    <tr>\n",
       "      <th>4</th>\n",
       "      <td>8.9</td>\n",
       "      <td>Pulp Fiction</td>\n",
       "      <td>R</td>\n",
       "      <td>Crime</td>\n",
       "      <td>154</td>\n",
       "      <td>[u'John Travolta', u'Uma Thurman', u'Samuel L....</td>\n",
       "    </tr>\n",
       "    <tr>\n",
       "      <th>5</th>\n",
       "      <td>8.9</td>\n",
       "      <td>12 Angry Men</td>\n",
       "      <td>UNRATED</td>\n",
       "      <td>Drama</td>\n",
       "      <td>96</td>\n",
       "      <td>[u'Henry Fonda', u'Lee J. Cobb', u'Martin Bals...</td>\n",
       "    </tr>\n",
       "    <tr>\n",
       "      <th>6</th>\n",
       "      <td>8.9</td>\n",
       "      <td>The Good, the Bad and the Ugly</td>\n",
       "      <td>UNRATED</td>\n",
       "      <td>Western</td>\n",
       "      <td>161</td>\n",
       "      <td>[u'Clint Eastwood', u'Eli Wallach', u'Lee Van ...</td>\n",
       "    </tr>\n",
       "    <tr>\n",
       "      <th>7</th>\n",
       "      <td>8.9</td>\n",
       "      <td>The Lord of the Rings: The Return of the King</td>\n",
       "      <td>PG-13</td>\n",
       "      <td>Adventure</td>\n",
       "      <td>201</td>\n",
       "      <td>[u'Elijah Wood', u'Viggo Mortensen', u'Ian McK...</td>\n",
       "    </tr>\n",
       "    <tr>\n",
       "      <th>8</th>\n",
       "      <td>8.9</td>\n",
       "      <td>Schindler's List</td>\n",
       "      <td>R</td>\n",
       "      <td>Biography</td>\n",
       "      <td>195</td>\n",
       "      <td>[u'Liam Neeson', u'Ralph Fiennes', u'Ben Kings...</td>\n",
       "    </tr>\n",
       "    <tr>\n",
       "      <th>9</th>\n",
       "      <td>8.9</td>\n",
       "      <td>Fight Club</td>\n",
       "      <td>R</td>\n",
       "      <td>Drama</td>\n",
       "      <td>139</td>\n",
       "      <td>[u'Brad Pitt', u'Edward Norton', u'Helena Bonh...</td>\n",
       "    </tr>\n",
       "    <tr>\n",
       "      <th>10</th>\n",
       "      <td>8.8</td>\n",
       "      <td>The Lord of the Rings: The Fellowship of the Ring</td>\n",
       "      <td>PG-13</td>\n",
       "      <td>Adventure</td>\n",
       "      <td>178</td>\n",
       "      <td>[u'Elijah Wood', u'Ian McKellen', u'Orlando Bl...</td>\n",
       "    </tr>\n",
       "    <tr>\n",
       "      <th>11</th>\n",
       "      <td>8.8</td>\n",
       "      <td>Inception</td>\n",
       "      <td>PG-13</td>\n",
       "      <td>Action</td>\n",
       "      <td>148</td>\n",
       "      <td>[u'Leonardo DiCaprio', u'Joseph Gordon-Levitt'...</td>\n",
       "    </tr>\n",
       "    <tr>\n",
       "      <th>12</th>\n",
       "      <td>8.8</td>\n",
       "      <td>Star Wars: Episode V - The Empire Strikes Back</td>\n",
       "      <td>PG</td>\n",
       "      <td>Action</td>\n",
       "      <td>124</td>\n",
       "      <td>[u'Mark Hamill', u'Harrison Ford', u'Carrie Fi...</td>\n",
       "    </tr>\n",
       "    <tr>\n",
       "      <th>13</th>\n",
       "      <td>8.8</td>\n",
       "      <td>Forrest Gump</td>\n",
       "      <td>PG-13</td>\n",
       "      <td>Drama</td>\n",
       "      <td>142</td>\n",
       "      <td>[u'Tom Hanks', u'Robin Wright', u'Gary Sinise']</td>\n",
       "    </tr>\n",
       "    <tr>\n",
       "      <th>14</th>\n",
       "      <td>8.8</td>\n",
       "      <td>The Lord of the Rings: The Two Towers</td>\n",
       "      <td>PG-13</td>\n",
       "      <td>Adventure</td>\n",
       "      <td>179</td>\n",
       "      <td>[u'Elijah Wood', u'Ian McKellen', u'Viggo Mort...</td>\n",
       "    </tr>\n",
       "    <tr>\n",
       "      <th>15</th>\n",
       "      <td>8.7</td>\n",
       "      <td>Interstellar</td>\n",
       "      <td>PG-13</td>\n",
       "      <td>Adventure</td>\n",
       "      <td>169</td>\n",
       "      <td>[u'Matthew McConaughey', u'Anne Hathaway', u'J...</td>\n",
       "    </tr>\n",
       "    <tr>\n",
       "      <th>16</th>\n",
       "      <td>8.7</td>\n",
       "      <td>One Flew Over the Cuckoo's Nest</td>\n",
       "      <td>R</td>\n",
       "      <td>Drama</td>\n",
       "      <td>133</td>\n",
       "      <td>[u'Jack Nicholson', u'Louise Fletcher', u'Mich...</td>\n",
       "    </tr>\n",
       "    <tr>\n",
       "      <th>17</th>\n",
       "      <td>8.7</td>\n",
       "      <td>Seven Samurai</td>\n",
       "      <td>UNRATED</td>\n",
       "      <td>Drama</td>\n",
       "      <td>207</td>\n",
       "      <td>[u'Toshir\\xf4 Mifune', u'Takashi Shimura', u'K...</td>\n",
       "    </tr>\n",
       "    <tr>\n",
       "      <th>18</th>\n",
       "      <td>8.7</td>\n",
       "      <td>Goodfellas</td>\n",
       "      <td>R</td>\n",
       "      <td>Biography</td>\n",
       "      <td>146</td>\n",
       "      <td>[u'Robert De Niro', u'Ray Liotta', u'Joe Pesci']</td>\n",
       "    </tr>\n",
       "    <tr>\n",
       "      <th>19</th>\n",
       "      <td>8.7</td>\n",
       "      <td>Star Wars</td>\n",
       "      <td>PG</td>\n",
       "      <td>Action</td>\n",
       "      <td>121</td>\n",
       "      <td>[u'Mark Hamill', u'Harrison Ford', u'Carrie Fi...</td>\n",
       "    </tr>\n",
       "    <tr>\n",
       "      <th>20</th>\n",
       "      <td>8.7</td>\n",
       "      <td>The Matrix</td>\n",
       "      <td>R</td>\n",
       "      <td>Action</td>\n",
       "      <td>136</td>\n",
       "      <td>[u'Keanu Reeves', u'Laurence Fishburne', u'Car...</td>\n",
       "    </tr>\n",
       "    <tr>\n",
       "      <th>21</th>\n",
       "      <td>8.7</td>\n",
       "      <td>City of God</td>\n",
       "      <td>R</td>\n",
       "      <td>Crime</td>\n",
       "      <td>130</td>\n",
       "      <td>[u'Alexandre Rodrigues', u'Matheus Nachtergael...</td>\n",
       "    </tr>\n",
       "    <tr>\n",
       "      <th>22</th>\n",
       "      <td>8.7</td>\n",
       "      <td>It's a Wonderful Life</td>\n",
       "      <td>UNRATED</td>\n",
       "      <td>Drama</td>\n",
       "      <td>130</td>\n",
       "      <td>[u'James Stewart', u'Donna Reed', u'Lionel Bar...</td>\n",
       "    </tr>\n",
       "    <tr>\n",
       "      <th>23</th>\n",
       "      <td>8.7</td>\n",
       "      <td>The Usual Suspects</td>\n",
       "      <td>R</td>\n",
       "      <td>Crime</td>\n",
       "      <td>106</td>\n",
       "      <td>[u'Kevin Spacey', u'Gabriel Byrne', u'Chazz Pa...</td>\n",
       "    </tr>\n",
       "    <tr>\n",
       "      <th>24</th>\n",
       "      <td>8.7</td>\n",
       "      <td>Se7en</td>\n",
       "      <td>R</td>\n",
       "      <td>Drama</td>\n",
       "      <td>127</td>\n",
       "      <td>[u'Morgan Freeman', u'Brad Pitt', u'Kevin Spac...</td>\n",
       "    </tr>\n",
       "    <tr>\n",
       "      <th>25</th>\n",
       "      <td>8.6</td>\n",
       "      <td>Life Is Beautiful</td>\n",
       "      <td>PG-13</td>\n",
       "      <td>Comedy</td>\n",
       "      <td>116</td>\n",
       "      <td>[u'Roberto Benigni', u'Nicoletta Braschi', u'G...</td>\n",
       "    </tr>\n",
       "    <tr>\n",
       "      <th>26</th>\n",
       "      <td>8.6</td>\n",
       "      <td>Once Upon a Time in the West</td>\n",
       "      <td>PG-13</td>\n",
       "      <td>Western</td>\n",
       "      <td>175</td>\n",
       "      <td>[u'Henry Fonda', u'Charles Bronson', u'Claudia...</td>\n",
       "    </tr>\n",
       "    <tr>\n",
       "      <th>27</th>\n",
       "      <td>8.6</td>\n",
       "      <td>The Silence of the Lambs</td>\n",
       "      <td>R</td>\n",
       "      <td>Drama</td>\n",
       "      <td>118</td>\n",
       "      <td>[u'Jodie Foster', u'Anthony Hopkins', u'Lawren...</td>\n",
       "    </tr>\n",
       "    <tr>\n",
       "      <th>28</th>\n",
       "      <td>8.6</td>\n",
       "      <td>Leon: The Professional</td>\n",
       "      <td>R</td>\n",
       "      <td>Crime</td>\n",
       "      <td>110</td>\n",
       "      <td>[u'Jean Reno', u'Gary Oldman', u'Natalie Portm...</td>\n",
       "    </tr>\n",
       "    <tr>\n",
       "      <th>29</th>\n",
       "      <td>8.6</td>\n",
       "      <td>City Lights</td>\n",
       "      <td>UNRATED</td>\n",
       "      <td>Comedy</td>\n",
       "      <td>87</td>\n",
       "      <td>[u'Charles Chaplin', u'Virginia Cherrill', u'F...</td>\n",
       "    </tr>\n",
       "    <tr>\n",
       "      <th>...</th>\n",
       "      <td>...</td>\n",
       "      <td>...</td>\n",
       "      <td>...</td>\n",
       "      <td>...</td>\n",
       "      <td>...</td>\n",
       "      <td>...</td>\n",
       "    </tr>\n",
       "    <tr>\n",
       "      <th>949</th>\n",
       "      <td>7.4</td>\n",
       "      <td>Home Alone</td>\n",
       "      <td>PG</td>\n",
       "      <td>Comedy</td>\n",
       "      <td>103</td>\n",
       "      <td>[u'Macaulay Culkin', u'Joe Pesci', u'Daniel St...</td>\n",
       "    </tr>\n",
       "    <tr>\n",
       "      <th>950</th>\n",
       "      <td>7.4</td>\n",
       "      <td>Bound</td>\n",
       "      <td>R</td>\n",
       "      <td>Crime</td>\n",
       "      <td>108</td>\n",
       "      <td>[u'Jennifer Tilly', u'Gina Gershon', u'Joe Pan...</td>\n",
       "    </tr>\n",
       "    <tr>\n",
       "      <th>951</th>\n",
       "      <td>7.4</td>\n",
       "      <td>Sleepy Hollow</td>\n",
       "      <td>R</td>\n",
       "      <td>Drama</td>\n",
       "      <td>105</td>\n",
       "      <td>[u'Johnny Depp', u'Christina Ricci', u'Miranda...</td>\n",
       "    </tr>\n",
       "    <tr>\n",
       "      <th>952</th>\n",
       "      <td>7.4</td>\n",
       "      <td>Pirate Radio</td>\n",
       "      <td>R</td>\n",
       "      <td>Comedy</td>\n",
       "      <td>117</td>\n",
       "      <td>[u'Philip Seymour Hoffman', u'Bill Nighy', u'N...</td>\n",
       "    </tr>\n",
       "    <tr>\n",
       "      <th>953</th>\n",
       "      <td>7.4</td>\n",
       "      <td>The NeverEnding Story</td>\n",
       "      <td>PG</td>\n",
       "      <td>Adventure</td>\n",
       "      <td>102</td>\n",
       "      <td>[u'Noah Hathaway', u'Barret Oliver', u'Tami St...</td>\n",
       "    </tr>\n",
       "    <tr>\n",
       "      <th>954</th>\n",
       "      <td>7.4</td>\n",
       "      <td>X-Men</td>\n",
       "      <td>PG-13</td>\n",
       "      <td>Action</td>\n",
       "      <td>104</td>\n",
       "      <td>[u'Patrick Stewart', u'Hugh Jackman', u'Ian Mc...</td>\n",
       "    </tr>\n",
       "    <tr>\n",
       "      <th>955</th>\n",
       "      <td>7.4</td>\n",
       "      <td>Zero Dark Thirty</td>\n",
       "      <td>R</td>\n",
       "      <td>Drama</td>\n",
       "      <td>157</td>\n",
       "      <td>[u'Jessica Chastain', u'Joel Edgerton', u'Chri...</td>\n",
       "    </tr>\n",
       "    <tr>\n",
       "      <th>956</th>\n",
       "      <td>7.4</td>\n",
       "      <td>Manhattan Murder Mystery</td>\n",
       "      <td>PG</td>\n",
       "      <td>Comedy</td>\n",
       "      <td>104</td>\n",
       "      <td>[u'Woody Allen', u'Diane Keaton', u'Jerry Adler']</td>\n",
       "    </tr>\n",
       "    <tr>\n",
       "      <th>957</th>\n",
       "      <td>7.4</td>\n",
       "      <td>National Lampoon's Vacation</td>\n",
       "      <td>R</td>\n",
       "      <td>Comedy</td>\n",
       "      <td>98</td>\n",
       "      <td>[u'Chevy Chase', u\"Beverly D'Angelo\", u'Imogen...</td>\n",
       "    </tr>\n",
       "    <tr>\n",
       "      <th>958</th>\n",
       "      <td>7.4</td>\n",
       "      <td>My Sister's Keeper</td>\n",
       "      <td>PG-13</td>\n",
       "      <td>Drama</td>\n",
       "      <td>109</td>\n",
       "      <td>[u'Cameron Diaz', u'Abigail Breslin', u'Alec B...</td>\n",
       "    </tr>\n",
       "    <tr>\n",
       "      <th>959</th>\n",
       "      <td>7.4</td>\n",
       "      <td>Deconstructing Harry</td>\n",
       "      <td>R</td>\n",
       "      <td>Comedy</td>\n",
       "      <td>96</td>\n",
       "      <td>[u'Woody Allen', u'Judy Davis', u'Julia Louis-...</td>\n",
       "    </tr>\n",
       "    <tr>\n",
       "      <th>960</th>\n",
       "      <td>7.4</td>\n",
       "      <td>The Way Way Back</td>\n",
       "      <td>PG-13</td>\n",
       "      <td>Comedy</td>\n",
       "      <td>103</td>\n",
       "      <td>[u'Steve Carell', u'Toni Collette', u'Allison ...</td>\n",
       "    </tr>\n",
       "    <tr>\n",
       "      <th>961</th>\n",
       "      <td>7.4</td>\n",
       "      <td>Capote</td>\n",
       "      <td>R</td>\n",
       "      <td>Biography</td>\n",
       "      <td>114</td>\n",
       "      <td>[u'Philip Seymour Hoffman', u'Clifton Collins ...</td>\n",
       "    </tr>\n",
       "    <tr>\n",
       "      <th>962</th>\n",
       "      <td>7.4</td>\n",
       "      <td>Driving Miss Daisy</td>\n",
       "      <td>PG</td>\n",
       "      <td>Comedy</td>\n",
       "      <td>99</td>\n",
       "      <td>[u'Morgan Freeman', u'Jessica Tandy', u'Dan Ay...</td>\n",
       "    </tr>\n",
       "    <tr>\n",
       "      <th>963</th>\n",
       "      <td>7.4</td>\n",
       "      <td>La Femme Nikita</td>\n",
       "      <td>R</td>\n",
       "      <td>Action</td>\n",
       "      <td>118</td>\n",
       "      <td>[u'Anne Parillaud', u'Marc Duret', u'Patrick F...</td>\n",
       "    </tr>\n",
       "    <tr>\n",
       "      <th>964</th>\n",
       "      <td>7.4</td>\n",
       "      <td>Lincoln</td>\n",
       "      <td>PG-13</td>\n",
       "      <td>Biography</td>\n",
       "      <td>150</td>\n",
       "      <td>[u'Daniel Day-Lewis', u'Sally Field', u'David ...</td>\n",
       "    </tr>\n",
       "    <tr>\n",
       "      <th>965</th>\n",
       "      <td>7.4</td>\n",
       "      <td>Limitless</td>\n",
       "      <td>PG-13</td>\n",
       "      <td>Mystery</td>\n",
       "      <td>105</td>\n",
       "      <td>[u'Bradley Cooper', u'Anna Friel', u'Abbie Cor...</td>\n",
       "    </tr>\n",
       "    <tr>\n",
       "      <th>966</th>\n",
       "      <td>7.4</td>\n",
       "      <td>The Simpsons Movie</td>\n",
       "      <td>PG-13</td>\n",
       "      <td>Animation</td>\n",
       "      <td>87</td>\n",
       "      <td>[u'Dan Castellaneta', u'Julie Kavner', u'Nancy...</td>\n",
       "    </tr>\n",
       "    <tr>\n",
       "      <th>967</th>\n",
       "      <td>7.4</td>\n",
       "      <td>The Rock</td>\n",
       "      <td>R</td>\n",
       "      <td>Action</td>\n",
       "      <td>136</td>\n",
       "      <td>[u'Sean Connery', u'Nicolas Cage', u'Ed Harris']</td>\n",
       "    </tr>\n",
       "    <tr>\n",
       "      <th>968</th>\n",
       "      <td>7.4</td>\n",
       "      <td>The English Patient</td>\n",
       "      <td>R</td>\n",
       "      <td>Drama</td>\n",
       "      <td>162</td>\n",
       "      <td>[u'Ralph Fiennes', u'Juliette Binoche', u'Will...</td>\n",
       "    </tr>\n",
       "    <tr>\n",
       "      <th>969</th>\n",
       "      <td>7.4</td>\n",
       "      <td>Law Abiding Citizen</td>\n",
       "      <td>R</td>\n",
       "      <td>Crime</td>\n",
       "      <td>109</td>\n",
       "      <td>[u'Gerard Butler', u'Jamie Foxx', u'Leslie Bibb']</td>\n",
       "    </tr>\n",
       "    <tr>\n",
       "      <th>970</th>\n",
       "      <td>7.4</td>\n",
       "      <td>Wonder Boys</td>\n",
       "      <td>R</td>\n",
       "      <td>Drama</td>\n",
       "      <td>107</td>\n",
       "      <td>[u'Michael Douglas', u'Tobey Maguire', u'Franc...</td>\n",
       "    </tr>\n",
       "    <tr>\n",
       "      <th>971</th>\n",
       "      <td>7.4</td>\n",
       "      <td>Death at a Funeral</td>\n",
       "      <td>R</td>\n",
       "      <td>Comedy</td>\n",
       "      <td>90</td>\n",
       "      <td>[u'Matthew Macfadyen', u'Peter Dinklage', u'Ew...</td>\n",
       "    </tr>\n",
       "    <tr>\n",
       "      <th>972</th>\n",
       "      <td>7.4</td>\n",
       "      <td>Blue Valentine</td>\n",
       "      <td>NC-17</td>\n",
       "      <td>Drama</td>\n",
       "      <td>112</td>\n",
       "      <td>[u'Ryan Gosling', u'Michelle Williams', u'John...</td>\n",
       "    </tr>\n",
       "    <tr>\n",
       "      <th>973</th>\n",
       "      <td>7.4</td>\n",
       "      <td>The Cider House Rules</td>\n",
       "      <td>PG-13</td>\n",
       "      <td>Drama</td>\n",
       "      <td>126</td>\n",
       "      <td>[u'Tobey Maguire', u'Charlize Theron', u'Micha...</td>\n",
       "    </tr>\n",
       "    <tr>\n",
       "      <th>974</th>\n",
       "      <td>7.4</td>\n",
       "      <td>Tootsie</td>\n",
       "      <td>PG</td>\n",
       "      <td>Comedy</td>\n",
       "      <td>116</td>\n",
       "      <td>[u'Dustin Hoffman', u'Jessica Lange', u'Teri G...</td>\n",
       "    </tr>\n",
       "    <tr>\n",
       "      <th>975</th>\n",
       "      <td>7.4</td>\n",
       "      <td>Back to the Future Part III</td>\n",
       "      <td>PG</td>\n",
       "      <td>Adventure</td>\n",
       "      <td>118</td>\n",
       "      <td>[u'Michael J. Fox', u'Christopher Lloyd', u'Ma...</td>\n",
       "    </tr>\n",
       "    <tr>\n",
       "      <th>976</th>\n",
       "      <td>7.4</td>\n",
       "      <td>Master and Commander: The Far Side of the World</td>\n",
       "      <td>PG-13</td>\n",
       "      <td>Action</td>\n",
       "      <td>138</td>\n",
       "      <td>[u'Russell Crowe', u'Paul Bettany', u'Billy Bo...</td>\n",
       "    </tr>\n",
       "    <tr>\n",
       "      <th>977</th>\n",
       "      <td>7.4</td>\n",
       "      <td>Poltergeist</td>\n",
       "      <td>PG</td>\n",
       "      <td>Horror</td>\n",
       "      <td>114</td>\n",
       "      <td>[u'JoBeth Williams', u\"Heather O'Rourke\", u'Cr...</td>\n",
       "    </tr>\n",
       "    <tr>\n",
       "      <th>978</th>\n",
       "      <td>7.4</td>\n",
       "      <td>Wall Street</td>\n",
       "      <td>R</td>\n",
       "      <td>Crime</td>\n",
       "      <td>126</td>\n",
       "      <td>[u'Charlie Sheen', u'Michael Douglas', u'Tamar...</td>\n",
       "    </tr>\n",
       "  </tbody>\n",
       "</table>\n",
       "<p>979 rows × 6 columns</p>\n",
       "</div>"
      ],
      "text/plain": [
       "     star_rating                                              title  \\\n",
       "0            9.3                           The Shawshank Redemption   \n",
       "1            9.2                                      The Godfather   \n",
       "2            9.1                             The Godfather: Part II   \n",
       "3            9.0                                    The Dark Knight   \n",
       "4            8.9                                       Pulp Fiction   \n",
       "5            8.9                                       12 Angry Men   \n",
       "6            8.9                     The Good, the Bad and the Ugly   \n",
       "7            8.9      The Lord of the Rings: The Return of the King   \n",
       "8            8.9                                   Schindler's List   \n",
       "9            8.9                                         Fight Club   \n",
       "10           8.8  The Lord of the Rings: The Fellowship of the Ring   \n",
       "11           8.8                                          Inception   \n",
       "12           8.8     Star Wars: Episode V - The Empire Strikes Back   \n",
       "13           8.8                                       Forrest Gump   \n",
       "14           8.8              The Lord of the Rings: The Two Towers   \n",
       "15           8.7                                       Interstellar   \n",
       "16           8.7                    One Flew Over the Cuckoo's Nest   \n",
       "17           8.7                                      Seven Samurai   \n",
       "18           8.7                                         Goodfellas   \n",
       "19           8.7                                          Star Wars   \n",
       "20           8.7                                         The Matrix   \n",
       "21           8.7                                        City of God   \n",
       "22           8.7                              It's a Wonderful Life   \n",
       "23           8.7                                 The Usual Suspects   \n",
       "24           8.7                                              Se7en   \n",
       "25           8.6                                  Life Is Beautiful   \n",
       "26           8.6                       Once Upon a Time in the West   \n",
       "27           8.6                           The Silence of the Lambs   \n",
       "28           8.6                             Leon: The Professional   \n",
       "29           8.6                                        City Lights   \n",
       "..           ...                                                ...   \n",
       "949          7.4                                         Home Alone   \n",
       "950          7.4                                              Bound   \n",
       "951          7.4                                      Sleepy Hollow   \n",
       "952          7.4                                       Pirate Radio   \n",
       "953          7.4                              The NeverEnding Story   \n",
       "954          7.4                                              X-Men   \n",
       "955          7.4                                   Zero Dark Thirty   \n",
       "956          7.4                           Manhattan Murder Mystery   \n",
       "957          7.4                        National Lampoon's Vacation   \n",
       "958          7.4                                 My Sister's Keeper   \n",
       "959          7.4                               Deconstructing Harry   \n",
       "960          7.4                                   The Way Way Back   \n",
       "961          7.4                                             Capote   \n",
       "962          7.4                                 Driving Miss Daisy   \n",
       "963          7.4                                    La Femme Nikita   \n",
       "964          7.4                                            Lincoln   \n",
       "965          7.4                                          Limitless   \n",
       "966          7.4                                 The Simpsons Movie   \n",
       "967          7.4                                           The Rock   \n",
       "968          7.4                                The English Patient   \n",
       "969          7.4                                Law Abiding Citizen   \n",
       "970          7.4                                        Wonder Boys   \n",
       "971          7.4                                 Death at a Funeral   \n",
       "972          7.4                                     Blue Valentine   \n",
       "973          7.4                              The Cider House Rules   \n",
       "974          7.4                                            Tootsie   \n",
       "975          7.4                        Back to the Future Part III   \n",
       "976          7.4    Master and Commander: The Far Side of the World   \n",
       "977          7.4                                        Poltergeist   \n",
       "978          7.4                                        Wall Street   \n",
       "\n",
       "    content_rating      genre  duration  \\\n",
       "0                R      Crime       142   \n",
       "1                R      Crime       175   \n",
       "2                R      Crime       200   \n",
       "3            PG-13     Action       152   \n",
       "4                R      Crime       154   \n",
       "5          UNRATED      Drama        96   \n",
       "6          UNRATED    Western       161   \n",
       "7            PG-13  Adventure       201   \n",
       "8                R  Biography       195   \n",
       "9                R      Drama       139   \n",
       "10           PG-13  Adventure       178   \n",
       "11           PG-13     Action       148   \n",
       "12              PG     Action       124   \n",
       "13           PG-13      Drama       142   \n",
       "14           PG-13  Adventure       179   \n",
       "15           PG-13  Adventure       169   \n",
       "16               R      Drama       133   \n",
       "17         UNRATED      Drama       207   \n",
       "18               R  Biography       146   \n",
       "19              PG     Action       121   \n",
       "20               R     Action       136   \n",
       "21               R      Crime       130   \n",
       "22         UNRATED      Drama       130   \n",
       "23               R      Crime       106   \n",
       "24               R      Drama       127   \n",
       "25           PG-13     Comedy       116   \n",
       "26           PG-13    Western       175   \n",
       "27               R      Drama       118   \n",
       "28               R      Crime       110   \n",
       "29         UNRATED     Comedy        87   \n",
       "..             ...        ...       ...   \n",
       "949             PG     Comedy       103   \n",
       "950              R      Crime       108   \n",
       "951              R      Drama       105   \n",
       "952              R     Comedy       117   \n",
       "953             PG  Adventure       102   \n",
       "954          PG-13     Action       104   \n",
       "955              R      Drama       157   \n",
       "956             PG     Comedy       104   \n",
       "957              R     Comedy        98   \n",
       "958          PG-13      Drama       109   \n",
       "959              R     Comedy        96   \n",
       "960          PG-13     Comedy       103   \n",
       "961              R  Biography       114   \n",
       "962             PG     Comedy        99   \n",
       "963              R     Action       118   \n",
       "964          PG-13  Biography       150   \n",
       "965          PG-13    Mystery       105   \n",
       "966          PG-13  Animation        87   \n",
       "967              R     Action       136   \n",
       "968              R      Drama       162   \n",
       "969              R      Crime       109   \n",
       "970              R      Drama       107   \n",
       "971              R     Comedy        90   \n",
       "972          NC-17      Drama       112   \n",
       "973          PG-13      Drama       126   \n",
       "974             PG     Comedy       116   \n",
       "975             PG  Adventure       118   \n",
       "976          PG-13     Action       138   \n",
       "977             PG     Horror       114   \n",
       "978              R      Crime       126   \n",
       "\n",
       "                                           actors_list  \n",
       "0    [u'Tim Robbins', u'Morgan Freeman', u'Bob Gunt...  \n",
       "1      [u'Marlon Brando', u'Al Pacino', u'James Caan']  \n",
       "2    [u'Al Pacino', u'Robert De Niro', u'Robert Duv...  \n",
       "3    [u'Christian Bale', u'Heath Ledger', u'Aaron E...  \n",
       "4    [u'John Travolta', u'Uma Thurman', u'Samuel L....  \n",
       "5    [u'Henry Fonda', u'Lee J. Cobb', u'Martin Bals...  \n",
       "6    [u'Clint Eastwood', u'Eli Wallach', u'Lee Van ...  \n",
       "7    [u'Elijah Wood', u'Viggo Mortensen', u'Ian McK...  \n",
       "8    [u'Liam Neeson', u'Ralph Fiennes', u'Ben Kings...  \n",
       "9    [u'Brad Pitt', u'Edward Norton', u'Helena Bonh...  \n",
       "10   [u'Elijah Wood', u'Ian McKellen', u'Orlando Bl...  \n",
       "11   [u'Leonardo DiCaprio', u'Joseph Gordon-Levitt'...  \n",
       "12   [u'Mark Hamill', u'Harrison Ford', u'Carrie Fi...  \n",
       "13     [u'Tom Hanks', u'Robin Wright', u'Gary Sinise']  \n",
       "14   [u'Elijah Wood', u'Ian McKellen', u'Viggo Mort...  \n",
       "15   [u'Matthew McConaughey', u'Anne Hathaway', u'J...  \n",
       "16   [u'Jack Nicholson', u'Louise Fletcher', u'Mich...  \n",
       "17   [u'Toshir\\xf4 Mifune', u'Takashi Shimura', u'K...  \n",
       "18    [u'Robert De Niro', u'Ray Liotta', u'Joe Pesci']  \n",
       "19   [u'Mark Hamill', u'Harrison Ford', u'Carrie Fi...  \n",
       "20   [u'Keanu Reeves', u'Laurence Fishburne', u'Car...  \n",
       "21   [u'Alexandre Rodrigues', u'Matheus Nachtergael...  \n",
       "22   [u'James Stewart', u'Donna Reed', u'Lionel Bar...  \n",
       "23   [u'Kevin Spacey', u'Gabriel Byrne', u'Chazz Pa...  \n",
       "24   [u'Morgan Freeman', u'Brad Pitt', u'Kevin Spac...  \n",
       "25   [u'Roberto Benigni', u'Nicoletta Braschi', u'G...  \n",
       "26   [u'Henry Fonda', u'Charles Bronson', u'Claudia...  \n",
       "27   [u'Jodie Foster', u'Anthony Hopkins', u'Lawren...  \n",
       "28   [u'Jean Reno', u'Gary Oldman', u'Natalie Portm...  \n",
       "29   [u'Charles Chaplin', u'Virginia Cherrill', u'F...  \n",
       "..                                                 ...  \n",
       "949  [u'Macaulay Culkin', u'Joe Pesci', u'Daniel St...  \n",
       "950  [u'Jennifer Tilly', u'Gina Gershon', u'Joe Pan...  \n",
       "951  [u'Johnny Depp', u'Christina Ricci', u'Miranda...  \n",
       "952  [u'Philip Seymour Hoffman', u'Bill Nighy', u'N...  \n",
       "953  [u'Noah Hathaway', u'Barret Oliver', u'Tami St...  \n",
       "954  [u'Patrick Stewart', u'Hugh Jackman', u'Ian Mc...  \n",
       "955  [u'Jessica Chastain', u'Joel Edgerton', u'Chri...  \n",
       "956  [u'Woody Allen', u'Diane Keaton', u'Jerry Adler']  \n",
       "957  [u'Chevy Chase', u\"Beverly D'Angelo\", u'Imogen...  \n",
       "958  [u'Cameron Diaz', u'Abigail Breslin', u'Alec B...  \n",
       "959  [u'Woody Allen', u'Judy Davis', u'Julia Louis-...  \n",
       "960  [u'Steve Carell', u'Toni Collette', u'Allison ...  \n",
       "961  [u'Philip Seymour Hoffman', u'Clifton Collins ...  \n",
       "962  [u'Morgan Freeman', u'Jessica Tandy', u'Dan Ay...  \n",
       "963  [u'Anne Parillaud', u'Marc Duret', u'Patrick F...  \n",
       "964  [u'Daniel Day-Lewis', u'Sally Field', u'David ...  \n",
       "965  [u'Bradley Cooper', u'Anna Friel', u'Abbie Cor...  \n",
       "966  [u'Dan Castellaneta', u'Julie Kavner', u'Nancy...  \n",
       "967   [u'Sean Connery', u'Nicolas Cage', u'Ed Harris']  \n",
       "968  [u'Ralph Fiennes', u'Juliette Binoche', u'Will...  \n",
       "969  [u'Gerard Butler', u'Jamie Foxx', u'Leslie Bibb']  \n",
       "970  [u'Michael Douglas', u'Tobey Maguire', u'Franc...  \n",
       "971  [u'Matthew Macfadyen', u'Peter Dinklage', u'Ew...  \n",
       "972  [u'Ryan Gosling', u'Michelle Williams', u'John...  \n",
       "973  [u'Tobey Maguire', u'Charlize Theron', u'Micha...  \n",
       "974  [u'Dustin Hoffman', u'Jessica Lange', u'Teri G...  \n",
       "975  [u'Michael J. Fox', u'Christopher Lloyd', u'Ma...  \n",
       "976  [u'Russell Crowe', u'Paul Bettany', u'Billy Bo...  \n",
       "977  [u'JoBeth Williams', u\"Heather O'Rourke\", u'Cr...  \n",
       "978  [u'Charlie Sheen', u'Michael Douglas', u'Tamar...  \n",
       "\n",
       "[979 rows x 6 columns]"
      ]
     },
     "execution_count": 37,
     "metadata": {},
     "output_type": "execute_result"
    }
   ],
   "source": [
    "m = movies\n",
    "m.replace([\"NOT RATED\", \"APPROVED\", \"PASSED\", \"GP\"], \"UNRATED\", inplace=True)\n",
    "m"
   ]
  },
  {
   "cell_type": "markdown",
   "metadata": {},
   "source": [
    "### convert the following content ratings to \"NC-17\": X, TV-MA"
   ]
  },
  {
   "cell_type": "code",
   "execution_count": 38,
   "metadata": {
    "collapsed": false
   },
   "outputs": [
    {
     "data": {
      "text/html": [
       "<div>\n",
       "<table border=\"1\" class=\"dataframe\">\n",
       "  <thead>\n",
       "    <tr style=\"text-align: right;\">\n",
       "      <th></th>\n",
       "      <th>star_rating</th>\n",
       "      <th>title</th>\n",
       "      <th>content_rating</th>\n",
       "      <th>genre</th>\n",
       "      <th>duration</th>\n",
       "      <th>actors_list</th>\n",
       "    </tr>\n",
       "  </thead>\n",
       "  <tbody>\n",
       "    <tr>\n",
       "      <th>0</th>\n",
       "      <td>9.3</td>\n",
       "      <td>The Shawshank Redemption</td>\n",
       "      <td>R</td>\n",
       "      <td>Crime</td>\n",
       "      <td>142</td>\n",
       "      <td>[u'Tim Robbins', u'Morgan Freeman', u'Bob Gunt...</td>\n",
       "    </tr>\n",
       "    <tr>\n",
       "      <th>1</th>\n",
       "      <td>9.2</td>\n",
       "      <td>The Godfather</td>\n",
       "      <td>R</td>\n",
       "      <td>Crime</td>\n",
       "      <td>175</td>\n",
       "      <td>[u'Marlon Brando', u'Al Pacino', u'James Caan']</td>\n",
       "    </tr>\n",
       "    <tr>\n",
       "      <th>2</th>\n",
       "      <td>9.1</td>\n",
       "      <td>The Godfather: Part II</td>\n",
       "      <td>R</td>\n",
       "      <td>Crime</td>\n",
       "      <td>200</td>\n",
       "      <td>[u'Al Pacino', u'Robert De Niro', u'Robert Duv...</td>\n",
       "    </tr>\n",
       "    <tr>\n",
       "      <th>3</th>\n",
       "      <td>9.0</td>\n",
       "      <td>The Dark Knight</td>\n",
       "      <td>PG-13</td>\n",
       "      <td>Action</td>\n",
       "      <td>152</td>\n",
       "      <td>[u'Christian Bale', u'Heath Ledger', u'Aaron E...</td>\n",
       "    </tr>\n",
       "    <tr>\n",
       "      <th>4</th>\n",
       "      <td>8.9</td>\n",
       "      <td>Pulp Fiction</td>\n",
       "      <td>R</td>\n",
       "      <td>Crime</td>\n",
       "      <td>154</td>\n",
       "      <td>[u'John Travolta', u'Uma Thurman', u'Samuel L....</td>\n",
       "    </tr>\n",
       "    <tr>\n",
       "      <th>5</th>\n",
       "      <td>8.9</td>\n",
       "      <td>12 Angry Men</td>\n",
       "      <td>UNRATED</td>\n",
       "      <td>Drama</td>\n",
       "      <td>96</td>\n",
       "      <td>[u'Henry Fonda', u'Lee J. Cobb', u'Martin Bals...</td>\n",
       "    </tr>\n",
       "    <tr>\n",
       "      <th>6</th>\n",
       "      <td>8.9</td>\n",
       "      <td>The Good, the Bad and the Ugly</td>\n",
       "      <td>UNRATED</td>\n",
       "      <td>Western</td>\n",
       "      <td>161</td>\n",
       "      <td>[u'Clint Eastwood', u'Eli Wallach', u'Lee Van ...</td>\n",
       "    </tr>\n",
       "    <tr>\n",
       "      <th>7</th>\n",
       "      <td>8.9</td>\n",
       "      <td>The Lord of the Rings: The Return of the King</td>\n",
       "      <td>PG-13</td>\n",
       "      <td>Adventure</td>\n",
       "      <td>201</td>\n",
       "      <td>[u'Elijah Wood', u'Viggo Mortensen', u'Ian McK...</td>\n",
       "    </tr>\n",
       "    <tr>\n",
       "      <th>8</th>\n",
       "      <td>8.9</td>\n",
       "      <td>Schindler's List</td>\n",
       "      <td>R</td>\n",
       "      <td>Biography</td>\n",
       "      <td>195</td>\n",
       "      <td>[u'Liam Neeson', u'Ralph Fiennes', u'Ben Kings...</td>\n",
       "    </tr>\n",
       "    <tr>\n",
       "      <th>9</th>\n",
       "      <td>8.9</td>\n",
       "      <td>Fight Club</td>\n",
       "      <td>R</td>\n",
       "      <td>Drama</td>\n",
       "      <td>139</td>\n",
       "      <td>[u'Brad Pitt', u'Edward Norton', u'Helena Bonh...</td>\n",
       "    </tr>\n",
       "    <tr>\n",
       "      <th>10</th>\n",
       "      <td>8.8</td>\n",
       "      <td>The Lord of the Rings: The Fellowship of the Ring</td>\n",
       "      <td>PG-13</td>\n",
       "      <td>Adventure</td>\n",
       "      <td>178</td>\n",
       "      <td>[u'Elijah Wood', u'Ian McKellen', u'Orlando Bl...</td>\n",
       "    </tr>\n",
       "    <tr>\n",
       "      <th>11</th>\n",
       "      <td>8.8</td>\n",
       "      <td>Inception</td>\n",
       "      <td>PG-13</td>\n",
       "      <td>Action</td>\n",
       "      <td>148</td>\n",
       "      <td>[u'Leonardo DiCaprio', u'Joseph Gordon-Levitt'...</td>\n",
       "    </tr>\n",
       "    <tr>\n",
       "      <th>12</th>\n",
       "      <td>8.8</td>\n",
       "      <td>Star Wars: Episode V - The Empire Strikes Back</td>\n",
       "      <td>PG</td>\n",
       "      <td>Action</td>\n",
       "      <td>124</td>\n",
       "      <td>[u'Mark Hamill', u'Harrison Ford', u'Carrie Fi...</td>\n",
       "    </tr>\n",
       "    <tr>\n",
       "      <th>13</th>\n",
       "      <td>8.8</td>\n",
       "      <td>Forrest Gump</td>\n",
       "      <td>PG-13</td>\n",
       "      <td>Drama</td>\n",
       "      <td>142</td>\n",
       "      <td>[u'Tom Hanks', u'Robin Wright', u'Gary Sinise']</td>\n",
       "    </tr>\n",
       "    <tr>\n",
       "      <th>14</th>\n",
       "      <td>8.8</td>\n",
       "      <td>The Lord of the Rings: The Two Towers</td>\n",
       "      <td>PG-13</td>\n",
       "      <td>Adventure</td>\n",
       "      <td>179</td>\n",
       "      <td>[u'Elijah Wood', u'Ian McKellen', u'Viggo Mort...</td>\n",
       "    </tr>\n",
       "    <tr>\n",
       "      <th>15</th>\n",
       "      <td>8.7</td>\n",
       "      <td>Interstellar</td>\n",
       "      <td>PG-13</td>\n",
       "      <td>Adventure</td>\n",
       "      <td>169</td>\n",
       "      <td>[u'Matthew McConaughey', u'Anne Hathaway', u'J...</td>\n",
       "    </tr>\n",
       "    <tr>\n",
       "      <th>16</th>\n",
       "      <td>8.7</td>\n",
       "      <td>One Flew Over the Cuckoo's Nest</td>\n",
       "      <td>R</td>\n",
       "      <td>Drama</td>\n",
       "      <td>133</td>\n",
       "      <td>[u'Jack Nicholson', u'Louise Fletcher', u'Mich...</td>\n",
       "    </tr>\n",
       "    <tr>\n",
       "      <th>17</th>\n",
       "      <td>8.7</td>\n",
       "      <td>Seven Samurai</td>\n",
       "      <td>UNRATED</td>\n",
       "      <td>Drama</td>\n",
       "      <td>207</td>\n",
       "      <td>[u'Toshir\\xf4 Mifune', u'Takashi Shimura', u'K...</td>\n",
       "    </tr>\n",
       "    <tr>\n",
       "      <th>18</th>\n",
       "      <td>8.7</td>\n",
       "      <td>Goodfellas</td>\n",
       "      <td>R</td>\n",
       "      <td>Biography</td>\n",
       "      <td>146</td>\n",
       "      <td>[u'Robert De Niro', u'Ray Liotta', u'Joe Pesci']</td>\n",
       "    </tr>\n",
       "    <tr>\n",
       "      <th>19</th>\n",
       "      <td>8.7</td>\n",
       "      <td>Star Wars</td>\n",
       "      <td>PG</td>\n",
       "      <td>Action</td>\n",
       "      <td>121</td>\n",
       "      <td>[u'Mark Hamill', u'Harrison Ford', u'Carrie Fi...</td>\n",
       "    </tr>\n",
       "    <tr>\n",
       "      <th>20</th>\n",
       "      <td>8.7</td>\n",
       "      <td>The Matrix</td>\n",
       "      <td>R</td>\n",
       "      <td>Action</td>\n",
       "      <td>136</td>\n",
       "      <td>[u'Keanu Reeves', u'Laurence Fishburne', u'Car...</td>\n",
       "    </tr>\n",
       "    <tr>\n",
       "      <th>21</th>\n",
       "      <td>8.7</td>\n",
       "      <td>City of God</td>\n",
       "      <td>R</td>\n",
       "      <td>Crime</td>\n",
       "      <td>130</td>\n",
       "      <td>[u'Alexandre Rodrigues', u'Matheus Nachtergael...</td>\n",
       "    </tr>\n",
       "    <tr>\n",
       "      <th>22</th>\n",
       "      <td>8.7</td>\n",
       "      <td>It's a Wonderful Life</td>\n",
       "      <td>UNRATED</td>\n",
       "      <td>Drama</td>\n",
       "      <td>130</td>\n",
       "      <td>[u'James Stewart', u'Donna Reed', u'Lionel Bar...</td>\n",
       "    </tr>\n",
       "    <tr>\n",
       "      <th>23</th>\n",
       "      <td>8.7</td>\n",
       "      <td>The Usual Suspects</td>\n",
       "      <td>R</td>\n",
       "      <td>Crime</td>\n",
       "      <td>106</td>\n",
       "      <td>[u'Kevin Spacey', u'Gabriel Byrne', u'Chazz Pa...</td>\n",
       "    </tr>\n",
       "    <tr>\n",
       "      <th>24</th>\n",
       "      <td>8.7</td>\n",
       "      <td>Se7en</td>\n",
       "      <td>R</td>\n",
       "      <td>Drama</td>\n",
       "      <td>127</td>\n",
       "      <td>[u'Morgan Freeman', u'Brad Pitt', u'Kevin Spac...</td>\n",
       "    </tr>\n",
       "    <tr>\n",
       "      <th>25</th>\n",
       "      <td>8.6</td>\n",
       "      <td>Life Is Beautiful</td>\n",
       "      <td>PG-13</td>\n",
       "      <td>Comedy</td>\n",
       "      <td>116</td>\n",
       "      <td>[u'Roberto Benigni', u'Nicoletta Braschi', u'G...</td>\n",
       "    </tr>\n",
       "    <tr>\n",
       "      <th>26</th>\n",
       "      <td>8.6</td>\n",
       "      <td>Once Upon a Time in the West</td>\n",
       "      <td>PG-13</td>\n",
       "      <td>Western</td>\n",
       "      <td>175</td>\n",
       "      <td>[u'Henry Fonda', u'Charles Bronson', u'Claudia...</td>\n",
       "    </tr>\n",
       "    <tr>\n",
       "      <th>27</th>\n",
       "      <td>8.6</td>\n",
       "      <td>The Silence of the Lambs</td>\n",
       "      <td>R</td>\n",
       "      <td>Drama</td>\n",
       "      <td>118</td>\n",
       "      <td>[u'Jodie Foster', u'Anthony Hopkins', u'Lawren...</td>\n",
       "    </tr>\n",
       "    <tr>\n",
       "      <th>28</th>\n",
       "      <td>8.6</td>\n",
       "      <td>Leon: The Professional</td>\n",
       "      <td>R</td>\n",
       "      <td>Crime</td>\n",
       "      <td>110</td>\n",
       "      <td>[u'Jean Reno', u'Gary Oldman', u'Natalie Portm...</td>\n",
       "    </tr>\n",
       "    <tr>\n",
       "      <th>29</th>\n",
       "      <td>8.6</td>\n",
       "      <td>City Lights</td>\n",
       "      <td>UNRATED</td>\n",
       "      <td>Comedy</td>\n",
       "      <td>87</td>\n",
       "      <td>[u'Charles Chaplin', u'Virginia Cherrill', u'F...</td>\n",
       "    </tr>\n",
       "    <tr>\n",
       "      <th>...</th>\n",
       "      <td>...</td>\n",
       "      <td>...</td>\n",
       "      <td>...</td>\n",
       "      <td>...</td>\n",
       "      <td>...</td>\n",
       "      <td>...</td>\n",
       "    </tr>\n",
       "    <tr>\n",
       "      <th>949</th>\n",
       "      <td>7.4</td>\n",
       "      <td>Home Alone</td>\n",
       "      <td>PG</td>\n",
       "      <td>Comedy</td>\n",
       "      <td>103</td>\n",
       "      <td>[u'Macaulay Culkin', u'Joe Pesci', u'Daniel St...</td>\n",
       "    </tr>\n",
       "    <tr>\n",
       "      <th>950</th>\n",
       "      <td>7.4</td>\n",
       "      <td>Bound</td>\n",
       "      <td>R</td>\n",
       "      <td>Crime</td>\n",
       "      <td>108</td>\n",
       "      <td>[u'Jennifer Tilly', u'Gina Gershon', u'Joe Pan...</td>\n",
       "    </tr>\n",
       "    <tr>\n",
       "      <th>951</th>\n",
       "      <td>7.4</td>\n",
       "      <td>Sleepy Hollow</td>\n",
       "      <td>R</td>\n",
       "      <td>Drama</td>\n",
       "      <td>105</td>\n",
       "      <td>[u'Johnny Depp', u'Christina Ricci', u'Miranda...</td>\n",
       "    </tr>\n",
       "    <tr>\n",
       "      <th>952</th>\n",
       "      <td>7.4</td>\n",
       "      <td>Pirate Radio</td>\n",
       "      <td>R</td>\n",
       "      <td>Comedy</td>\n",
       "      <td>117</td>\n",
       "      <td>[u'Philip Seymour Hoffman', u'Bill Nighy', u'N...</td>\n",
       "    </tr>\n",
       "    <tr>\n",
       "      <th>953</th>\n",
       "      <td>7.4</td>\n",
       "      <td>The NeverEnding Story</td>\n",
       "      <td>PG</td>\n",
       "      <td>Adventure</td>\n",
       "      <td>102</td>\n",
       "      <td>[u'Noah Hathaway', u'Barret Oliver', u'Tami St...</td>\n",
       "    </tr>\n",
       "    <tr>\n",
       "      <th>954</th>\n",
       "      <td>7.4</td>\n",
       "      <td>X-Men</td>\n",
       "      <td>PG-13</td>\n",
       "      <td>Action</td>\n",
       "      <td>104</td>\n",
       "      <td>[u'Patrick Stewart', u'Hugh Jackman', u'Ian Mc...</td>\n",
       "    </tr>\n",
       "    <tr>\n",
       "      <th>955</th>\n",
       "      <td>7.4</td>\n",
       "      <td>Zero Dark Thirty</td>\n",
       "      <td>R</td>\n",
       "      <td>Drama</td>\n",
       "      <td>157</td>\n",
       "      <td>[u'Jessica Chastain', u'Joel Edgerton', u'Chri...</td>\n",
       "    </tr>\n",
       "    <tr>\n",
       "      <th>956</th>\n",
       "      <td>7.4</td>\n",
       "      <td>Manhattan Murder Mystery</td>\n",
       "      <td>PG</td>\n",
       "      <td>Comedy</td>\n",
       "      <td>104</td>\n",
       "      <td>[u'Woody Allen', u'Diane Keaton', u'Jerry Adler']</td>\n",
       "    </tr>\n",
       "    <tr>\n",
       "      <th>957</th>\n",
       "      <td>7.4</td>\n",
       "      <td>National Lampoon's Vacation</td>\n",
       "      <td>R</td>\n",
       "      <td>Comedy</td>\n",
       "      <td>98</td>\n",
       "      <td>[u'Chevy Chase', u\"Beverly D'Angelo\", u'Imogen...</td>\n",
       "    </tr>\n",
       "    <tr>\n",
       "      <th>958</th>\n",
       "      <td>7.4</td>\n",
       "      <td>My Sister's Keeper</td>\n",
       "      <td>PG-13</td>\n",
       "      <td>Drama</td>\n",
       "      <td>109</td>\n",
       "      <td>[u'Cameron Diaz', u'Abigail Breslin', u'Alec B...</td>\n",
       "    </tr>\n",
       "    <tr>\n",
       "      <th>959</th>\n",
       "      <td>7.4</td>\n",
       "      <td>Deconstructing Harry</td>\n",
       "      <td>R</td>\n",
       "      <td>Comedy</td>\n",
       "      <td>96</td>\n",
       "      <td>[u'Woody Allen', u'Judy Davis', u'Julia Louis-...</td>\n",
       "    </tr>\n",
       "    <tr>\n",
       "      <th>960</th>\n",
       "      <td>7.4</td>\n",
       "      <td>The Way Way Back</td>\n",
       "      <td>PG-13</td>\n",
       "      <td>Comedy</td>\n",
       "      <td>103</td>\n",
       "      <td>[u'Steve Carell', u'Toni Collette', u'Allison ...</td>\n",
       "    </tr>\n",
       "    <tr>\n",
       "      <th>961</th>\n",
       "      <td>7.4</td>\n",
       "      <td>Capote</td>\n",
       "      <td>R</td>\n",
       "      <td>Biography</td>\n",
       "      <td>114</td>\n",
       "      <td>[u'Philip Seymour Hoffman', u'Clifton Collins ...</td>\n",
       "    </tr>\n",
       "    <tr>\n",
       "      <th>962</th>\n",
       "      <td>7.4</td>\n",
       "      <td>Driving Miss Daisy</td>\n",
       "      <td>PG</td>\n",
       "      <td>Comedy</td>\n",
       "      <td>99</td>\n",
       "      <td>[u'Morgan Freeman', u'Jessica Tandy', u'Dan Ay...</td>\n",
       "    </tr>\n",
       "    <tr>\n",
       "      <th>963</th>\n",
       "      <td>7.4</td>\n",
       "      <td>La Femme Nikita</td>\n",
       "      <td>R</td>\n",
       "      <td>Action</td>\n",
       "      <td>118</td>\n",
       "      <td>[u'Anne Parillaud', u'Marc Duret', u'Patrick F...</td>\n",
       "    </tr>\n",
       "    <tr>\n",
       "      <th>964</th>\n",
       "      <td>7.4</td>\n",
       "      <td>Lincoln</td>\n",
       "      <td>PG-13</td>\n",
       "      <td>Biography</td>\n",
       "      <td>150</td>\n",
       "      <td>[u'Daniel Day-Lewis', u'Sally Field', u'David ...</td>\n",
       "    </tr>\n",
       "    <tr>\n",
       "      <th>965</th>\n",
       "      <td>7.4</td>\n",
       "      <td>Limitless</td>\n",
       "      <td>PG-13</td>\n",
       "      <td>Mystery</td>\n",
       "      <td>105</td>\n",
       "      <td>[u'Bradley Cooper', u'Anna Friel', u'Abbie Cor...</td>\n",
       "    </tr>\n",
       "    <tr>\n",
       "      <th>966</th>\n",
       "      <td>7.4</td>\n",
       "      <td>The Simpsons Movie</td>\n",
       "      <td>PG-13</td>\n",
       "      <td>Animation</td>\n",
       "      <td>87</td>\n",
       "      <td>[u'Dan Castellaneta', u'Julie Kavner', u'Nancy...</td>\n",
       "    </tr>\n",
       "    <tr>\n",
       "      <th>967</th>\n",
       "      <td>7.4</td>\n",
       "      <td>The Rock</td>\n",
       "      <td>R</td>\n",
       "      <td>Action</td>\n",
       "      <td>136</td>\n",
       "      <td>[u'Sean Connery', u'Nicolas Cage', u'Ed Harris']</td>\n",
       "    </tr>\n",
       "    <tr>\n",
       "      <th>968</th>\n",
       "      <td>7.4</td>\n",
       "      <td>The English Patient</td>\n",
       "      <td>R</td>\n",
       "      <td>Drama</td>\n",
       "      <td>162</td>\n",
       "      <td>[u'Ralph Fiennes', u'Juliette Binoche', u'Will...</td>\n",
       "    </tr>\n",
       "    <tr>\n",
       "      <th>969</th>\n",
       "      <td>7.4</td>\n",
       "      <td>Law Abiding Citizen</td>\n",
       "      <td>R</td>\n",
       "      <td>Crime</td>\n",
       "      <td>109</td>\n",
       "      <td>[u'Gerard Butler', u'Jamie Foxx', u'Leslie Bibb']</td>\n",
       "    </tr>\n",
       "    <tr>\n",
       "      <th>970</th>\n",
       "      <td>7.4</td>\n",
       "      <td>Wonder Boys</td>\n",
       "      <td>R</td>\n",
       "      <td>Drama</td>\n",
       "      <td>107</td>\n",
       "      <td>[u'Michael Douglas', u'Tobey Maguire', u'Franc...</td>\n",
       "    </tr>\n",
       "    <tr>\n",
       "      <th>971</th>\n",
       "      <td>7.4</td>\n",
       "      <td>Death at a Funeral</td>\n",
       "      <td>R</td>\n",
       "      <td>Comedy</td>\n",
       "      <td>90</td>\n",
       "      <td>[u'Matthew Macfadyen', u'Peter Dinklage', u'Ew...</td>\n",
       "    </tr>\n",
       "    <tr>\n",
       "      <th>972</th>\n",
       "      <td>7.4</td>\n",
       "      <td>Blue Valentine</td>\n",
       "      <td>NC-17</td>\n",
       "      <td>Drama</td>\n",
       "      <td>112</td>\n",
       "      <td>[u'Ryan Gosling', u'Michelle Williams', u'John...</td>\n",
       "    </tr>\n",
       "    <tr>\n",
       "      <th>973</th>\n",
       "      <td>7.4</td>\n",
       "      <td>The Cider House Rules</td>\n",
       "      <td>PG-13</td>\n",
       "      <td>Drama</td>\n",
       "      <td>126</td>\n",
       "      <td>[u'Tobey Maguire', u'Charlize Theron', u'Micha...</td>\n",
       "    </tr>\n",
       "    <tr>\n",
       "      <th>974</th>\n",
       "      <td>7.4</td>\n",
       "      <td>Tootsie</td>\n",
       "      <td>PG</td>\n",
       "      <td>Comedy</td>\n",
       "      <td>116</td>\n",
       "      <td>[u'Dustin Hoffman', u'Jessica Lange', u'Teri G...</td>\n",
       "    </tr>\n",
       "    <tr>\n",
       "      <th>975</th>\n",
       "      <td>7.4</td>\n",
       "      <td>Back to the Future Part III</td>\n",
       "      <td>PG</td>\n",
       "      <td>Adventure</td>\n",
       "      <td>118</td>\n",
       "      <td>[u'Michael J. Fox', u'Christopher Lloyd', u'Ma...</td>\n",
       "    </tr>\n",
       "    <tr>\n",
       "      <th>976</th>\n",
       "      <td>7.4</td>\n",
       "      <td>Master and Commander: The Far Side of the World</td>\n",
       "      <td>PG-13</td>\n",
       "      <td>Action</td>\n",
       "      <td>138</td>\n",
       "      <td>[u'Russell Crowe', u'Paul Bettany', u'Billy Bo...</td>\n",
       "    </tr>\n",
       "    <tr>\n",
       "      <th>977</th>\n",
       "      <td>7.4</td>\n",
       "      <td>Poltergeist</td>\n",
       "      <td>PG</td>\n",
       "      <td>Horror</td>\n",
       "      <td>114</td>\n",
       "      <td>[u'JoBeth Williams', u\"Heather O'Rourke\", u'Cr...</td>\n",
       "    </tr>\n",
       "    <tr>\n",
       "      <th>978</th>\n",
       "      <td>7.4</td>\n",
       "      <td>Wall Street</td>\n",
       "      <td>R</td>\n",
       "      <td>Crime</td>\n",
       "      <td>126</td>\n",
       "      <td>[u'Charlie Sheen', u'Michael Douglas', u'Tamar...</td>\n",
       "    </tr>\n",
       "  </tbody>\n",
       "</table>\n",
       "<p>979 rows × 6 columns</p>\n",
       "</div>"
      ],
      "text/plain": [
       "     star_rating                                              title  \\\n",
       "0            9.3                           The Shawshank Redemption   \n",
       "1            9.2                                      The Godfather   \n",
       "2            9.1                             The Godfather: Part II   \n",
       "3            9.0                                    The Dark Knight   \n",
       "4            8.9                                       Pulp Fiction   \n",
       "5            8.9                                       12 Angry Men   \n",
       "6            8.9                     The Good, the Bad and the Ugly   \n",
       "7            8.9      The Lord of the Rings: The Return of the King   \n",
       "8            8.9                                   Schindler's List   \n",
       "9            8.9                                         Fight Club   \n",
       "10           8.8  The Lord of the Rings: The Fellowship of the Ring   \n",
       "11           8.8                                          Inception   \n",
       "12           8.8     Star Wars: Episode V - The Empire Strikes Back   \n",
       "13           8.8                                       Forrest Gump   \n",
       "14           8.8              The Lord of the Rings: The Two Towers   \n",
       "15           8.7                                       Interstellar   \n",
       "16           8.7                    One Flew Over the Cuckoo's Nest   \n",
       "17           8.7                                      Seven Samurai   \n",
       "18           8.7                                         Goodfellas   \n",
       "19           8.7                                          Star Wars   \n",
       "20           8.7                                         The Matrix   \n",
       "21           8.7                                        City of God   \n",
       "22           8.7                              It's a Wonderful Life   \n",
       "23           8.7                                 The Usual Suspects   \n",
       "24           8.7                                              Se7en   \n",
       "25           8.6                                  Life Is Beautiful   \n",
       "26           8.6                       Once Upon a Time in the West   \n",
       "27           8.6                           The Silence of the Lambs   \n",
       "28           8.6                             Leon: The Professional   \n",
       "29           8.6                                        City Lights   \n",
       "..           ...                                                ...   \n",
       "949          7.4                                         Home Alone   \n",
       "950          7.4                                              Bound   \n",
       "951          7.4                                      Sleepy Hollow   \n",
       "952          7.4                                       Pirate Radio   \n",
       "953          7.4                              The NeverEnding Story   \n",
       "954          7.4                                              X-Men   \n",
       "955          7.4                                   Zero Dark Thirty   \n",
       "956          7.4                           Manhattan Murder Mystery   \n",
       "957          7.4                        National Lampoon's Vacation   \n",
       "958          7.4                                 My Sister's Keeper   \n",
       "959          7.4                               Deconstructing Harry   \n",
       "960          7.4                                   The Way Way Back   \n",
       "961          7.4                                             Capote   \n",
       "962          7.4                                 Driving Miss Daisy   \n",
       "963          7.4                                    La Femme Nikita   \n",
       "964          7.4                                            Lincoln   \n",
       "965          7.4                                          Limitless   \n",
       "966          7.4                                 The Simpsons Movie   \n",
       "967          7.4                                           The Rock   \n",
       "968          7.4                                The English Patient   \n",
       "969          7.4                                Law Abiding Citizen   \n",
       "970          7.4                                        Wonder Boys   \n",
       "971          7.4                                 Death at a Funeral   \n",
       "972          7.4                                     Blue Valentine   \n",
       "973          7.4                              The Cider House Rules   \n",
       "974          7.4                                            Tootsie   \n",
       "975          7.4                        Back to the Future Part III   \n",
       "976          7.4    Master and Commander: The Far Side of the World   \n",
       "977          7.4                                        Poltergeist   \n",
       "978          7.4                                        Wall Street   \n",
       "\n",
       "    content_rating      genre  duration  \\\n",
       "0                R      Crime       142   \n",
       "1                R      Crime       175   \n",
       "2                R      Crime       200   \n",
       "3            PG-13     Action       152   \n",
       "4                R      Crime       154   \n",
       "5          UNRATED      Drama        96   \n",
       "6          UNRATED    Western       161   \n",
       "7            PG-13  Adventure       201   \n",
       "8                R  Biography       195   \n",
       "9                R      Drama       139   \n",
       "10           PG-13  Adventure       178   \n",
       "11           PG-13     Action       148   \n",
       "12              PG     Action       124   \n",
       "13           PG-13      Drama       142   \n",
       "14           PG-13  Adventure       179   \n",
       "15           PG-13  Adventure       169   \n",
       "16               R      Drama       133   \n",
       "17         UNRATED      Drama       207   \n",
       "18               R  Biography       146   \n",
       "19              PG     Action       121   \n",
       "20               R     Action       136   \n",
       "21               R      Crime       130   \n",
       "22         UNRATED      Drama       130   \n",
       "23               R      Crime       106   \n",
       "24               R      Drama       127   \n",
       "25           PG-13     Comedy       116   \n",
       "26           PG-13    Western       175   \n",
       "27               R      Drama       118   \n",
       "28               R      Crime       110   \n",
       "29         UNRATED     Comedy        87   \n",
       "..             ...        ...       ...   \n",
       "949             PG     Comedy       103   \n",
       "950              R      Crime       108   \n",
       "951              R      Drama       105   \n",
       "952              R     Comedy       117   \n",
       "953             PG  Adventure       102   \n",
       "954          PG-13     Action       104   \n",
       "955              R      Drama       157   \n",
       "956             PG     Comedy       104   \n",
       "957              R     Comedy        98   \n",
       "958          PG-13      Drama       109   \n",
       "959              R     Comedy        96   \n",
       "960          PG-13     Comedy       103   \n",
       "961              R  Biography       114   \n",
       "962             PG     Comedy        99   \n",
       "963              R     Action       118   \n",
       "964          PG-13  Biography       150   \n",
       "965          PG-13    Mystery       105   \n",
       "966          PG-13  Animation        87   \n",
       "967              R     Action       136   \n",
       "968              R      Drama       162   \n",
       "969              R      Crime       109   \n",
       "970              R      Drama       107   \n",
       "971              R     Comedy        90   \n",
       "972          NC-17      Drama       112   \n",
       "973          PG-13      Drama       126   \n",
       "974             PG     Comedy       116   \n",
       "975             PG  Adventure       118   \n",
       "976          PG-13     Action       138   \n",
       "977             PG     Horror       114   \n",
       "978              R      Crime       126   \n",
       "\n",
       "                                           actors_list  \n",
       "0    [u'Tim Robbins', u'Morgan Freeman', u'Bob Gunt...  \n",
       "1      [u'Marlon Brando', u'Al Pacino', u'James Caan']  \n",
       "2    [u'Al Pacino', u'Robert De Niro', u'Robert Duv...  \n",
       "3    [u'Christian Bale', u'Heath Ledger', u'Aaron E...  \n",
       "4    [u'John Travolta', u'Uma Thurman', u'Samuel L....  \n",
       "5    [u'Henry Fonda', u'Lee J. Cobb', u'Martin Bals...  \n",
       "6    [u'Clint Eastwood', u'Eli Wallach', u'Lee Van ...  \n",
       "7    [u'Elijah Wood', u'Viggo Mortensen', u'Ian McK...  \n",
       "8    [u'Liam Neeson', u'Ralph Fiennes', u'Ben Kings...  \n",
       "9    [u'Brad Pitt', u'Edward Norton', u'Helena Bonh...  \n",
       "10   [u'Elijah Wood', u'Ian McKellen', u'Orlando Bl...  \n",
       "11   [u'Leonardo DiCaprio', u'Joseph Gordon-Levitt'...  \n",
       "12   [u'Mark Hamill', u'Harrison Ford', u'Carrie Fi...  \n",
       "13     [u'Tom Hanks', u'Robin Wright', u'Gary Sinise']  \n",
       "14   [u'Elijah Wood', u'Ian McKellen', u'Viggo Mort...  \n",
       "15   [u'Matthew McConaughey', u'Anne Hathaway', u'J...  \n",
       "16   [u'Jack Nicholson', u'Louise Fletcher', u'Mich...  \n",
       "17   [u'Toshir\\xf4 Mifune', u'Takashi Shimura', u'K...  \n",
       "18    [u'Robert De Niro', u'Ray Liotta', u'Joe Pesci']  \n",
       "19   [u'Mark Hamill', u'Harrison Ford', u'Carrie Fi...  \n",
       "20   [u'Keanu Reeves', u'Laurence Fishburne', u'Car...  \n",
       "21   [u'Alexandre Rodrigues', u'Matheus Nachtergael...  \n",
       "22   [u'James Stewart', u'Donna Reed', u'Lionel Bar...  \n",
       "23   [u'Kevin Spacey', u'Gabriel Byrne', u'Chazz Pa...  \n",
       "24   [u'Morgan Freeman', u'Brad Pitt', u'Kevin Spac...  \n",
       "25   [u'Roberto Benigni', u'Nicoletta Braschi', u'G...  \n",
       "26   [u'Henry Fonda', u'Charles Bronson', u'Claudia...  \n",
       "27   [u'Jodie Foster', u'Anthony Hopkins', u'Lawren...  \n",
       "28   [u'Jean Reno', u'Gary Oldman', u'Natalie Portm...  \n",
       "29   [u'Charles Chaplin', u'Virginia Cherrill', u'F...  \n",
       "..                                                 ...  \n",
       "949  [u'Macaulay Culkin', u'Joe Pesci', u'Daniel St...  \n",
       "950  [u'Jennifer Tilly', u'Gina Gershon', u'Joe Pan...  \n",
       "951  [u'Johnny Depp', u'Christina Ricci', u'Miranda...  \n",
       "952  [u'Philip Seymour Hoffman', u'Bill Nighy', u'N...  \n",
       "953  [u'Noah Hathaway', u'Barret Oliver', u'Tami St...  \n",
       "954  [u'Patrick Stewart', u'Hugh Jackman', u'Ian Mc...  \n",
       "955  [u'Jessica Chastain', u'Joel Edgerton', u'Chri...  \n",
       "956  [u'Woody Allen', u'Diane Keaton', u'Jerry Adler']  \n",
       "957  [u'Chevy Chase', u\"Beverly D'Angelo\", u'Imogen...  \n",
       "958  [u'Cameron Diaz', u'Abigail Breslin', u'Alec B...  \n",
       "959  [u'Woody Allen', u'Judy Davis', u'Julia Louis-...  \n",
       "960  [u'Steve Carell', u'Toni Collette', u'Allison ...  \n",
       "961  [u'Philip Seymour Hoffman', u'Clifton Collins ...  \n",
       "962  [u'Morgan Freeman', u'Jessica Tandy', u'Dan Ay...  \n",
       "963  [u'Anne Parillaud', u'Marc Duret', u'Patrick F...  \n",
       "964  [u'Daniel Day-Lewis', u'Sally Field', u'David ...  \n",
       "965  [u'Bradley Cooper', u'Anna Friel', u'Abbie Cor...  \n",
       "966  [u'Dan Castellaneta', u'Julie Kavner', u'Nancy...  \n",
       "967   [u'Sean Connery', u'Nicolas Cage', u'Ed Harris']  \n",
       "968  [u'Ralph Fiennes', u'Juliette Binoche', u'Will...  \n",
       "969  [u'Gerard Butler', u'Jamie Foxx', u'Leslie Bibb']  \n",
       "970  [u'Michael Douglas', u'Tobey Maguire', u'Franc...  \n",
       "971  [u'Matthew Macfadyen', u'Peter Dinklage', u'Ew...  \n",
       "972  [u'Ryan Gosling', u'Michelle Williams', u'John...  \n",
       "973  [u'Tobey Maguire', u'Charlize Theron', u'Micha...  \n",
       "974  [u'Dustin Hoffman', u'Jessica Lange', u'Teri G...  \n",
       "975  [u'Michael J. Fox', u'Christopher Lloyd', u'Ma...  \n",
       "976  [u'Russell Crowe', u'Paul Bettany', u'Billy Bo...  \n",
       "977  [u'JoBeth Williams', u\"Heather O'Rourke\", u'Cr...  \n",
       "978  [u'Charlie Sheen', u'Michael Douglas', u'Tamar...  \n",
       "\n",
       "[979 rows x 6 columns]"
      ]
     },
     "execution_count": 38,
     "metadata": {},
     "output_type": "execute_result"
    }
   ],
   "source": [
    "m = movies\n",
    "m.replace([\"X\", \"TV-MA\"], \"NC-17\", inplace=True)\n",
    "m"
   ]
  },
  {
   "cell_type": "markdown",
   "metadata": {},
   "source": [
    "### count the number of missing values in each column"
   ]
  },
  {
   "cell_type": "code",
   "execution_count": 39,
   "metadata": {
    "collapsed": false
   },
   "outputs": [
    {
     "data": {
      "text/plain": [
       "star_rating       0\n",
       "title             0\n",
       "content_rating    3\n",
       "genre             0\n",
       "duration          0\n",
       "actors_list       0\n",
       "dtype: int64"
      ]
     },
     "execution_count": 39,
     "metadata": {},
     "output_type": "execute_result"
    }
   ],
   "source": [
    "m = movies\n",
    "m.isnull().sum()"
   ]
  },
  {
   "cell_type": "markdown",
   "metadata": {},
   "source": [
    "### if there are missing values: examine them, then fill them in with \"reasonable\" values"
   ]
  },
  {
   "cell_type": "code",
   "execution_count": 40,
   "metadata": {
    "collapsed": false
   },
   "outputs": [
    {
     "data": {
      "text/plain": [
       "star_rating       0\n",
       "title             0\n",
       "content_rating    3\n",
       "genre             0\n",
       "duration          0\n",
       "actors_list       0\n",
       "dtype: int64"
      ]
     },
     "execution_count": 40,
     "metadata": {},
     "output_type": "execute_result"
    }
   ],
   "source": [
    "m = movies\n",
    "m.isnull().sum()"
   ]
  },
  {
   "cell_type": "code",
   "execution_count": 41,
   "metadata": {
    "collapsed": false
   },
   "outputs": [
    {
     "data": {
      "text/html": [
       "<div>\n",
       "<table border=\"1\" class=\"dataframe\">\n",
       "  <thead>\n",
       "    <tr style=\"text-align: right;\">\n",
       "      <th></th>\n",
       "      <th>star_rating</th>\n",
       "      <th>title</th>\n",
       "      <th>content_rating</th>\n",
       "      <th>genre</th>\n",
       "      <th>duration</th>\n",
       "      <th>actors_list</th>\n",
       "    </tr>\n",
       "  </thead>\n",
       "  <tbody>\n",
       "    <tr>\n",
       "      <th>187</th>\n",
       "      <td>8.2</td>\n",
       "      <td>Butch Cassidy and the Sundance Kid</td>\n",
       "      <td>NaN</td>\n",
       "      <td>Biography</td>\n",
       "      <td>110</td>\n",
       "      <td>[u'Paul Newman', u'Robert Redford', u'Katharin...</td>\n",
       "    </tr>\n",
       "    <tr>\n",
       "      <th>649</th>\n",
       "      <td>7.7</td>\n",
       "      <td>Where Eagles Dare</td>\n",
       "      <td>NaN</td>\n",
       "      <td>Action</td>\n",
       "      <td>158</td>\n",
       "      <td>[u'Richard Burton', u'Clint Eastwood', u'Mary ...</td>\n",
       "    </tr>\n",
       "    <tr>\n",
       "      <th>936</th>\n",
       "      <td>7.4</td>\n",
       "      <td>True Grit</td>\n",
       "      <td>NaN</td>\n",
       "      <td>Adventure</td>\n",
       "      <td>128</td>\n",
       "      <td>[u'John Wayne', u'Kim Darby', u'Glen Campbell']</td>\n",
       "    </tr>\n",
       "  </tbody>\n",
       "</table>\n",
       "</div>"
      ],
      "text/plain": [
       "     star_rating                               title content_rating  \\\n",
       "187          8.2  Butch Cassidy and the Sundance Kid            NaN   \n",
       "649          7.7                   Where Eagles Dare            NaN   \n",
       "936          7.4                           True Grit            NaN   \n",
       "\n",
       "         genre  duration                                        actors_list  \n",
       "187  Biography       110  [u'Paul Newman', u'Robert Redford', u'Katharin...  \n",
       "649     Action       158  [u'Richard Burton', u'Clint Eastwood', u'Mary ...  \n",
       "936  Adventure       128    [u'John Wayne', u'Kim Darby', u'Glen Campbell']  "
      ]
     },
     "execution_count": 41,
     "metadata": {},
     "output_type": "execute_result"
    }
   ],
   "source": [
    "m[m.content_rating.isnull()]"
   ]
  },
  {
   "cell_type": "code",
   "execution_count": 42,
   "metadata": {
    "collapsed": false
   },
   "outputs": [],
   "source": [
    "m.fillna(\"UNRATED\", inplace=True)"
   ]
  },
  {
   "cell_type": "code",
   "execution_count": 43,
   "metadata": {
    "collapsed": false
   },
   "outputs": [
    {
     "data": {
      "text/html": [
       "<div>\n",
       "<table border=\"1\" class=\"dataframe\">\n",
       "  <thead>\n",
       "    <tr style=\"text-align: right;\">\n",
       "      <th></th>\n",
       "      <th>star_rating</th>\n",
       "      <th>title</th>\n",
       "      <th>content_rating</th>\n",
       "      <th>genre</th>\n",
       "      <th>duration</th>\n",
       "      <th>actors_list</th>\n",
       "    </tr>\n",
       "  </thead>\n",
       "  <tbody>\n",
       "  </tbody>\n",
       "</table>\n",
       "</div>"
      ],
      "text/plain": [
       "Empty DataFrame\n",
       "Columns: [star_rating, title, content_rating, genre, duration, actors_list]\n",
       "Index: []"
      ]
     },
     "execution_count": 43,
     "metadata": {},
     "output_type": "execute_result"
    }
   ],
   "source": [
    "m[m.content_rating.isnull()]"
   ]
  },
  {
   "cell_type": "code",
   "execution_count": 44,
   "metadata": {
    "collapsed": false
   },
   "outputs": [
    {
     "data": {
      "text/html": [
       "<div>\n",
       "<table border=\"1\" class=\"dataframe\">\n",
       "  <thead>\n",
       "    <tr style=\"text-align: right;\">\n",
       "      <th></th>\n",
       "      <th>star_rating</th>\n",
       "      <th>title</th>\n",
       "      <th>content_rating</th>\n",
       "      <th>genre</th>\n",
       "      <th>duration</th>\n",
       "      <th>actors_list</th>\n",
       "    </tr>\n",
       "  </thead>\n",
       "  <tbody>\n",
       "    <tr>\n",
       "      <th>187</th>\n",
       "      <td>8.2</td>\n",
       "      <td>Butch Cassidy and the Sundance Kid</td>\n",
       "      <td>UNRATED</td>\n",
       "      <td>Biography</td>\n",
       "      <td>110</td>\n",
       "      <td>[u'Paul Newman', u'Robert Redford', u'Katharin...</td>\n",
       "    </tr>\n",
       "    <tr>\n",
       "      <th>649</th>\n",
       "      <td>7.7</td>\n",
       "      <td>Where Eagles Dare</td>\n",
       "      <td>UNRATED</td>\n",
       "      <td>Action</td>\n",
       "      <td>158</td>\n",
       "      <td>[u'Richard Burton', u'Clint Eastwood', u'Mary ...</td>\n",
       "    </tr>\n",
       "    <tr>\n",
       "      <th>936</th>\n",
       "      <td>7.4</td>\n",
       "      <td>True Grit</td>\n",
       "      <td>UNRATED</td>\n",
       "      <td>Adventure</td>\n",
       "      <td>128</td>\n",
       "      <td>[u'John Wayne', u'Kim Darby', u'Glen Campbell']</td>\n",
       "    </tr>\n",
       "  </tbody>\n",
       "</table>\n",
       "</div>"
      ],
      "text/plain": [
       "     star_rating                               title content_rating  \\\n",
       "187          8.2  Butch Cassidy and the Sundance Kid        UNRATED   \n",
       "649          7.7                   Where Eagles Dare        UNRATED   \n",
       "936          7.4                           True Grit        UNRATED   \n",
       "\n",
       "         genre  duration                                        actors_list  \n",
       "187  Biography       110  [u'Paul Newman', u'Robert Redford', u'Katharin...  \n",
       "649     Action       158  [u'Richard Burton', u'Clint Eastwood', u'Mary ...  \n",
       "936  Adventure       128    [u'John Wayne', u'Kim Darby', u'Glen Campbell']  "
      ]
     },
     "execution_count": 44,
     "metadata": {},
     "output_type": "execute_result"
    }
   ],
   "source": [
    "m.loc[[187, 649, 936]]"
   ]
  },
  {
   "cell_type": "markdown",
   "metadata": {},
   "source": [
    "### calculate the average star rating for movies 2 hours or longer, and compare that with the average star rating for movies shorter than 2 hours"
   ]
  },
  {
   "cell_type": "code",
   "execution_count": 24,
   "metadata": {
    "collapsed": false,
    "scrolled": true
   },
   "outputs": [
    {
     "data": {
      "text/plain": [
       "<matplotlib.axes._subplots.AxesSubplot at 0x10d284e90>"
      ]
     },
     "execution_count": 24,
     "metadata": {},
     "output_type": "execute_result"
    },
    {
     "data": {
      "image/png": "[encoded data removed]",
      "text/plain": [
       "<matplotlib.figure.Figure at 0x10d4af110>"
      ]
     },
     "metadata": {},
     "output_type": "display_data"
    }
   ],
   "source": [
    "m = movies.copy()\n",
    "m['is_long'] = (m['duration'] >= 2*60)\n",
    "m = m[['star_rating', 'is_long']]\n",
    "m.groupby('is_long').mean().plot(kind='bar', ylim=[0,10])"
   ]
  },
  {
   "cell_type": "code",
   "execution_count": 25,
   "metadata": {
    "collapsed": false
   },
   "outputs": [
    {
     "data": {
      "text/plain": [
       "0.11023201174742514"
      ]
     },
     "execution_count": 25,
     "metadata": {},
     "output_type": "execute_result"
    }
   ],
   "source": [
    "m = movies.copy()\n",
    "m['is_long'] = (m['duration'] >= 2*60)\n",
    "m = m[['star_rating', 'is_long']]\n",
    "g = m.groupby('is_long').mean()\n",
    "g['star_rating'][1] - g['star_rating'][0]"
   ]
  },
  {
   "cell_type": "markdown",
   "metadata": {},
   "source": [
    "The average star rating for a long movie is 0.11 higher than that of a short movie."
   ]
  },
  {
   "cell_type": "code",
   "execution_count": 45,
   "metadata": {
    "collapsed": false
   },
   "outputs": [
    {
     "data": {
      "text/plain": [
       "7.948898678414082"
      ]
     },
     "execution_count": 45,
     "metadata": {},
     "output_type": "execute_result"
    }
   ],
   "source": [
    "m = movies.copy()\n",
    "m[m['duration'] >= 120]['star_rating'].mean()"
   ]
  },
  {
   "cell_type": "code",
   "execution_count": 47,
   "metadata": {
    "collapsed": false
   },
   "outputs": [
    {
     "data": {
      "text/plain": [
       "7.838666666666657"
      ]
     },
     "execution_count": 47,
     "metadata": {},
     "output_type": "execute_result"
    }
   ],
   "source": [
    "m[m['duration'] < 120]['star_rating'].mean()"
   ]
  },
  {
   "cell_type": "code",
   "execution_count": 49,
   "metadata": {
    "collapsed": false
   },
   "outputs": [
    {
     "data": {
      "text/plain": [
       "<matplotlib.axes._subplots.AxesSubplot at 0x10c7ca1d0>"
      ]
     },
     "execution_count": 49,
     "metadata": {},
     "output_type": "execute_result"
    },
    {
     "data": {
      "image/png": "[encoded data removed]",
      "text/plain": [
       "<matplotlib.figure.Figure at 0x10c7be8d0>"
      ]
     },
     "metadata": {},
     "output_type": "display_data"
    }
   ],
   "source": [
    "m.plot(kind='scatter', x='duration', y='star_rating', alpha = 0.2)"
   ]
  },
  {
   "cell_type": "code",
   "execution_count": null,
   "metadata": {
    "collapsed": true
   },
   "outputs": [],
   "source": []
  },
  {
   "cell_type": "markdown",
   "metadata": {},
   "source": [
    "### use a visualization to detect whether there is a relationship between duration and star rating"
   ]
  },
  {
   "cell_type": "code",
   "execution_count": 51,
   "metadata": {
    "collapsed": false
   },
   "outputs": [
    {
     "data": {
      "text/plain": [
       "<matplotlib.collections.PathCollection at 0x10cb23b50>"
      ]
     },
     "execution_count": 51,
     "metadata": {},
     "output_type": "execute_result"
    },
    {
     "data": {
      "image/png": "[encoded data removed]",
      "text/plain": [
       "<matplotlib.figure.Figure at 0x10b6eae90>"
      ]
     },
     "metadata": {},
     "output_type": "display_data"
    }
   ],
   "source": [
    "m = movies.copy()\n",
    "m = m[['duration', 'star_rating']]\n",
    "plt.scatter(m['duration'], m['star_rating'])"
   ]
  },
  {
   "cell_type": "code",
   "execution_count": 52,
   "metadata": {
    "collapsed": false
   },
   "outputs": [
    {
     "ename": "AttributeError",
     "evalue": "'module' object has no attribute 'pyplot'",
     "output_type": "error",
     "traceback": [
      "\u001b[0;31m---------------------------------------------------------------------------\u001b[0m",
      "\u001b[0;31mAttributeError\u001b[0m                            Traceback (most recent call last)",
      "\u001b[0;32m<ipython-input-52-af879ca7f6c2>\u001b[0m in \u001b[0;36m<module>\u001b[0;34m()\u001b[0m\n\u001b[1;32m      1\u001b[0m \u001b[0mm\u001b[0m \u001b[0;34m=\u001b[0m \u001b[0mmovies\u001b[0m\u001b[0;34m.\u001b[0m\u001b[0mcopy\u001b[0m\u001b[0;34m(\u001b[0m\u001b[0;34m)\u001b[0m\u001b[0;34m\u001b[0m\u001b[0m\n\u001b[1;32m      2\u001b[0m \u001b[0mm\u001b[0m \u001b[0;34m=\u001b[0m \u001b[0mm\u001b[0m\u001b[0;34m[\u001b[0m\u001b[0;34m[\u001b[0m\u001b[0;34m'duration'\u001b[0m\u001b[0;34m,\u001b[0m \u001b[0;34m'star_rating'\u001b[0m\u001b[0;34m]\u001b[0m\u001b[0;34m]\u001b[0m\u001b[0;34m\u001b[0m\u001b[0m\n\u001b[0;32m----> 3\u001b[0;31m \u001b[0mplt\u001b[0m\u001b[0;34m.\u001b[0m\u001b[0mpyplot\u001b[0m\u001b[0;34m.\u001b[0m\u001b[0mscatter\u001b[0m\u001b[0;34m(\u001b[0m\u001b[0mm\u001b[0m\u001b[0;34m[\u001b[0m\u001b[0;34m'duration'\u001b[0m\u001b[0;34m]\u001b[0m\u001b[0;34m,\u001b[0m \u001b[0mm\u001b[0m\u001b[0;34m[\u001b[0m\u001b[0;34m'star_rating'\u001b[0m\u001b[0;34m]\u001b[0m\u001b[0;34m)\u001b[0m\u001b[0;34m\u001b[0m\u001b[0m\n\u001b[0m",
      "\u001b[0;31mAttributeError\u001b[0m: 'module' object has no attribute 'pyplot'"
     ]
    }
   ],
   "source": [
    "m = movies.copy()\n",
    "m = m[['duration', 'star_rating']]\n",
    "plt.pyplot.scatter(m['duration'], m['star_rating'])"
   ]
  },
  {
   "cell_type": "code",
   "execution_count": 53,
   "metadata": {
    "collapsed": false
   },
   "outputs": [
    {
     "name": "stderr",
     "output_type": "stream",
     "text": [
      "/Users/Joel/anaconda/lib/python2.7/site-packages/matplotlib/__init__.py:892: UserWarning: axes.color_cycle is deprecated and replaced with axes.prop_cycle; please use the latter.\n",
      "  warnings.warn(self.msg_depr % (key, alt_key))\n"
     ]
    },
    {
     "data": {
      "text/plain": [
       "<seaborn.axisgrid.JointGrid at 0x10b888e90>"
      ]
     },
     "execution_count": 53,
     "metadata": {},
     "output_type": "execute_result"
    },
    {
     "data": {
      "image/png": "[encoded data removed]",
      "text/plain": [
       "<matplotlib.figure.Figure at 0x10cb3d490>"
      ]
     },
     "metadata": {},
     "output_type": "display_data"
    }
   ],
   "source": [
    "sns.jointplot(\"duration\",\"star_rating\", data=m, ylim=[5,10], kind=\"kde\")"
   ]
  },
  {
   "cell_type": "markdown",
   "metadata": {},
   "source": [
    "### calculate the average duration for each genre"
   ]
  },
  {
   "cell_type": "code",
   "execution_count": 29,
   "metadata": {
    "collapsed": false
   },
   "outputs": [
    {
     "data": {
      "text/html": [
       "<div>\n",
       "<table border=\"1\" class=\"dataframe\">\n",
       "  <thead>\n",
       "    <tr style=\"text-align: right;\">\n",
       "      <th></th>\n",
       "      <th>duration</th>\n",
       "    </tr>\n",
       "    <tr>\n",
       "      <th>genre</th>\n",
       "      <th></th>\n",
       "    </tr>\n",
       "  </thead>\n",
       "  <tbody>\n",
       "    <tr>\n",
       "      <th>Action</th>\n",
       "      <td>126.485294</td>\n",
       "    </tr>\n",
       "    <tr>\n",
       "      <th>Adventure</th>\n",
       "      <td>134.840000</td>\n",
       "    </tr>\n",
       "    <tr>\n",
       "      <th>Animation</th>\n",
       "      <td>96.596774</td>\n",
       "    </tr>\n",
       "    <tr>\n",
       "      <th>Biography</th>\n",
       "      <td>131.844156</td>\n",
       "    </tr>\n",
       "    <tr>\n",
       "      <th>Comedy</th>\n",
       "      <td>107.602564</td>\n",
       "    </tr>\n",
       "    <tr>\n",
       "      <th>Crime</th>\n",
       "      <td>122.298387</td>\n",
       "    </tr>\n",
       "    <tr>\n",
       "      <th>Drama</th>\n",
       "      <td>126.539568</td>\n",
       "    </tr>\n",
       "    <tr>\n",
       "      <th>Family</th>\n",
       "      <td>107.500000</td>\n",
       "    </tr>\n",
       "    <tr>\n",
       "      <th>Fantasy</th>\n",
       "      <td>112.000000</td>\n",
       "    </tr>\n",
       "    <tr>\n",
       "      <th>Film-Noir</th>\n",
       "      <td>97.333333</td>\n",
       "    </tr>\n",
       "    <tr>\n",
       "      <th>History</th>\n",
       "      <td>66.000000</td>\n",
       "    </tr>\n",
       "    <tr>\n",
       "      <th>Horror</th>\n",
       "      <td>102.517241</td>\n",
       "    </tr>\n",
       "    <tr>\n",
       "      <th>Mystery</th>\n",
       "      <td>115.625000</td>\n",
       "    </tr>\n",
       "    <tr>\n",
       "      <th>Sci-Fi</th>\n",
       "      <td>109.000000</td>\n",
       "    </tr>\n",
       "    <tr>\n",
       "      <th>Thriller</th>\n",
       "      <td>114.200000</td>\n",
       "    </tr>\n",
       "    <tr>\n",
       "      <th>Western</th>\n",
       "      <td>136.666667</td>\n",
       "    </tr>\n",
       "  </tbody>\n",
       "</table>\n",
       "</div>"
      ],
      "text/plain": [
       "             duration\n",
       "genre                \n",
       "Action     126.485294\n",
       "Adventure  134.840000\n",
       "Animation   96.596774\n",
       "Biography  131.844156\n",
       "Comedy     107.602564\n",
       "Crime      122.298387\n",
       "Drama      126.539568\n",
       "Family     107.500000\n",
       "Fantasy    112.000000\n",
       "Film-Noir   97.333333\n",
       "History     66.000000\n",
       "Horror     102.517241\n",
       "Mystery    115.625000\n",
       "Sci-Fi     109.000000\n",
       "Thriller   114.200000\n",
       "Western    136.666667"
      ]
     },
     "execution_count": 29,
     "metadata": {},
     "output_type": "execute_result"
    }
   ],
   "source": [
    "m = movies\n",
    "m = m[['genre', 'duration']]\n",
    "m.groupby('genre').mean()"
   ]
  },
  {
   "cell_type": "code",
   "execution_count": 57,
   "metadata": {
    "collapsed": false
   },
   "outputs": [
    {
     "data": {
      "text/html": [
       "<div>\n",
       "<table border=\"1\" class=\"dataframe\">\n",
       "  <thead>\n",
       "    <tr style=\"text-align: right;\">\n",
       "      <th></th>\n",
       "      <th>duration</th>\n",
       "    </tr>\n",
       "    <tr>\n",
       "      <th>genre</th>\n",
       "      <th></th>\n",
       "    </tr>\n",
       "  </thead>\n",
       "  <tbody>\n",
       "    <tr>\n",
       "      <th>Action</th>\n",
       "      <td>126.485294</td>\n",
       "    </tr>\n",
       "    <tr>\n",
       "      <th>Adventure</th>\n",
       "      <td>134.840000</td>\n",
       "    </tr>\n",
       "    <tr>\n",
       "      <th>Animation</th>\n",
       "      <td>96.596774</td>\n",
       "    </tr>\n",
       "    <tr>\n",
       "      <th>Biography</th>\n",
       "      <td>131.844156</td>\n",
       "    </tr>\n",
       "    <tr>\n",
       "      <th>Comedy</th>\n",
       "      <td>107.602564</td>\n",
       "    </tr>\n",
       "    <tr>\n",
       "      <th>Crime</th>\n",
       "      <td>122.298387</td>\n",
       "    </tr>\n",
       "    <tr>\n",
       "      <th>Drama</th>\n",
       "      <td>126.539568</td>\n",
       "    </tr>\n",
       "    <tr>\n",
       "      <th>Family</th>\n",
       "      <td>107.500000</td>\n",
       "    </tr>\n",
       "    <tr>\n",
       "      <th>Fantasy</th>\n",
       "      <td>112.000000</td>\n",
       "    </tr>\n",
       "    <tr>\n",
       "      <th>Film-Noir</th>\n",
       "      <td>97.333333</td>\n",
       "    </tr>\n",
       "    <tr>\n",
       "      <th>History</th>\n",
       "      <td>66.000000</td>\n",
       "    </tr>\n",
       "    <tr>\n",
       "      <th>Horror</th>\n",
       "      <td>102.517241</td>\n",
       "    </tr>\n",
       "    <tr>\n",
       "      <th>Mystery</th>\n",
       "      <td>115.625000</td>\n",
       "    </tr>\n",
       "    <tr>\n",
       "      <th>Sci-Fi</th>\n",
       "      <td>109.000000</td>\n",
       "    </tr>\n",
       "    <tr>\n",
       "      <th>Thriller</th>\n",
       "      <td>114.200000</td>\n",
       "    </tr>\n",
       "    <tr>\n",
       "      <th>Western</th>\n",
       "      <td>136.666667</td>\n",
       "    </tr>\n",
       "  </tbody>\n",
       "</table>\n",
       "</div>"
      ],
      "text/plain": [
       "             duration\n",
       "genre                \n",
       "Action     126.485294\n",
       "Adventure  134.840000\n",
       "Animation   96.596774\n",
       "Biography  131.844156\n",
       "Comedy     107.602564\n",
       "Crime      122.298387\n",
       "Drama      126.539568\n",
       "Family     107.500000\n",
       "Fantasy    112.000000\n",
       "Film-Noir   97.333333\n",
       "History     66.000000\n",
       "Horror     102.517241\n",
       "Mystery    115.625000\n",
       "Sci-Fi     109.000000\n",
       "Thriller   114.200000\n",
       "Western    136.666667"
      ]
     },
     "execution_count": 57,
     "metadata": {},
     "output_type": "execute_result"
    }
   ],
   "source": [
    "m = movies.copy()\n",
    "m.groupby('genre').agg({'duration':np.mean})"
   ]
  },
  {
   "cell_type": "markdown",
   "metadata": {},
   "source": [
    "## Part #3"
   ]
  },
  {
   "cell_type": "markdown",
   "metadata": {},
   "source": [
    "### visualize the relationship between content rating and duration"
   ]
  },
  {
   "cell_type": "code",
   "execution_count": 58,
   "metadata": {
    "collapsed": false
   },
   "outputs": [],
   "source": [
    "%matplotlib inline"
   ]
  },
  {
   "cell_type": "code",
   "execution_count": 62,
   "metadata": {
    "collapsed": false,
    "scrolled": true
   },
   "outputs": [
    {
     "data": {
      "text/plain": [
       "OrderedDict([(u'G', <matplotlib.axes._subplots.AxesSubplot at 0x10e4e4b90>),\n",
       "             ('NC-17', <matplotlib.axes._subplots.AxesSubplot at 0x10e5a8ad0>),\n",
       "             (u'PG', <matplotlib.axes._subplots.AxesSubplot at 0x10e637110>),\n",
       "             (u'PG-13',\n",
       "              <matplotlib.axes._subplots.AxesSubplot at 0x10e69a310>),\n",
       "             (u'R', <matplotlib.axes._subplots.AxesSubplot at 0x10e84b290>),\n",
       "             ('UNRATED',\n",
       "              <matplotlib.axes._subplots.AxesSubplot at 0x10e898f10>)])"
      ]
     },
     "execution_count": 62,
     "metadata": {},
     "output_type": "execute_result"
    },
    {
     "data": {
      "image/png": "[encoded data removed]",
      "text/plain": [
       "<matplotlib.figure.Figure at 0x10cc80dd0>"
      ]
     },
     "metadata": {},
     "output_type": "display_data"
    }
   ],
   "source": [
    "m = movies.copy()\n",
    "g = m[['content_rating', 'duration']].groupby('content_rating')\n",
    "g.boxplot(column='duration', by='content_rating')"
   ]
  },
  {
   "cell_type": "code",
   "execution_count": 60,
   "metadata": {
    "collapsed": false
   },
   "outputs": [
    {
     "data": {
      "text/plain": [
       "<matplotlib.axes._subplots.AxesSubplot at 0x10dde8dd0>"
      ]
     },
     "execution_count": 60,
     "metadata": {},
     "output_type": "execute_result"
    },
    {
     "data": {
      "image/png": "[encoded data removed]",
      "text/plain": [
       "<matplotlib.figure.Figure at 0x10de73e50>"
      ]
     },
     "metadata": {},
     "output_type": "display_data"
    }
   ],
   "source": [
    "g.mean().plot(kind='bar')"
   ]
  },
  {
   "cell_type": "code",
   "execution_count": 61,
   "metadata": {
    "collapsed": false
   },
   "outputs": [
    {
     "data": {
      "text/plain": [
       "<matplotlib.axes._subplots.AxesSubplot at 0x10e0a7610>"
      ]
     },
     "execution_count": 61,
     "metadata": {},
     "output_type": "execute_result"
    },
    {
     "data": {
      "image/png": "[encoded data removed]",
      "text/plain": [
       "<matplotlib.figure.Figure at 0x10e09d750>"
      ]
     },
     "metadata": {},
     "output_type": "display_data"
    }
   ],
   "source": [
    "movies.boxplot(column='duration', by='content_rating')"
   ]
  },
  {
   "cell_type": "code",
   "execution_count": 64,
   "metadata": {
    "collapsed": false
   },
   "outputs": [
    {
     "data": {
      "text/plain": [
       "array([[<matplotlib.axes._subplots.AxesSubplot object at 0x10f24ca10>,\n",
       "        <matplotlib.axes._subplots.AxesSubplot object at 0x10f67b310>],\n",
       "       [<matplotlib.axes._subplots.AxesSubplot object at 0x10f8a4250>,\n",
       "        <matplotlib.axes._subplots.AxesSubplot object at 0x10fa07650>],\n",
       "       [<matplotlib.axes._subplots.AxesSubplot object at 0x10fa875d0>,\n",
       "        <matplotlib.axes._subplots.AxesSubplot object at 0x10fa1f790>]], dtype=object)"
      ]
     },
     "execution_count": 64,
     "metadata": {},
     "output_type": "execute_result"
    },
    {
     "data": {
      "image/png": "[encoded data removed]",
      "text/plain": [
       "<matplotlib.figure.Figure at 0x10f380210>"
      ]
     },
     "metadata": {},
     "output_type": "display_data"
    }
   ],
   "source": [
    "movies.hist(column='duration', by='content_rating', sharex=True)"
   ]
  },
  {
   "cell_type": "markdown",
   "metadata": {},
   "source": [
    "### determine the top rated movie (by star rating) for each genre"
   ]
  },
  {
   "cell_type": "code",
   "execution_count": 84,
   "metadata": {
    "collapsed": false
   },
   "outputs": [
    {
     "data": {
      "text/html": [
       "<div>\n",
       "<table border=\"1\" class=\"dataframe\">\n",
       "  <thead>\n",
       "    <tr style=\"text-align: right;\">\n",
       "      <th></th>\n",
       "      <th>genre</th>\n",
       "      <th>star_rating</th>\n",
       "    </tr>\n",
       "  </thead>\n",
       "  <tbody>\n",
       "    <tr>\n",
       "      <th>0</th>\n",
       "      <td>Action</td>\n",
       "      <td>9.0</td>\n",
       "    </tr>\n",
       "    <tr>\n",
       "      <th>1</th>\n",
       "      <td>Adventure</td>\n",
       "      <td>8.9</td>\n",
       "    </tr>\n",
       "    <tr>\n",
       "      <th>2</th>\n",
       "      <td>Animation</td>\n",
       "      <td>8.6</td>\n",
       "    </tr>\n",
       "    <tr>\n",
       "      <th>3</th>\n",
       "      <td>Biography</td>\n",
       "      <td>8.9</td>\n",
       "    </tr>\n",
       "    <tr>\n",
       "      <th>4</th>\n",
       "      <td>Comedy</td>\n",
       "      <td>8.6</td>\n",
       "    </tr>\n",
       "    <tr>\n",
       "      <th>5</th>\n",
       "      <td>Crime</td>\n",
       "      <td>9.3</td>\n",
       "    </tr>\n",
       "    <tr>\n",
       "      <th>6</th>\n",
       "      <td>Drama</td>\n",
       "      <td>8.9</td>\n",
       "    </tr>\n",
       "    <tr>\n",
       "      <th>7</th>\n",
       "      <td>Family</td>\n",
       "      <td>7.9</td>\n",
       "    </tr>\n",
       "    <tr>\n",
       "      <th>8</th>\n",
       "      <td>Fantasy</td>\n",
       "      <td>7.7</td>\n",
       "    </tr>\n",
       "    <tr>\n",
       "      <th>9</th>\n",
       "      <td>Film-Noir</td>\n",
       "      <td>8.3</td>\n",
       "    </tr>\n",
       "    <tr>\n",
       "      <th>10</th>\n",
       "      <td>History</td>\n",
       "      <td>8.0</td>\n",
       "    </tr>\n",
       "    <tr>\n",
       "      <th>11</th>\n",
       "      <td>Horror</td>\n",
       "      <td>8.6</td>\n",
       "    </tr>\n",
       "    <tr>\n",
       "      <th>12</th>\n",
       "      <td>Mystery</td>\n",
       "      <td>8.6</td>\n",
       "    </tr>\n",
       "    <tr>\n",
       "      <th>13</th>\n",
       "      <td>Sci-Fi</td>\n",
       "      <td>8.2</td>\n",
       "    </tr>\n",
       "    <tr>\n",
       "      <th>14</th>\n",
       "      <td>Thriller</td>\n",
       "      <td>8.0</td>\n",
       "    </tr>\n",
       "    <tr>\n",
       "      <th>15</th>\n",
       "      <td>Western</td>\n",
       "      <td>8.9</td>\n",
       "    </tr>\n",
       "  </tbody>\n",
       "</table>\n",
       "</div>"
      ],
      "text/plain": [
       "        genre  star_rating\n",
       "0      Action          9.0\n",
       "1   Adventure          8.9\n",
       "2   Animation          8.6\n",
       "3   Biography          8.9\n",
       "4      Comedy          8.6\n",
       "5       Crime          9.3\n",
       "6       Drama          8.9\n",
       "7      Family          7.9\n",
       "8     Fantasy          7.7\n",
       "9   Film-Noir          8.3\n",
       "10    History          8.0\n",
       "11     Horror          8.6\n",
       "12    Mystery          8.6\n",
       "13     Sci-Fi          8.2\n",
       "14   Thriller          8.0\n",
       "15    Western          8.9"
      ]
     },
     "execution_count": 84,
     "metadata": {},
     "output_type": "execute_result"
    }
   ],
   "source": [
    "m = movies.copy()\n",
    "m = m[['genre', 'title', 'star_rating']]\n",
    "#m = m[m[['genre','star_rating']] == m.groupby('genre').max()['star_rating']]\n",
    "m[['genre', 'star_rating']]\n",
    "m.groupby('genre').max().reset_index('genre')[['genre', 'star_rating']]\n",
    "\n",
    "#g.count"
   ]
  },
  {
   "cell_type": "code",
   "execution_count": 97,
   "metadata": {
    "collapsed": false
   },
   "outputs": [
    {
     "data": {
      "text/html": [
       "<div>\n",
       "<table border=\"1\" class=\"dataframe\">\n",
       "  <thead>\n",
       "    <tr style=\"text-align: right;\">\n",
       "      <th></th>\n",
       "      <th>star_rating</th>\n",
       "      <th>title</th>\n",
       "      <th>content_rating</th>\n",
       "      <th>genre</th>\n",
       "      <th>duration</th>\n",
       "      <th>actors_list</th>\n",
       "    </tr>\n",
       "  </thead>\n",
       "  <tbody>\n",
       "    <tr>\n",
       "      <th>1</th>\n",
       "      <td>9.0</td>\n",
       "      <td>The Dark Knight</td>\n",
       "      <td>PG-13</td>\n",
       "      <td>Action</td>\n",
       "      <td>152</td>\n",
       "      <td>[u'Christian Bale', u'Heath Ledger', u'Aaron E...</td>\n",
       "    </tr>\n",
       "    <tr>\n",
       "      <th>5</th>\n",
       "      <td>8.9</td>\n",
       "      <td>The Lord of the Rings: The Return of the King</td>\n",
       "      <td>PG-13</td>\n",
       "      <td>Adventure</td>\n",
       "      <td>201</td>\n",
       "      <td>[u'Elijah Wood', u'Viggo Mortensen', u'Ian McK...</td>\n",
       "    </tr>\n",
       "    <tr>\n",
       "      <th>10</th>\n",
       "      <td>8.6</td>\n",
       "      <td>Spirited Away</td>\n",
       "      <td>PG</td>\n",
       "      <td>Animation</td>\n",
       "      <td>125</td>\n",
       "      <td>[u'Daveigh Chase', u'Suzanne Pleshette', u'Miy...</td>\n",
       "    </tr>\n",
       "    <tr>\n",
       "      <th>6</th>\n",
       "      <td>8.9</td>\n",
       "      <td>Schindler's List</td>\n",
       "      <td>R</td>\n",
       "      <td>Biography</td>\n",
       "      <td>195</td>\n",
       "      <td>[u'Liam Neeson', u'Ralph Fiennes', u'Ben Kings...</td>\n",
       "    </tr>\n",
       "    <tr>\n",
       "      <th>7</th>\n",
       "      <td>8.6</td>\n",
       "      <td>Life Is Beautiful</td>\n",
       "      <td>PG-13</td>\n",
       "      <td>Comedy</td>\n",
       "      <td>116</td>\n",
       "      <td>[u'Roberto Benigni', u'Nicoletta Braschi', u'G...</td>\n",
       "    </tr>\n",
       "    <tr>\n",
       "      <th>8</th>\n",
       "      <td>8.6</td>\n",
       "      <td>City Lights</td>\n",
       "      <td>PASSED</td>\n",
       "      <td>Comedy</td>\n",
       "      <td>87</td>\n",
       "      <td>[u'Charles Chaplin', u'Virginia Cherrill', u'F...</td>\n",
       "    </tr>\n",
       "    <tr>\n",
       "      <th>9</th>\n",
       "      <td>8.6</td>\n",
       "      <td>Modern Times</td>\n",
       "      <td>G</td>\n",
       "      <td>Comedy</td>\n",
       "      <td>87</td>\n",
       "      <td>[u'Charles Chaplin', u'Paulette Goddard', u'He...</td>\n",
       "    </tr>\n",
       "    <tr>\n",
       "      <th>0</th>\n",
       "      <td>9.3</td>\n",
       "      <td>The Shawshank Redemption</td>\n",
       "      <td>R</td>\n",
       "      <td>Crime</td>\n",
       "      <td>142</td>\n",
       "      <td>[u'Tim Robbins', u'Morgan Freeman', u'Bob Gunt...</td>\n",
       "    </tr>\n",
       "    <tr>\n",
       "      <th>2</th>\n",
       "      <td>8.9</td>\n",
       "      <td>12 Angry Men</td>\n",
       "      <td>NOT RATED</td>\n",
       "      <td>Drama</td>\n",
       "      <td>96</td>\n",
       "      <td>[u'Henry Fonda', u'Lee J. Cobb', u'Martin Bals...</td>\n",
       "    </tr>\n",
       "    <tr>\n",
       "      <th>3</th>\n",
       "      <td>8.9</td>\n",
       "      <td>Fight Club</td>\n",
       "      <td>R</td>\n",
       "      <td>Drama</td>\n",
       "      <td>139</td>\n",
       "      <td>[u'Brad Pitt', u'Edward Norton', u'Helena Bonh...</td>\n",
       "    </tr>\n",
       "    <tr>\n",
       "      <th>17</th>\n",
       "      <td>7.9</td>\n",
       "      <td>E.T. the Extra-Terrestrial</td>\n",
       "      <td>PG</td>\n",
       "      <td>Family</td>\n",
       "      <td>115</td>\n",
       "      <td>[u'Henry Thomas', u'Drew Barrymore', u'Peter C...</td>\n",
       "    </tr>\n",
       "    <tr>\n",
       "      <th>18</th>\n",
       "      <td>7.7</td>\n",
       "      <td>The City of Lost Children</td>\n",
       "      <td>R</td>\n",
       "      <td>Fantasy</td>\n",
       "      <td>112</td>\n",
       "      <td>[u'Ron Perlman', u'Daniel Emilfork', u'Judith ...</td>\n",
       "    </tr>\n",
       "    <tr>\n",
       "      <th>13</th>\n",
       "      <td>8.3</td>\n",
       "      <td>The Third Man</td>\n",
       "      <td>NOT RATED</td>\n",
       "      <td>Film-Noir</td>\n",
       "      <td>93</td>\n",
       "      <td>[u'Orson Welles', u'Joseph Cotten', u'Alida Va...</td>\n",
       "    </tr>\n",
       "    <tr>\n",
       "      <th>15</th>\n",
       "      <td>8.0</td>\n",
       "      <td>Battleship Potemkin</td>\n",
       "      <td>UNRATED</td>\n",
       "      <td>History</td>\n",
       "      <td>66</td>\n",
       "      <td>[u'Aleksandr Antonov', u'Vladimir Barsky', u'G...</td>\n",
       "    </tr>\n",
       "    <tr>\n",
       "      <th>12</th>\n",
       "      <td>8.6</td>\n",
       "      <td>Psycho</td>\n",
       "      <td>R</td>\n",
       "      <td>Horror</td>\n",
       "      <td>109</td>\n",
       "      <td>[u'Anthony Perkins', u'Janet Leigh', u'Vera Mi...</td>\n",
       "    </tr>\n",
       "    <tr>\n",
       "      <th>11</th>\n",
       "      <td>8.6</td>\n",
       "      <td>Rear Window</td>\n",
       "      <td>APPROVED</td>\n",
       "      <td>Mystery</td>\n",
       "      <td>112</td>\n",
       "      <td>[u'James Stewart', u'Grace Kelly', u'Wendell C...</td>\n",
       "    </tr>\n",
       "    <tr>\n",
       "      <th>14</th>\n",
       "      <td>8.2</td>\n",
       "      <td>Blade Runner</td>\n",
       "      <td>R</td>\n",
       "      <td>Sci-Fi</td>\n",
       "      <td>117</td>\n",
       "      <td>[u'Harrison Ford', u'Rutger Hauer', u'Sean You...</td>\n",
       "    </tr>\n",
       "    <tr>\n",
       "      <th>16</th>\n",
       "      <td>8.0</td>\n",
       "      <td>Shadow of a Doubt</td>\n",
       "      <td>APPROVED</td>\n",
       "      <td>Thriller</td>\n",
       "      <td>108</td>\n",
       "      <td>[u'Teresa Wright', u'Joseph Cotten', u'Macdona...</td>\n",
       "    </tr>\n",
       "    <tr>\n",
       "      <th>4</th>\n",
       "      <td>8.9</td>\n",
       "      <td>The Good, the Bad and the Ugly</td>\n",
       "      <td>NOT RATED</td>\n",
       "      <td>Western</td>\n",
       "      <td>161</td>\n",
       "      <td>[u'Clint Eastwood', u'Eli Wallach', u'Lee Van ...</td>\n",
       "    </tr>\n",
       "  </tbody>\n",
       "</table>\n",
       "</div>"
      ],
      "text/plain": [
       "    star_rating                                          title content_rating  \\\n",
       "1           9.0                                The Dark Knight          PG-13   \n",
       "5           8.9  The Lord of the Rings: The Return of the King          PG-13   \n",
       "10          8.6                                  Spirited Away             PG   \n",
       "6           8.9                               Schindler's List              R   \n",
       "7           8.6                              Life Is Beautiful          PG-13   \n",
       "8           8.6                                    City Lights         PASSED   \n",
       "9           8.6                                   Modern Times              G   \n",
       "0           9.3                       The Shawshank Redemption              R   \n",
       "2           8.9                                   12 Angry Men      NOT RATED   \n",
       "3           8.9                                     Fight Club              R   \n",
       "17          7.9                     E.T. the Extra-Terrestrial             PG   \n",
       "18          7.7                      The City of Lost Children              R   \n",
       "13          8.3                                  The Third Man      NOT RATED   \n",
       "15          8.0                            Battleship Potemkin        UNRATED   \n",
       "12          8.6                                         Psycho              R   \n",
       "11          8.6                                    Rear Window       APPROVED   \n",
       "14          8.2                                   Blade Runner              R   \n",
       "16          8.0                              Shadow of a Doubt       APPROVED   \n",
       "4           8.9                 The Good, the Bad and the Ugly      NOT RATED   \n",
       "\n",
       "        genre  duration                                        actors_list  \n",
       "1      Action       152  [u'Christian Bale', u'Heath Ledger', u'Aaron E...  \n",
       "5   Adventure       201  [u'Elijah Wood', u'Viggo Mortensen', u'Ian McK...  \n",
       "10  Animation       125  [u'Daveigh Chase', u'Suzanne Pleshette', u'Miy...  \n",
       "6   Biography       195  [u'Liam Neeson', u'Ralph Fiennes', u'Ben Kings...  \n",
       "7      Comedy       116  [u'Roberto Benigni', u'Nicoletta Braschi', u'G...  \n",
       "8      Comedy        87  [u'Charles Chaplin', u'Virginia Cherrill', u'F...  \n",
       "9      Comedy        87  [u'Charles Chaplin', u'Paulette Goddard', u'He...  \n",
       "0       Crime       142  [u'Tim Robbins', u'Morgan Freeman', u'Bob Gunt...  \n",
       "2       Drama        96  [u'Henry Fonda', u'Lee J. Cobb', u'Martin Bals...  \n",
       "3       Drama       139  [u'Brad Pitt', u'Edward Norton', u'Helena Bonh...  \n",
       "17     Family       115  [u'Henry Thomas', u'Drew Barrymore', u'Peter C...  \n",
       "18    Fantasy       112  [u'Ron Perlman', u'Daniel Emilfork', u'Judith ...  \n",
       "13  Film-Noir        93  [u'Orson Welles', u'Joseph Cotten', u'Alida Va...  \n",
       "15    History        66  [u'Aleksandr Antonov', u'Vladimir Barsky', u'G...  \n",
       "12     Horror       109  [u'Anthony Perkins', u'Janet Leigh', u'Vera Mi...  \n",
       "11    Mystery       112  [u'James Stewart', u'Grace Kelly', u'Wendell C...  \n",
       "14     Sci-Fi       117  [u'Harrison Ford', u'Rutger Hauer', u'Sean You...  \n",
       "16   Thriller       108  [u'Teresa Wright', u'Joseph Cotten', u'Macdona...  \n",
       "4     Western       161  [u'Clint Eastwood', u'Eli Wallach', u'Lee Van ...  "
      ]
     },
     "execution_count": 97,
     "metadata": {},
     "output_type": "execute_result"
    }
   ],
   "source": [
    "m = movies.copy()\n",
    "g = movies[['star_rating','genre']].groupby('genre').max()\n",
    "g = g.reset_index('genre')\n",
    "m.merge(g, how='inner', on=['genre', 'star_rating']).sort_values(['genre', 'star_rating'])"
   ]
  },
  {
   "cell_type": "code",
   "execution_count": 76,
   "metadata": {
    "collapsed": false
   },
   "outputs": [
    {
     "data": {
      "text/html": [
       "<div>\n",
       "<table border=\"1\" class=\"dataframe\">\n",
       "  <thead>\n",
       "    <tr style=\"text-align: right;\">\n",
       "      <th></th>\n",
       "      <th>title</th>\n",
       "      <th>content_rating</th>\n",
       "      <th>star_rating</th>\n",
       "      <th>genre</th>\n",
       "    </tr>\n",
       "    <tr>\n",
       "      <th>genre</th>\n",
       "      <th></th>\n",
       "      <th></th>\n",
       "      <th></th>\n",
       "      <th></th>\n",
       "    </tr>\n",
       "  </thead>\n",
       "  <tbody>\n",
       "    <tr>\n",
       "      <th>Action</th>\n",
       "      <td>The Dark Knight</td>\n",
       "      <td>PG-13</td>\n",
       "      <td>9.0</td>\n",
       "      <td>Action</td>\n",
       "    </tr>\n",
       "    <tr>\n",
       "      <th>Adventure</th>\n",
       "      <td>The Lord of the Rings: The Return of the King</td>\n",
       "      <td>PG-13</td>\n",
       "      <td>8.9</td>\n",
       "      <td>Adventure</td>\n",
       "    </tr>\n",
       "    <tr>\n",
       "      <th>Animation</th>\n",
       "      <td>Spirited Away</td>\n",
       "      <td>PG</td>\n",
       "      <td>8.6</td>\n",
       "      <td>Animation</td>\n",
       "    </tr>\n",
       "    <tr>\n",
       "      <th>Biography</th>\n",
       "      <td>Schindler's List</td>\n",
       "      <td>R</td>\n",
       "      <td>8.9</td>\n",
       "      <td>Biography</td>\n",
       "    </tr>\n",
       "    <tr>\n",
       "      <th>Comedy</th>\n",
       "      <td>Modern Times</td>\n",
       "      <td>G</td>\n",
       "      <td>8.6</td>\n",
       "      <td>Comedy</td>\n",
       "    </tr>\n",
       "    <tr>\n",
       "      <th>Crime</th>\n",
       "      <td>The Shawshank Redemption</td>\n",
       "      <td>R</td>\n",
       "      <td>9.3</td>\n",
       "      <td>Crime</td>\n",
       "    </tr>\n",
       "    <tr>\n",
       "      <th>Drama</th>\n",
       "      <td>12 Angry Men</td>\n",
       "      <td>UNRATED</td>\n",
       "      <td>8.9</td>\n",
       "      <td>Drama</td>\n",
       "    </tr>\n",
       "    <tr>\n",
       "      <th>Family</th>\n",
       "      <td>E.T. the Extra-Terrestrial</td>\n",
       "      <td>PG</td>\n",
       "      <td>7.9</td>\n",
       "      <td>Family</td>\n",
       "    </tr>\n",
       "    <tr>\n",
       "      <th>Fantasy</th>\n",
       "      <td>The City of Lost Children</td>\n",
       "      <td>R</td>\n",
       "      <td>7.7</td>\n",
       "      <td>Fantasy</td>\n",
       "    </tr>\n",
       "    <tr>\n",
       "      <th>Film-Noir</th>\n",
       "      <td>The Third Man</td>\n",
       "      <td>UNRATED</td>\n",
       "      <td>8.3</td>\n",
       "      <td>Film-Noir</td>\n",
       "    </tr>\n",
       "    <tr>\n",
       "      <th>History</th>\n",
       "      <td>Battleship Potemkin</td>\n",
       "      <td>UNRATED</td>\n",
       "      <td>8.0</td>\n",
       "      <td>History</td>\n",
       "    </tr>\n",
       "    <tr>\n",
       "      <th>Horror</th>\n",
       "      <td>Psycho</td>\n",
       "      <td>R</td>\n",
       "      <td>8.6</td>\n",
       "      <td>Horror</td>\n",
       "    </tr>\n",
       "    <tr>\n",
       "      <th>Mystery</th>\n",
       "      <td>Rear Window</td>\n",
       "      <td>UNRATED</td>\n",
       "      <td>8.6</td>\n",
       "      <td>Mystery</td>\n",
       "    </tr>\n",
       "    <tr>\n",
       "      <th>Sci-Fi</th>\n",
       "      <td>Blade Runner</td>\n",
       "      <td>R</td>\n",
       "      <td>8.2</td>\n",
       "      <td>Sci-Fi</td>\n",
       "    </tr>\n",
       "    <tr>\n",
       "      <th>Thriller</th>\n",
       "      <td>Shadow of a Doubt</td>\n",
       "      <td>UNRATED</td>\n",
       "      <td>8.0</td>\n",
       "      <td>Thriller</td>\n",
       "    </tr>\n",
       "    <tr>\n",
       "      <th>Western</th>\n",
       "      <td>The Good, the Bad and the Ugly</td>\n",
       "      <td>UNRATED</td>\n",
       "      <td>8.9</td>\n",
       "      <td>Western</td>\n",
       "    </tr>\n",
       "  </tbody>\n",
       "</table>\n",
       "</div>"
      ],
      "text/plain": [
       "                                                   title content_rating  \\\n",
       "genre                                                                     \n",
       "Action                                   The Dark Knight          PG-13   \n",
       "Adventure  The Lord of the Rings: The Return of the King          PG-13   \n",
       "Animation                                  Spirited Away             PG   \n",
       "Biography                               Schindler's List              R   \n",
       "Comedy                                      Modern Times              G   \n",
       "Crime                           The Shawshank Redemption              R   \n",
       "Drama                                       12 Angry Men        UNRATED   \n",
       "Family                        E.T. the Extra-Terrestrial             PG   \n",
       "Fantasy                        The City of Lost Children              R   \n",
       "Film-Noir                                  The Third Man        UNRATED   \n",
       "History                              Battleship Potemkin        UNRATED   \n",
       "Horror                                            Psycho              R   \n",
       "Mystery                                      Rear Window        UNRATED   \n",
       "Sci-Fi                                      Blade Runner              R   \n",
       "Thriller                               Shadow of a Doubt        UNRATED   \n",
       "Western                   The Good, the Bad and the Ugly        UNRATED   \n",
       "\n",
       "           star_rating      genre  \n",
       "genre                              \n",
       "Action             9.0     Action  \n",
       "Adventure          8.9  Adventure  \n",
       "Animation          8.6  Animation  \n",
       "Biography          8.9  Biography  \n",
       "Comedy             8.6     Comedy  \n",
       "Crime              9.3      Crime  \n",
       "Drama              8.9      Drama  \n",
       "Family             7.9     Family  \n",
       "Fantasy            7.7    Fantasy  \n",
       "Film-Noir          8.3  Film-Noir  \n",
       "History            8.0    History  \n",
       "Horror             8.6     Horror  \n",
       "Mystery            8.6    Mystery  \n",
       "Sci-Fi             8.2     Sci-Fi  \n",
       "Thriller           8.0   Thriller  \n",
       "Western            8.9    Western  "
      ]
     },
     "execution_count": 76,
     "metadata": {},
     "output_type": "execute_result"
    }
   ],
   "source": [
    "m = movies.copy()\n",
    "g = m.sort_values('star_rating', ascending=False).groupby('genre')\n",
    "g[['title','content_rating', 'star_rating', 'genre']].first()"
   ]
  },
  {
   "cell_type": "markdown",
   "metadata": {},
   "source": [
    "### check if there are multiple movies with the same title, and if so, determine if they are actually duplicates"
   ]
  },
  {
   "cell_type": "code",
   "execution_count": 114,
   "metadata": {
    "collapsed": false
   },
   "outputs": [
    {
     "data": {
      "text/html": [
       "<div>\n",
       "<table border=\"1\" class=\"dataframe\">\n",
       "  <thead>\n",
       "    <tr style=\"text-align: right;\">\n",
       "      <th></th>\n",
       "      <th>star_rating_x</th>\n",
       "      <th>title</th>\n",
       "      <th>content_rating_x</th>\n",
       "      <th>genre_x</th>\n",
       "      <th>duration_x</th>\n",
       "      <th>actors_list_x</th>\n",
       "      <th>star_rating_y</th>\n",
       "      <th>content_rating_y</th>\n",
       "      <th>genre_y</th>\n",
       "      <th>duration_y</th>\n",
       "      <th>actors_list_y</th>\n",
       "    </tr>\n",
       "  </thead>\n",
       "  <tbody>\n",
       "    <tr>\n",
       "      <th>468</th>\n",
       "      <td>7.8</td>\n",
       "      <td>The Girl with the Dragon Tattoo</td>\n",
       "      <td>R</td>\n",
       "      <td>Crime</td>\n",
       "      <td>152</td>\n",
       "      <td>[u'Michael Nyqvist', u'Noomi Rapace', u'Ewa Fr...</td>\n",
       "      <td>7.9</td>\n",
       "      <td>R</td>\n",
       "      <td>Crime</td>\n",
       "      <td>158</td>\n",
       "      <td>[u'Daniel Craig', u'Rooney Mara', u'Christophe...</td>\n",
       "    </tr>\n",
       "    <tr>\n",
       "      <th>665</th>\n",
       "      <td>7.7</td>\n",
       "      <td>True Grit</td>\n",
       "      <td>PG-13</td>\n",
       "      <td>Adventure</td>\n",
       "      <td>110</td>\n",
       "      <td>[u'Jeff Bridges', u'Matt Damon', u'Hailee Stei...</td>\n",
       "      <td>7.4</td>\n",
       "      <td>NaN</td>\n",
       "      <td>Adventure</td>\n",
       "      <td>128</td>\n",
       "      <td>[u'John Wayne', u'Kim Darby', u'Glen Campbell']</td>\n",
       "    </tr>\n",
       "    <tr>\n",
       "      <th>685</th>\n",
       "      <td>7.5</td>\n",
       "      <td>Les Miserables</td>\n",
       "      <td>PG-13</td>\n",
       "      <td>Crime</td>\n",
       "      <td>134</td>\n",
       "      <td>[u'Liam Neeson', u'Geoffrey Rush', u'Uma Thurm...</td>\n",
       "      <td>7.7</td>\n",
       "      <td>PG-13</td>\n",
       "      <td>Drama</td>\n",
       "      <td>158</td>\n",
       "      <td>[u'Hugh Jackman', u'Russell Crowe', u'Anne Hat...</td>\n",
       "    </tr>\n",
       "    <tr>\n",
       "      <th>712</th>\n",
       "      <td>7.6</td>\n",
       "      <td>Dracula</td>\n",
       "      <td>APPROVED</td>\n",
       "      <td>Horror</td>\n",
       "      <td>85</td>\n",
       "      <td>[u'Bela Lugosi', u'Helen Chandler', u'David Ma...</td>\n",
       "      <td>7.5</td>\n",
       "      <td>R</td>\n",
       "      <td>Horror</td>\n",
       "      <td>128</td>\n",
       "      <td>[u'Gary Oldman', u'Winona Ryder', u'Anthony Ho...</td>\n",
       "    </tr>\n",
       "  </tbody>\n",
       "</table>\n",
       "</div>"
      ],
      "text/plain": [
       "     star_rating_x                            title content_rating_x  \\\n",
       "468            7.8  The Girl with the Dragon Tattoo                R   \n",
       "665            7.7                        True Grit            PG-13   \n",
       "685            7.5                   Les Miserables            PG-13   \n",
       "712            7.6                          Dracula         APPROVED   \n",
       "\n",
       "       genre_x  duration_x                                      actors_list_x  \\\n",
       "468      Crime         152  [u'Michael Nyqvist', u'Noomi Rapace', u'Ewa Fr...   \n",
       "665  Adventure         110  [u'Jeff Bridges', u'Matt Damon', u'Hailee Stei...   \n",
       "685      Crime         134  [u'Liam Neeson', u'Geoffrey Rush', u'Uma Thurm...   \n",
       "712     Horror          85  [u'Bela Lugosi', u'Helen Chandler', u'David Ma...   \n",
       "\n",
       "     star_rating_y content_rating_y    genre_y  duration_y  \\\n",
       "468            7.9                R      Crime         158   \n",
       "665            7.4              NaN  Adventure         128   \n",
       "685            7.7            PG-13      Drama         158   \n",
       "712            7.5                R     Horror         128   \n",
       "\n",
       "                                         actors_list_y  \n",
       "468  [u'Daniel Craig', u'Rooney Mara', u'Christophe...  \n",
       "665    [u'John Wayne', u'Kim Darby', u'Glen Campbell']  \n",
       "685  [u'Hugh Jackman', u'Russell Crowe', u'Anne Hat...  \n",
       "712  [u'Gary Oldman', u'Winona Ryder', u'Anthony Ho...  "
      ]
     },
     "execution_count": 114,
     "metadata": {},
     "output_type": "execute_result"
    }
   ],
   "source": [
    "m = movies.copy()\n",
    "merged = m.merge(movies,how='inner',on='title')\n",
    "merged_true = merged[merged['duration_x'] < merged['duration_y']]\n",
    "merged_true"
   ]
  },
  {
   "cell_type": "markdown",
   "metadata": {},
   "source": [
    "None seem to actually be duplicates"
   ]
  },
  {
   "cell_type": "code",
   "execution_count": 79,
   "metadata": {
    "collapsed": false
   },
   "outputs": [],
   "source": [
    "m = movies.copy()\n",
    "dt = m[m['title'].duplicated()]['title']"
   ]
  },
  {
   "cell_type": "code",
   "execution_count": 80,
   "metadata": {
    "collapsed": false
   },
   "outputs": [
    {
     "data": {
      "text/html": [
       "<div>\n",
       "<table border=\"1\" class=\"dataframe\">\n",
       "  <thead>\n",
       "    <tr style=\"text-align: right;\">\n",
       "      <th></th>\n",
       "      <th>star_rating</th>\n",
       "      <th>title</th>\n",
       "      <th>content_rating</th>\n",
       "      <th>genre</th>\n",
       "      <th>duration</th>\n",
       "      <th>actors_list</th>\n",
       "    </tr>\n",
       "  </thead>\n",
       "  <tbody>\n",
       "    <tr>\n",
       "      <th>466</th>\n",
       "      <td>7.9</td>\n",
       "      <td>The Girl with the Dragon Tattoo</td>\n",
       "      <td>R</td>\n",
       "      <td>Crime</td>\n",
       "      <td>158</td>\n",
       "      <td>[u'Daniel Craig', u'Rooney Mara', u'Christophe...</td>\n",
       "    </tr>\n",
       "    <tr>\n",
       "      <th>482</th>\n",
       "      <td>7.8</td>\n",
       "      <td>The Girl with the Dragon Tattoo</td>\n",
       "      <td>R</td>\n",
       "      <td>Crime</td>\n",
       "      <td>152</td>\n",
       "      <td>[u'Michael Nyqvist', u'Noomi Rapace', u'Ewa Fr...</td>\n",
       "    </tr>\n",
       "    <tr>\n",
       "      <th>662</th>\n",
       "      <td>7.7</td>\n",
       "      <td>True Grit</td>\n",
       "      <td>PG-13</td>\n",
       "      <td>Adventure</td>\n",
       "      <td>110</td>\n",
       "      <td>[u'Jeff Bridges', u'Matt Damon', u'Hailee Stei...</td>\n",
       "    </tr>\n",
       "    <tr>\n",
       "      <th>678</th>\n",
       "      <td>7.7</td>\n",
       "      <td>Les Miserables</td>\n",
       "      <td>PG-13</td>\n",
       "      <td>Drama</td>\n",
       "      <td>158</td>\n",
       "      <td>[u'Hugh Jackman', u'Russell Crowe', u'Anne Hat...</td>\n",
       "    </tr>\n",
       "    <tr>\n",
       "      <th>703</th>\n",
       "      <td>7.6</td>\n",
       "      <td>Dracula</td>\n",
       "      <td>UNRATED</td>\n",
       "      <td>Horror</td>\n",
       "      <td>85</td>\n",
       "      <td>[u'Bela Lugosi', u'Helen Chandler', u'David Ma...</td>\n",
       "    </tr>\n",
       "    <tr>\n",
       "      <th>905</th>\n",
       "      <td>7.5</td>\n",
       "      <td>Dracula</td>\n",
       "      <td>R</td>\n",
       "      <td>Horror</td>\n",
       "      <td>128</td>\n",
       "      <td>[u'Gary Oldman', u'Winona Ryder', u'Anthony Ho...</td>\n",
       "    </tr>\n",
       "    <tr>\n",
       "      <th>924</th>\n",
       "      <td>7.5</td>\n",
       "      <td>Les Miserables</td>\n",
       "      <td>PG-13</td>\n",
       "      <td>Crime</td>\n",
       "      <td>134</td>\n",
       "      <td>[u'Liam Neeson', u'Geoffrey Rush', u'Uma Thurm...</td>\n",
       "    </tr>\n",
       "    <tr>\n",
       "      <th>936</th>\n",
       "      <td>7.4</td>\n",
       "      <td>True Grit</td>\n",
       "      <td>UNRATED</td>\n",
       "      <td>Adventure</td>\n",
       "      <td>128</td>\n",
       "      <td>[u'John Wayne', u'Kim Darby', u'Glen Campbell']</td>\n",
       "    </tr>\n",
       "  </tbody>\n",
       "</table>\n",
       "</div>"
      ],
      "text/plain": [
       "     star_rating                            title content_rating      genre  \\\n",
       "466          7.9  The Girl with the Dragon Tattoo              R      Crime   \n",
       "482          7.8  The Girl with the Dragon Tattoo              R      Crime   \n",
       "662          7.7                        True Grit          PG-13  Adventure   \n",
       "678          7.7                   Les Miserables          PG-13      Drama   \n",
       "703          7.6                          Dracula        UNRATED     Horror   \n",
       "905          7.5                          Dracula              R     Horror   \n",
       "924          7.5                   Les Miserables          PG-13      Crime   \n",
       "936          7.4                        True Grit        UNRATED  Adventure   \n",
       "\n",
       "     duration                                        actors_list  \n",
       "466       158  [u'Daniel Craig', u'Rooney Mara', u'Christophe...  \n",
       "482       152  [u'Michael Nyqvist', u'Noomi Rapace', u'Ewa Fr...  \n",
       "662       110  [u'Jeff Bridges', u'Matt Damon', u'Hailee Stei...  \n",
       "678       158  [u'Hugh Jackman', u'Russell Crowe', u'Anne Hat...  \n",
       "703        85  [u'Bela Lugosi', u'Helen Chandler', u'David Ma...  \n",
       "905       128  [u'Gary Oldman', u'Winona Ryder', u'Anthony Ho...  \n",
       "924       134  [u'Liam Neeson', u'Geoffrey Rush', u'Uma Thurm...  \n",
       "936       128    [u'John Wayne', u'Kim Darby', u'Glen Campbell']  "
      ]
     },
     "execution_count": 80,
     "metadata": {},
     "output_type": "execute_result"
    }
   ],
   "source": [
    "movies[movies['title'].isin(dt)]"
   ]
  },
  {
   "cell_type": "markdown",
   "metadata": {},
   "source": [
    "### calculate the average star rating for each genre, but only include genres with at least 10 movies"
   ]
  },
  {
   "cell_type": "code",
   "execution_count": 82,
   "metadata": {
    "collapsed": false
   },
   "outputs": [
    {
     "data": {
      "text/html": [
       "<div>\n",
       "<table border=\"1\" class=\"dataframe\">\n",
       "  <thead>\n",
       "    <tr style=\"text-align: right;\">\n",
       "      <th></th>\n",
       "      <th>genre</th>\n",
       "      <th>mean_star_rating</th>\n",
       "      <th>number_of_movies</th>\n",
       "    </tr>\n",
       "  </thead>\n",
       "  <tbody>\n",
       "    <tr>\n",
       "      <th>12</th>\n",
       "      <td>Mystery</td>\n",
       "      <td>7.975000</td>\n",
       "      <td>16</td>\n",
       "    </tr>\n",
       "    <tr>\n",
       "      <th>1</th>\n",
       "      <td>Adventure</td>\n",
       "      <td>7.933333</td>\n",
       "      <td>75</td>\n",
       "    </tr>\n",
       "    <tr>\n",
       "      <th>5</th>\n",
       "      <td>Crime</td>\n",
       "      <td>7.916935</td>\n",
       "      <td>124</td>\n",
       "    </tr>\n",
       "    <tr>\n",
       "      <th>2</th>\n",
       "      <td>Animation</td>\n",
       "      <td>7.914516</td>\n",
       "      <td>62</td>\n",
       "    </tr>\n",
       "    <tr>\n",
       "      <th>6</th>\n",
       "      <td>Drama</td>\n",
       "      <td>7.902518</td>\n",
       "      <td>278</td>\n",
       "    </tr>\n",
       "    <tr>\n",
       "      <th>0</th>\n",
       "      <td>Action</td>\n",
       "      <td>7.884559</td>\n",
       "      <td>136</td>\n",
       "    </tr>\n",
       "    <tr>\n",
       "      <th>3</th>\n",
       "      <td>Biography</td>\n",
       "      <td>7.862338</td>\n",
       "      <td>77</td>\n",
       "    </tr>\n",
       "    <tr>\n",
       "      <th>4</th>\n",
       "      <td>Comedy</td>\n",
       "      <td>7.822436</td>\n",
       "      <td>156</td>\n",
       "    </tr>\n",
       "    <tr>\n",
       "      <th>11</th>\n",
       "      <td>Horror</td>\n",
       "      <td>7.806897</td>\n",
       "      <td>29</td>\n",
       "    </tr>\n",
       "  </tbody>\n",
       "</table>\n",
       "</div>"
      ],
      "text/plain": [
       "        genre  mean_star_rating  number_of_movies\n",
       "12    Mystery          7.975000                16\n",
       "1   Adventure          7.933333                75\n",
       "5       Crime          7.916935               124\n",
       "2   Animation          7.914516                62\n",
       "6       Drama          7.902518               278\n",
       "0      Action          7.884559               136\n",
       "3   Biography          7.862338                77\n",
       "4      Comedy          7.822436               156\n",
       "11     Horror          7.806897                29"
      ]
     },
     "execution_count": 82,
     "metadata": {},
     "output_type": "execute_result"
    }
   ],
   "source": [
    "m = movies.copy()\n",
    "m = m[['genre', 'title', 'star_rating']]\n",
    "g = m.groupby('genre').agg(['mean', 'count'])\n",
    "new_df = g['star_rating'].reset_index('genre')\n",
    "df = new_df[new_df['count'] >= 10]\n",
    "df.rename(columns={'genre':'genre', 'mean':'mean_star_rating', 'count':'number_of_movies'},inplace=True)\n",
    "df.sort_values('mean_star_rating', ascending=False)"
   ]
  }
 ],
 "metadata": {
  "kernelspec": {
   "display_name": "Python 2",
   "language": "python",
   "name": "python2"
  },
  "language_info": {
   "codemirror_mode": {
    "name": "ipython",
    "version": 2
   },
   "file_extension": ".py",
   "mimetype": "text/x-python",
   "name": "python",
   "nbconvert_exporter": "python",
   "pygments_lexer": "ipython2",
   "version": "2.7.11"
  }
 },
 "nbformat": 4,
 "nbformat_minor": 0
}
