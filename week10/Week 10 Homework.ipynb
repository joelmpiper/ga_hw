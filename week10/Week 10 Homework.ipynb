{
 "cells": [
  {
   "cell_type": "markdown",
   "metadata": {},
   "source": [
    "## Week 10 Homework, Natural Language Processing"
   ]
  },
  {
   "cell_type": "markdown",
   "metadata": {},
   "source": [
    "### Imports"
   ]
  },
  {
   "cell_type": "code",
   "execution_count": 41,
   "metadata": {
    "collapsed": true
   },
   "outputs": [],
   "source": [
    "import pandas as pd\n",
    "from sklearn.cross_validation import train_test_split\n",
    "from sklearn.feature_extraction.text import CountVectorizer\n",
    "from sklearn.naive_bayes import MultinomialNB\n",
    "from sklearn import metrics\n",
    "import numpy as np\n",
    "import matplotlib.pyplot as plt\n",
    "%matplotlib inline"
   ]
  },
  {
   "cell_type": "markdown",
   "metadata": {},
   "source": [
    "### 1. Read yelp.csv into a DataFrame."
   ]
  },
  {
   "cell_type": "code",
   "execution_count": 42,
   "metadata": {
    "collapsed": false
   },
   "outputs": [],
   "source": [
    "yelp_data = pd.read_csv('../../DAT-DC-10/data/yelp.csv')"
   ]
  },
  {
   "cell_type": "markdown",
   "metadata": {},
   "source": [
    "### 2. Create a new DataFrame that only contains the 5-star and 1-star reviews."
   ]
  },
  {
   "cell_type": "code",
   "execution_count": 43,
   "metadata": {
    "collapsed": false
   },
   "outputs": [],
   "source": [
    "yelp_ext = yelp_data[(yelp_data['stars'] == 1) | (yelp_data['stars'] == 5)]"
   ]
  },
  {
   "cell_type": "markdown",
   "metadata": {},
   "source": [
    "### 3. Split the new DataFrame into training and testing sets, using the review text as the only feature and the star rating as the response."
   ]
  },
  {
   "cell_type": "code",
   "execution_count": 44,
   "metadata": {
    "collapsed": false
   },
   "outputs": [],
   "source": [
    "X = yelp_ext['text']\n",
    "y = yelp_ext['stars']\n",
    "Xtrain, Xtest, ytrain, ytest = train_test_split(X, y, test_size=0.2, random_state=3)\n",
    "# to test against solution\n",
    "#Xtrain, Xtest, ytrain, ytest = train_test_split(X, y, random_state=1)"
   ]
  },
  {
   "cell_type": "markdown",
   "metadata": {},
   "source": [
    "### 4. Use CountVectorizer to create document-term matrices from X_train and X_test.\n",
    "**Hint**: If you run into a decoding error, instantiate the vectorizer with the argument decode_error='ignore'."
   ]
  },
  {
   "cell_type": "code",
   "execution_count": 45,
   "metadata": {
    "collapsed": false
   },
   "outputs": [],
   "source": [
    "vect = CountVectorizer()\n",
    "vect.fit(Xtrain)\n",
    "yelp_train_dtm = vect.transform(Xtrain)\n",
    "yelp_test_dtm = vect.transform(Xtest)"
   ]
  },
  {
   "cell_type": "code",
   "execution_count": 46,
   "metadata": {
    "collapsed": false
   },
   "outputs": [
    {
     "data": {
      "text/plain": [
       "(3268, 17135)"
      ]
     },
     "execution_count": 46,
     "metadata": {},
     "output_type": "execute_result"
    }
   ],
   "source": [
    "yelp_train_dtm.shape"
   ]
  },
  {
   "cell_type": "code",
   "execution_count": 47,
   "metadata": {
    "collapsed": false
   },
   "outputs": [
    {
     "data": {
      "text/plain": [
       "(818, 17135)"
      ]
     },
     "execution_count": 47,
     "metadata": {},
     "output_type": "execute_result"
    }
   ],
   "source": [
    "yelp_test_dtm.shape"
   ]
  },
  {
   "cell_type": "markdown",
   "metadata": {},
   "source": [
    "### 5. Use Naive Bayes to predict the star rating for reviews in the testing set, and calculate the accuracy."
   ]
  },
  {
   "cell_type": "code",
   "execution_count": 48,
   "metadata": {
    "collapsed": false
   },
   "outputs": [
    {
     "data": {
      "text/plain": [
       "0.9193154034229829"
      ]
     },
     "execution_count": 48,
     "metadata": {},
     "output_type": "execute_result"
    }
   ],
   "source": [
    "nb = MultinomialNB()\n",
    "nb.fit(yelp_train_dtm, ytrain)\n",
    "y_pred = nb.predict(yelp_test_dtm)\n",
    "metrics.accuracy_score(ytest, y_pred)"
   ]
  },
  {
   "cell_type": "markdown",
   "metadata": {},
   "source": [
    "### 6. Calculate the AUC.\n",
    "\n",
    "**Hint 1:** Make sure to pass the predicted probabilities to roc_auc_score, not the predicted classes.\n",
    "\n",
    "**Hint 2:** roc_auc_score will get confused if y_test contains fives and ones, so you will need to create a new object that contains ones and zeros instead."
   ]
  },
  {
   "cell_type": "code",
   "execution_count": 49,
   "metadata": {
    "collapsed": false
   },
   "outputs": [
    {
     "data": {
      "text/plain": [
       "0.94563674721902569"
      ]
     },
     "execution_count": 49,
     "metadata": {},
     "output_type": "execute_result"
    }
   ],
   "source": [
    "y_pred_prob = nb.predict_proba(yelp_test_dtm)\n",
    "y_pred_pos = y_pred_prob[:,1]\n",
    "y_tf = np.where(ytest==1,0,1)\n",
    "metrics.roc_auc_score(y_tf, y_pred_pos)"
   ]
  },
  {
   "cell_type": "markdown",
   "metadata": {},
   "source": [
    "### 7. Plot the ROC curve."
   ]
  },
  {
   "cell_type": "code",
   "execution_count": 50,
   "metadata": {
    "collapsed": false
   },
   "outputs": [
    {
     "data": {
      "text/plain": [
       "<matplotlib.text.Text at 0x10bc88390>"
      ]
     },
     "execution_count": 50,
     "metadata": {},
     "output_type": "execute_result"
    },
    {
     "data": {
      "image/png": "[encoded data removed]",
      "text/plain": [
       "<matplotlib.figure.Figure at 0x10daab490>"
      ]
     },
     "metadata": {},
     "output_type": "display_data"
    }
   ],
   "source": [
    "plt.rcParams['figure.figsize'] = (8, 6)\n",
    "plt.rcParams['font.size'] = 14\n",
    "fpr, tpr, thresholds = metrics.roc_curve(y_tf, y_pred_pos)\n",
    "plt.plot(fpr, tpr)\n",
    "plt.xlim([0.0, 1.0])\n",
    "plt.ylim([0.0, 1.0])\n",
    "plt.xlabel('False Positive Rate (1 - Specificity)')\n",
    "plt.ylabel('True Positive Rate (Sensitivity)')"
   ]
  },
  {
   "cell_type": "markdown",
   "metadata": {},
   "source": [
    "### 8. Print the confusion matrix, and calculate the sensitivity and specificity. Comment on the results."
   ]
  },
  {
   "cell_type": "code",
   "execution_count": 51,
   "metadata": {
    "collapsed": true
   },
   "outputs": [],
   "source": [
    "y_pred_tf = np.where(y_pred==1,0,1)"
   ]
  },
  {
   "cell_type": "code",
   "execution_count": 52,
   "metadata": {
    "collapsed": false
   },
   "outputs": [
    {
     "name": "stdout",
     "output_type": "stream",
     "text": [
      "[[108  50]\n",
      " [ 16 644]]\n",
      "0.975757575758\n",
      "0.683544303797\n"
     ]
    }
   ],
   "source": [
    "confusion = metrics.confusion_matrix(y_tf, y_pred_tf)\n",
    "TP = confusion[1][1]\n",
    "TN = confusion[0][0]\n",
    "FP = confusion[0][1]\n",
    "FN = confusion[1][0]\n",
    "print confusion\n",
    "# calculate the sensitivity\n",
    "print TP / float(TP + FN)\n",
    "# calculate the specificity\n",
    "print TN / float(TN + FP)"
   ]
  },
  {
   "cell_type": "markdown",
   "metadata": {},
   "source": [
    "The high sensitivity shows that for all of the cases that are actually true, 98% of them will actually be identified as true and 2% will be misidentified as false. We mapped reviews with star ratings of 5 as true, so this means we are extremely good at correctly identifying 5-star ratings.\n",
    "\n",
    "The lower sensitivity shows that for all of the cases that are actually false, 68% are correctly identified as false as 32% as true. We mapped 1-star ratings as false. This means that we are much less accurate in identifying 1-star ratings as actually 1-star. We have sacrificed some of our ability to identify 1-star ratings in order to better identify 5-star ratings. This tradeoff seems to maximize the overall accuracy. If it were actually more important to idnentify 1-star ratings, we may choose some other point on the ROC curve that would misidentify more 5-star ratings and may drop slighly in overall accuracy but would better identify 1-star restaurants.\n",
    "\n",
    "The choice of where we would choose as the optimal point on the ROC curve could depend on the goal of the analysis."
   ]
  },
  {
   "cell_type": "markdown",
   "metadata": {},
   "source": [
    "### 9. Browse through the review text for some of the false positives and false negatives. Based on your knowledge of how Naive Bayes works, do you have any theories about why the model is incorrectly classifying these reviews?"
   ]
  },
  {
   "cell_type": "markdown",
   "metadata": {},
   "source": [
    "Some false positives. These would be instances in which the true score was 1 but we predicted a 5."
   ]
  },
  {
   "cell_type": "code",
   "execution_count": 53,
   "metadata": {
    "collapsed": false
   },
   "outputs": [
    {
     "name": "stdout",
     "output_type": "stream",
     "text": [
      "Maybe their dogs are better, but breakfast sandwiches at Nathan's are disgusting! The English muffin was spongy, the eggs greasy, the bacon undercooked... And all premade and wrapped ready to melt together into mush with the cheese. Yuck!!!\n",
      "I'm sad to report that we dined here for lunch and it was inedible:(  Chef Aaron please come by and monitor your staff.  We had the eggplant sandwich and is was a disaster.  It was so overly oily and the bun and fries overwhelmed the plate.  The shrimp and grits were so average with the shrimp being of low quality.  The beer menu looked fabulous.  So I guess if this is just a watering hole things will be fine...but if you choose to dine be prepared to leave hungry and unsatisfied.  We hope this turns around.  The decor is cool and the staff is really fun and helpful...and we are hopeful for a great place to visit in the \"hood\".\n",
      "I would not recommend this place to anyone.  I went there looking for a gift.  I received no help.  The girl was too busy helping the wives of the baseball players.  I guess you need a large bank account to receive help in this store. Also, they did not have a very good selection of items. I think I will take my business to other stores who care about their customers.\n"
     ]
    }
   ],
   "source": [
    "print Xtest[y_tf < y_pred_tf].iloc[0]\n",
    "print Xtest[y_tf < y_pred_tf].iloc[1]\n",
    "print Xtest[y_tf < y_pred_tf].iloc[11]"
   ]
  },
  {
   "cell_type": "markdown",
   "metadata": {},
   "source": [
    "Many of these reviews contain several negations on positive words (see above), or the negative phrases they use do not have individual words that can easily be extracted. Also, some talk of hoped for improvement or start by identifying something positive in the review before discussing how much they disliked it."
   ]
  },
  {
   "cell_type": "markdown",
   "metadata": {},
   "source": [
    "Some false negatives. These would be instances in which the true score was 5 but we predicted a 1."
   ]
  },
  {
   "cell_type": "code",
   "execution_count": 54,
   "metadata": {
    "collapsed": false
   },
   "outputs": [
    {
     "name": "stdout",
     "output_type": "stream",
     "text": [
      "Brown bag chicken sammich, mac n cheese, fried okra, and the bourbon drink.  Nuff said.\n",
      "Brought my car here b/c of the reviews I read on yelp. My fan was running excessively. The mechanic came and looked at my car. The coolant was low. He grabbed a can and filled it up. No charge. I then told him I needed new struts. He quoted me a price that was cheaper than the one quoted to me in CO a few months ago. I honestly didn't shop around for a cheaper price here in Phoenix, which is unlike me. The reviews here, and fixing my fan problem at no charge had me sold. It seems so rare to find an honest mechanic now-a-days, especially in this economy.  Made an appt. Car was finished super quick, in the time frame that was promised. The mechanic went out of his way to show me the damage struts he replaced, then told me my new struts came with a lifetime warranty. Dang, did I time warp back into the 50s?  Hopefully I won't have a need to go back, but if I do, I'd gladly drive out of my way one hour round trip for their honesty again.\n",
      "After unsuccessfully attempting a walk in gel at the posh looking \"Sundrops\" nail salon with my two year old in tow, I was drawn to a half deserted strip mall just down the street and a small space in the center labeled Andy's Nails. I Yelped the place and saw the decent reviews so I walked in and was immediately attended to by the friendliest faces I've seen in a while. Despite the fact that I was short one babysitter, they began work on my nails right away and when my toddler got restless, one of the very nice owners picked her up and carried her around for 20 minutes!  Not only do they now offer Gelish gel manicures but they offer more colors than many other Arcadia/Biltmore/Camelback Corridor nail salons AND they're cheaper by anywhere from $5-$20! I'm definitely going back and going back soon! My toes are lonely...\n"
     ]
    }
   ],
   "source": [
    "print Xtest[y_tf > y_pred_tf].iloc[0]\n",
    "print Xtest[y_tf > y_pred_tf].iloc[1]\n",
    "print Xtest[y_tf > y_pred_tf].iloc[11]"
   ]
  },
  {
   "cell_type": "markdown",
   "metadata": {},
   "source": [
    "The false negatives are seem to stress how a negative situation was made better by the place that is being reviewed. Or in the first instance, it might be difficult even for a human to determine the rating based on the review."
   ]
  },
  {
   "cell_type": "markdown",
   "metadata": {},
   "source": [
    "### 10. Let's pretend that you want to balance sensitivity and specificity. You can achieve this by changing the threshold for predicting a 5-star review. What threshold approximately balances sensitivity and specificity?"
   ]
  },
  {
   "cell_type": "code",
   "execution_count": 55,
   "metadata": {
    "collapsed": false
   },
   "outputs": [
    {
     "data": {
      "text/plain": [
       "0.9976114702693043"
      ]
     },
     "execution_count": 55,
     "metadata": {},
     "output_type": "execute_result"
    }
   ],
   "source": [
    "thresholds[np.argmin(abs(1-fpr-tpr))]"
   ]
  },
  {
   "cell_type": "code",
   "execution_count": 56,
   "metadata": {
    "collapsed": false
   },
   "outputs": [
    {
     "data": {
      "text/plain": [
       "50"
      ]
     },
     "execution_count": 56,
     "metadata": {},
     "output_type": "execute_result"
    }
   ],
   "source": [
    "np.argmin(abs(1-fpr-tpr))"
   ]
  },
  {
   "cell_type": "markdown",
   "metadata": {},
   "source": [
    "These seems extremely high, but we know that these probabilities are not expected to be particularly accurate. This means we would only predict a value as true if we calculated the probability of it being a true value of 99.76 or higher. This would give us about 88.4% of 5-star ratings and 88.6 of 1-star ratings. "
   ]
  },
  {
   "cell_type": "code",
   "execution_count": 57,
   "metadata": {
    "collapsed": false
   },
   "outputs": [
    {
     "name": "stdout",
     "output_type": "stream",
     "text": [
      "0.854430379747\n",
      "0.919696969697\n"
     ]
    }
   ],
   "source": [
    "print 1-fpr[58]\n",
    "print tpr[58]\n",
    "#print thresholds"
   ]
  },
  {
   "cell_type": "code",
   "execution_count": 58,
   "metadata": {
    "collapsed": false
   },
   "outputs": [
    {
     "data": {
      "text/plain": [
       "-0.065266589950134235"
      ]
     },
     "execution_count": 58,
     "metadata": {},
     "output_type": "execute_result"
    }
   ],
   "source": [
    "1-fpr[58]-tpr[58]"
   ]
  },
  {
   "cell_type": "markdown",
   "metadata": {},
   "source": [
    "### 11. Let's see how well Naive Bayes performs when all reviews are included, rather than just 1-star and 5-star reviews:\n",
    "* Define X and y using the original DataFrame from step 1. (y should contain 5 different classes.)"
   ]
  },
  {
   "cell_type": "code",
   "execution_count": 59,
   "metadata": {
    "collapsed": true
   },
   "outputs": [],
   "source": [
    "X = yelp_data['text']\n",
    "y = yelp_data['stars']"
   ]
  },
  {
   "cell_type": "markdown",
   "metadata": {},
   "source": [
    "* Split the data into training and testing sets."
   ]
  },
  {
   "cell_type": "code",
   "execution_count": 60,
   "metadata": {
    "collapsed": true
   },
   "outputs": [],
   "source": [
    "Xtrain, Xtest, ytrain, ytest = train_test_split(X, y, test_size=0.2, random_state=3)\n",
    "# Test against solution\n",
    "#Xtrain, Xtest, ytrain, ytest = train_test_split(X, y, random_state=1)"
   ]
  },
  {
   "cell_type": "markdown",
   "metadata": {},
   "source": [
    "* Calculate the testing accuracy of a Naive Bayes model."
   ]
  },
  {
   "cell_type": "code",
   "execution_count": 61,
   "metadata": {
    "collapsed": false
   },
   "outputs": [
    {
     "data": {
      "text/plain": [
       "0.47899999999999998"
      ]
     },
     "execution_count": 61,
     "metadata": {},
     "output_type": "execute_result"
    }
   ],
   "source": [
    "vect = CountVectorizer()\n",
    "vect.fit(Xtrain)\n",
    "yelp_train_dtm = vect.transform(Xtrain)\n",
    "yelp_test_dtm = vect.transform(Xtest)\n",
    "nb = MultinomialNB()\n",
    "nb.fit(yelp_train_dtm, ytrain)\n",
    "y_pred = nb.predict(yelp_test_dtm)\n",
    "metrics.accuracy_score(ytest, y_pred)"
   ]
  },
  {
   "cell_type": "markdown",
   "metadata": {},
   "source": [
    "* Compare the testing accuracy with the null accuracy."
   ]
  },
  {
   "cell_type": "code",
   "execution_count": 62,
   "metadata": {
    "collapsed": false
   },
   "outputs": [
    {
     "data": {
      "text/plain": [
       "0.35260000000000002"
      ]
     },
     "execution_count": 62,
     "metadata": {},
     "output_type": "execute_result"
    }
   ],
   "source": [
    "max(y.value_counts())/float(len(y))"
   ]
  },
  {
   "cell_type": "markdown",
   "metadata": {},
   "source": [
    "Improve from 35% accurate by always guessing four star to 48% by using naive bayes learning."
   ]
  },
  {
   "cell_type": "markdown",
   "metadata": {},
   "source": [
    "* Print the confusion matrix."
   ]
  },
  {
   "cell_type": "code",
   "execution_count": 63,
   "metadata": {
    "collapsed": false
   },
   "outputs": [
    {
     "data": {
      "text/plain": [
       "array([[ 53,  29,  13,  50,  21],\n",
       "       [ 13,  19,  30,  98,  17],\n",
       "       [  5,  12,  34, 231,  34],\n",
       "       [  5,   5,  21, 491, 162],\n",
       "       [  3,   2,   6, 285, 361]])"
      ]
     },
     "execution_count": 63,
     "metadata": {},
     "output_type": "execute_result"
    }
   ],
   "source": [
    "confusion = metrics.confusion_matrix(ytest, y_pred)\n",
    "confusion"
   ]
  },
  {
   "cell_type": "markdown",
   "metadata": {},
   "source": [
    "* Comment on the results"
   ]
  },
  {
   "cell_type": "markdown",
   "metadata": {},
   "source": [
    "The model knows that there are more fours and fives and hedges its bets to maximize accuracy by overpredicting the number of fours and fives. If you like at the one star and two star ratings most of the true ones and twos are predicted as fours or fives. For a true five, we would almost always predict a four or five. Similar for true fours, very little of the fours leaks into the threes."
   ]
  }
 ],
 "metadata": {
  "kernelspec": {
   "display_name": "Python 2",
   "language": "python",
   "name": "python2"
  },
  "language_info": {
   "codemirror_mode": {
    "name": "ipython",
    "version": 2
   },
   "file_extension": ".py",
   "mimetype": "text/x-python",
   "name": "python",
   "nbconvert_exporter": "python",
   "pygments_lexer": "ipython2",
   "version": "2.7.11"
  }
 },
 "nbformat": 4,
 "nbformat_minor": 0
}
