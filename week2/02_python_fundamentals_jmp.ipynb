{
 "cells": [
  {
   "cell_type": "markdown",
   "metadata": {},
   "source": [
    "** Introduction **\n",
    "\n",
    "You're already here in this iPython notebook, so well done. This brower-based interactive experience provides a useful tool for exploratory and trial-and-error style code writing. And since we're in the business of learning new things, that's inevitably the kind of code writing we'll be doing at first.\n",
    "\n",
    "Each of the \"cells\" can be use to execute python code by hitting Shift-Enter.\n",
    "\n",
    "But this particular cell isn't Python code, it's just \"Markdown\" which means we can type whatever we want to jot down notes and explanation. \n",
    "\n",
    "But \"Code\" cells do get evaluated in a Python process and then sent back here:"
   ]
  },
  {
   "cell_type": "code",
   "execution_count": 3,
   "metadata": {
    "collapsed": false
   },
   "outputs": [
    {
     "data": {
      "text/plain": [
       "5"
      ]
     },
     "execution_count": 3,
     "metadata": {},
     "output_type": "execute_result"
    }
   ],
   "source": [
    "2 + 3"
   ]
  },
  {
   "cell_type": "markdown",
   "metadata": {},
   "source": [
    "This iterative and interactive code execution is quite helpful, as is the Markdown capability, so these notebooks will be a prevalent medium for teaching, learning, and completing homework."
   ]
  },
  {
   "cell_type": "markdown",
   "metadata": {},
   "source": [
    "** Basic Data Types **\n",
    "  * Boolean\n"
   ]
  },
  {
   "cell_type": "code",
   "execution_count": 4,
   "metadata": {
    "collapsed": false
   },
   "outputs": [
    {
     "data": {
      "text/plain": [
       "True"
      ]
     },
     "execution_count": 4,
     "metadata": {},
     "output_type": "execute_result"
    }
   ],
   "source": [
    "2 == 2"
   ]
  },
  {
   "cell_type": "code",
   "execution_count": 5,
   "metadata": {
    "collapsed": false
   },
   "outputs": [
    {
     "data": {
      "text/plain": [
       "False"
      ]
     },
     "execution_count": 5,
     "metadata": {},
     "output_type": "execute_result"
    }
   ],
   "source": [
    "2 == 3"
   ]
  },
  {
   "cell_type": "code",
   "execution_count": 6,
   "metadata": {
    "collapsed": false
   },
   "outputs": [
    {
     "data": {
      "text/plain": [
       "True"
      ]
     },
     "execution_count": 6,
     "metadata": {},
     "output_type": "execute_result"
    }
   ],
   "source": [
    "2 != 3"
   ]
  },
  {
   "cell_type": "markdown",
   "metadata": {},
   "source": [
    "  * Strings"
   ]
  },
  {
   "cell_type": "code",
   "execution_count": 7,
   "metadata": {
    "collapsed": false
   },
   "outputs": [
    {
     "data": {
      "text/plain": [
       "27"
      ]
     },
     "execution_count": 7,
     "metadata": {},
     "output_type": "execute_result"
    }
   ],
   "source": [
    "poe = \"Once upon a midnight dreary\"\n",
    "len(poe)"
   ]
  },
  {
   "cell_type": "code",
   "execution_count": 8,
   "metadata": {
    "collapsed": false
   },
   "outputs": [
    {
     "data": {
      "text/plain": [
       "'once upon a midnight dreary'"
      ]
     },
     "execution_count": 8,
     "metadata": {},
     "output_type": "execute_result"
    }
   ],
   "source": [
    "poe.lower()"
   ]
  },
  {
   "cell_type": "code",
   "execution_count": 9,
   "metadata": {
    "collapsed": false,
    "scrolled": true
   },
   "outputs": [
    {
     "data": {
      "text/plain": [
       "'Once upon a midnight dreary, As I pondered weak and weary'"
      ]
     },
     "execution_count": 9,
     "metadata": {},
     "output_type": "execute_result"
    }
   ],
   "source": [
    "poe + \", As I pondered weak and weary\""
   ]
  },
  {
   "cell_type": "code",
   "execution_count": 10,
   "metadata": {
    "collapsed": true
   },
   "outputs": [],
   "source": [
    "poe += \", As I pondered weak and weary\""
   ]
  },
  {
   "cell_type": "code",
   "execution_count": 11,
   "metadata": {
    "collapsed": false
   },
   "outputs": [
    {
     "data": {
      "text/plain": [
       "'Once upon a midnight dreary, As I pondered weak and weary'"
      ]
     },
     "execution_count": 11,
     "metadata": {},
     "output_type": "execute_result"
    }
   ],
   "source": [
    "poe"
   ]
  },
  {
   "cell_type": "code",
   "execution_count": 12,
   "metadata": {
    "collapsed": false
   },
   "outputs": [
    {
     "data": {
      "text/plain": [
       "['Once',\n",
       " 'upon',\n",
       " 'a',\n",
       " 'midnight',\n",
       " 'dreary,',\n",
       " 'As',\n",
       " 'I',\n",
       " 'pondered',\n",
       " 'weak',\n",
       " 'and',\n",
       " 'weary']"
      ]
     },
     "execution_count": 12,
     "metadata": {},
     "output_type": "execute_result"
    }
   ],
   "source": [
    "poe.split(\" \")"
   ]
  },
  {
   "cell_type": "code",
   "execution_count": 13,
   "metadata": {
    "collapsed": false
   },
   "outputs": [
    {
     "data": {
      "text/plain": [
       "'Once upon a midnight dreary, As I pondered weak and weary'"
      ]
     },
     "execution_count": 13,
     "metadata": {},
     "output_type": "execute_result"
    }
   ],
   "source": [
    "poe"
   ]
  },
  {
   "cell_type": "code",
   "execution_count": 14,
   "metadata": {
    "collapsed": false
   },
   "outputs": [
    {
     "data": {
      "text/plain": [
       "True"
      ]
     },
     "execution_count": 14,
     "metadata": {},
     "output_type": "execute_result"
    }
   ],
   "source": [
    "\"midnight\" in poe"
   ]
  },
  {
   "cell_type": "markdown",
   "metadata": {},
   "source": [
    "  * Ints"
   ]
  },
  {
   "cell_type": "code",
   "execution_count": 15,
   "metadata": {
    "collapsed": false
   },
   "outputs": [
    {
     "data": {
      "text/plain": [
       "16"
      ]
     },
     "execution_count": 15,
     "metadata": {},
     "output_type": "execute_result"
    }
   ],
   "source": [
    "2**4"
   ]
  },
  {
   "cell_type": "markdown",
   "metadata": {},
   "source": [
    "watch out for integer division in Python 2"
   ]
  },
  {
   "cell_type": "code",
   "execution_count": 16,
   "metadata": {
    "collapsed": false
   },
   "outputs": [
    {
     "data": {
      "text/plain": [
       "3"
      ]
     },
     "execution_count": 16,
     "metadata": {},
     "output_type": "execute_result"
    }
   ],
   "source": [
    "7/2"
   ]
  },
  {
   "cell_type": "markdown",
   "metadata": {},
   "source": [
    "  * Floats"
   ]
  },
  {
   "cell_type": "code",
   "execution_count": 17,
   "metadata": {
    "collapsed": false
   },
   "outputs": [
    {
     "data": {
      "text/plain": [
       "3.5"
      ]
     },
     "execution_count": 17,
     "metadata": {},
     "output_type": "execute_result"
    }
   ],
   "source": [
    "7 / float(2)"
   ]
  },
  {
   "cell_type": "markdown",
   "metadata": {},
   "source": [
    "** Basic Data Structures ** \n",
    "  * Tuples - collections of a fixed size, immutable"
   ]
  },
  {
   "cell_type": "code",
   "execution_count": 18,
   "metadata": {
    "collapsed": false
   },
   "outputs": [],
   "source": [
    "someTuple = (\"dog\",5,True)\n"
   ]
  },
  {
   "cell_type": "markdown",
   "metadata": {},
   "source": [
    "Access elements by their position (Python is 0-based)"
   ]
  },
  {
   "cell_type": "code",
   "execution_count": 19,
   "metadata": {
    "collapsed": false
   },
   "outputs": [
    {
     "data": {
      "text/plain": [
       "'dog'"
      ]
     },
     "execution_count": 19,
     "metadata": {},
     "output_type": "execute_result"
    }
   ],
   "source": [
    "someTuple[0]"
   ]
  },
  {
   "cell_type": "code",
   "execution_count": 20,
   "metadata": {
    "collapsed": false
   },
   "outputs": [
    {
     "data": {
      "text/plain": [
       "True"
      ]
     },
     "execution_count": 20,
     "metadata": {},
     "output_type": "execute_result"
    }
   ],
   "source": [
    "someTuple[2]"
   ]
  },
  {
   "cell_type": "markdown",
   "metadata": {},
   "source": [
    "  * Lists - collections of arbitrary size, easily modified"
   ]
  },
  {
   "cell_type": "code",
   "execution_count": 21,
   "metadata": {
    "collapsed": true
   },
   "outputs": [],
   "source": [
    "someList = [1,2, \"lizard\", True]"
   ]
  },
  {
   "cell_type": "code",
   "execution_count": 22,
   "metadata": {
    "collapsed": true
   },
   "outputs": [],
   "source": [
    "someList[1] += 5"
   ]
  },
  {
   "cell_type": "code",
   "execution_count": 23,
   "metadata": {
    "collapsed": false
   },
   "outputs": [],
   "source": [
    "someList[2] += \"_5\""
   ]
  },
  {
   "cell_type": "code",
   "execution_count": 24,
   "metadata": {
    "collapsed": false
   },
   "outputs": [
    {
     "data": {
      "text/plain": [
       "[1, 7, 'lizard_5', True]"
      ]
     },
     "execution_count": 24,
     "metadata": {},
     "output_type": "execute_result"
    }
   ],
   "source": [
    "someList"
   ]
  },
  {
   "cell_type": "code",
   "execution_count": 25,
   "metadata": {
    "collapsed": true
   },
   "outputs": [],
   "source": [
    "someList.append(\"hello\")"
   ]
  },
  {
   "cell_type": "code",
   "execution_count": 26,
   "metadata": {
    "collapsed": false
   },
   "outputs": [
    {
     "data": {
      "text/plain": [
       "[1, 7, 'lizard_5', True, 'hello']"
      ]
     },
     "execution_count": 26,
     "metadata": {},
     "output_type": "execute_result"
    }
   ],
   "source": [
    "someList"
   ]
  },
  {
   "cell_type": "markdown",
   "metadata": {},
   "source": [
    "Notice that the append method modifies the contents of the list *in place* and doesn't return anything. Start to take notice of when operations return values and when they have *in place* modification. "
   ]
  },
  {
   "cell_type": "markdown",
   "metadata": {},
   "source": [
    "  * Dictionaries - good for storing \"lookup associations\""
   ]
  },
  {
   "cell_type": "code",
   "execution_count": 27,
   "metadata": {
    "collapsed": true
   },
   "outputs": [],
   "source": [
    "someDict = {\"Fred\":26, \"Amy\":31,\"Oscar\":41}"
   ]
  },
  {
   "cell_type": "code",
   "execution_count": 28,
   "metadata": {
    "collapsed": false
   },
   "outputs": [
    {
     "data": {
      "text/plain": [
       "26"
      ]
     },
     "execution_count": 28,
     "metadata": {},
     "output_type": "execute_result"
    }
   ],
   "source": [
    "someDict[\"Fred\"]"
   ]
  },
  {
   "cell_type": "code",
   "execution_count": 29,
   "metadata": {
    "collapsed": false
   },
   "outputs": [
    {
     "data": {
      "text/plain": [
       "['Amy', 'Oscar', 'Fred']"
      ]
     },
     "execution_count": 29,
     "metadata": {},
     "output_type": "execute_result"
    }
   ],
   "source": [
    "someDict.keys()\n"
   ]
  },
  {
   "cell_type": "code",
   "execution_count": 30,
   "metadata": {
    "collapsed": false
   },
   "outputs": [
    {
     "data": {
      "text/plain": [
       "[31, 41, 26]"
      ]
     },
     "execution_count": 30,
     "metadata": {},
     "output_type": "execute_result"
    }
   ],
   "source": [
    "someDict.values()"
   ]
  },
  {
   "cell_type": "code",
   "execution_count": 31,
   "metadata": {
    "collapsed": false
   },
   "outputs": [
    {
     "ename": "KeyError",
     "evalue": "'Not a real key'",
     "output_type": "error",
     "traceback": [
      "\u001b[0;31m---------------------------------------------------------------------------\u001b[0m",
      "\u001b[0;31mKeyError\u001b[0m                                  Traceback (most recent call last)",
      "\u001b[0;32m<ipython-input-31-cda7476bb570>\u001b[0m in \u001b[0;36m<module>\u001b[0;34m()\u001b[0m\n\u001b[0;32m----> 1\u001b[0;31m \u001b[0msomeDict\u001b[0m\u001b[0;34m[\u001b[0m\u001b[0;34m\"Not a real key\"\u001b[0m\u001b[0;34m]\u001b[0m\u001b[0;34m\u001b[0m\u001b[0m\n\u001b[0m",
      "\u001b[0;31mKeyError\u001b[0m: 'Not a real key'"
     ]
    }
   ],
   "source": [
    "someDict[\"Not a real key\"]"
   ]
  },
  {
   "cell_type": "markdown",
   "metadata": {},
   "source": [
    "** Exercise ** - Implement a dictionary called *inventory* that keeps track of several products and their corresponding price."
   ]
  },
  {
   "cell_type": "code",
   "execution_count": 32,
   "metadata": {
    "collapsed": true
   },
   "outputs": [],
   "source": [
    "inventory = {'prod1':13.24, 'prod2':74.32, 'prod3':89.71, 'prod4':0.60}"
   ]
  },
  {
   "cell_type": "markdown",
   "metadata": {},
   "source": [
    "** Conditional Statements **\n",
    "  * If\n"
   ]
  },
  {
   "cell_type": "code",
   "execution_count": 33,
   "metadata": {
    "collapsed": false
   },
   "outputs": [
    {
     "name": "stdout",
     "output_type": "stream",
     "text": [
      "26\n"
     ]
    }
   ],
   "source": [
    "if \"Fred\" in someDict.keys():\n",
    "    print someDict[\"Fred\"]"
   ]
  },
  {
   "cell_type": "markdown",
   "metadata": {},
   "source": [
    "  * Else "
   ]
  },
  {
   "cell_type": "code",
   "execution_count": 34,
   "metadata": {
    "collapsed": false
   },
   "outputs": [
    {
     "name": "stdout",
     "output_type": "stream",
     "text": [
      "26\n"
     ]
    }
   ],
   "source": [
    "myKey = \"Fred\"\n",
    "if myKey in someDict.keys():\n",
    "    print someDict[myKey]\n",
    "else:\n",
    "    print \"Key not found\""
   ]
  },
  {
   "cell_type": "markdown",
   "metadata": {},
   "source": [
    "  * If-Elif-Else"
   ]
  },
  {
   "cell_type": "code",
   "execution_count": 35,
   "metadata": {
    "collapsed": false
   },
   "outputs": [
    {
     "name": "stdout",
     "output_type": "stream",
     "text": [
      "26\n"
     ]
    }
   ],
   "source": [
    "myKey = \"fred\"\n",
    "if myKey in someDict.keys():\n",
    "    print someDict[myKey]\n",
    "elif myKey.capitalize() in someDict.keys():\n",
    "    print someDict[myKey.capitalize()]\n",
    "else:\n",
    "    print \"Really, I cannot find that key.\"\n",
    "        "
   ]
  },
  {
   "cell_type": "markdown",
   "metadata": {},
   "source": [
    "** Looping over collections **\n",
    "  * For Loops "
   ]
  },
  {
   "cell_type": "code",
   "execution_count": 36,
   "metadata": {
    "collapsed": false
   },
   "outputs": [
    {
     "name": "stdout",
     "output_type": "stream",
     "text": [
      "Here's a word: Once\n",
      "Here's a word: upon\n",
      "Here's a word: a\n",
      "Here's a word: midnight\n",
      "Here's a word: dreary,\n",
      "Here's a word: As\n",
      "Here's a word: I\n",
      "Here's a word: pondered\n",
      "Here's a word: weak\n",
      "Here's a word: and\n",
      "Here's a word: weary\n"
     ]
    }
   ],
   "source": [
    "for word in poe.split(\" \"):\n",
    "    print \"Here's a word: \" + word"
   ]
  },
  {
   "cell_type": "code",
   "execution_count": 37,
   "metadata": {
    "collapsed": false
   },
   "outputs": [
    {
     "name": "stdout",
     "output_type": "stream",
     "text": [
      "Word 0: Once\n",
      "Word 1: upon\n",
      "Word 2: a\n",
      "Word 3: midnight\n",
      "Word 4: dreary,\n",
      "Word 5: As\n",
      "Word 6: I\n",
      "Word 7: pondered\n",
      "Word 8: weak\n",
      "Word 9: and\n",
      "Word 10: weary\n"
     ]
    }
   ],
   "source": [
    "for index,word in enumerate(poe.split(\" \")):\n",
    "    print \"Word \" + str(index) +\": \" + word"
   ]
  },
  {
   "cell_type": "markdown",
   "metadata": {},
   "source": [
    "** Exercise ** - Loop through the numbers 0 to 20 and print only the even numbers. [Hint: use the function range() and the mod operator % ]"
   ]
  },
  {
   "cell_type": "code",
   "execution_count": 40,
   "metadata": {
    "collapsed": false
   },
   "outputs": [
    {
     "name": "stdout",
     "output_type": "stream",
     "text": [
      "0\n",
      "2\n",
      "4\n",
      "6\n",
      "8\n",
      "10\n",
      "12\n",
      "14\n",
      "16\n",
      "18\n",
      "20\n"
     ]
    }
   ],
   "source": [
    "even_numbers = (num for num in range(21) if num%2 == 0)\n",
    "for num in even_numbers:\n",
    "    print num"
   ]
  },
  {
   "cell_type": "markdown",
   "metadata": {},
   "source": [
    "  * List Comprehensions - a compact for-loop"
   ]
  },
  {
   "cell_type": "code",
   "execution_count": 41,
   "metadata": {
    "collapsed": false
   },
   "outputs": [
    {
     "data": {
      "text/plain": [
       "['Once',\n",
       " 'upon',\n",
       " 'a',\n",
       " 'midnight',\n",
       " 'dreary,',\n",
       " 'As',\n",
       " 'I',\n",
       " 'pondered',\n",
       " 'weak',\n",
       " 'and',\n",
       " 'weary']"
      ]
     },
     "execution_count": 41,
     "metadata": {},
     "output_type": "execute_result"
    }
   ],
   "source": [
    "[word for word in poe.split(\" \")]"
   ]
  },
  {
   "cell_type": "code",
   "execution_count": 42,
   "metadata": {
    "collapsed": false
   },
   "outputs": [
    {
     "data": {
      "text/plain": [
       "['a', 'dreary,', 'weak', 'and', 'weary']"
      ]
     },
     "execution_count": 42,
     "metadata": {},
     "output_type": "execute_result"
    }
   ],
   "source": [
    "[word for word in poe.split(\" \") if \"a\" in word]"
   ]
  },
  {
   "cell_type": "markdown",
   "metadata": {},
   "source": [
    "** Exercise ** - FizzBuzz\n",
    "\n",
    "Loop through the numbers 1 to 35. If a number is a multiple of 3, print \"Fizz\". If the number is a multiple of 5, print \"Buzz\". If a number is a multiple of 3 and 5, print \"FizzBuzz\". For all other numbers, just print out the number. "
   ]
  },
  {
   "cell_type": "code",
   "execution_count": 43,
   "metadata": {
    "collapsed": true
   },
   "outputs": [],
   "source": [
    "def multiples(mod, myList):\n",
    "    return (num for num in myList if num%mod == 0)"
   ]
  },
  {
   "cell_type": "code",
   "execution_count": 44,
   "metadata": {
    "collapsed": false
   },
   "outputs": [
    {
     "name": "stdout",
     "output_type": "stream",
     "text": [
      "1\n",
      "2\n",
      "Fizz\n",
      "4\n",
      "Buzz\n",
      "Fizz\n",
      "7\n",
      "8\n",
      "Fizz\n",
      "Buzz\n",
      "11\n",
      "Fizz\n",
      "13\n",
      "14\n",
      "FizzBuzz\n",
      "16\n",
      "17\n",
      "Fizz\n",
      "19\n",
      "Buzz\n",
      "Fizz\n",
      "22\n",
      "23\n",
      "Fizz\n",
      "Buzz\n",
      "26\n",
      "Fizz\n",
      "28\n",
      "29\n",
      "FizzBuzz\n",
      "31\n",
      "32\n",
      "Fizz\n",
      "34\n",
      "Buzz\n"
     ]
    }
   ],
   "source": [
    "for num in range(1,36):\n",
    "    mystring = \"\"\n",
    "    if num%3 == 0:\n",
    "        mystring = \"Fizz\"\n",
    "    if num%5 == 0:\n",
    "        mystring += \"Buzz\"\n",
    "    \n",
    "    if mystring == \"\":\n",
    "        print str(num)\n",
    "    else:\n",
    "        print mystring"
   ]
  },
  {
   "cell_type": "markdown",
   "metadata": {},
   "source": [
    "** Functions **\n",
    "\n",
    "Once we start having a complex series of operations to perform, we can and **should** encapsulate those computations into *functions* to provide modularity and reusability.\n",
    "\n",
    "Defining functions requires the **def** keyword, as well as any (optional) arguments and a colon. The content of the function must be poperly indented and will typically use the **return** keyword."
   ]
  },
  {
   "cell_type": "code",
   "execution_count": 46,
   "metadata": {
    "collapsed": true
   },
   "outputs": [],
   "source": [
    "def say_hello():\n",
    "    return \"hello\""
   ]
  },
  {
   "cell_type": "code",
   "execution_count": 47,
   "metadata": {
    "collapsed": false
   },
   "outputs": [
    {
     "name": "stdout",
     "output_type": "stream",
     "text": [
      "hello\n"
     ]
    }
   ],
   "source": [
    "print say_hello()"
   ]
  },
  {
   "cell_type": "markdown",
   "metadata": {},
   "source": [
    "Functions typically takes arguments as inputs and do some transformation or computation with those inputs."
   ]
  },
  {
   "cell_type": "code",
   "execution_count": 48,
   "metadata": {
    "collapsed": true
   },
   "outputs": [],
   "source": [
    "def  combineTwoStrings(a,b):\n",
    "    return a+\"_\"+b"
   ]
  },
  {
   "cell_type": "code",
   "execution_count": 49,
   "metadata": {
    "collapsed": false
   },
   "outputs": [
    {
     "data": {
      "text/plain": [
       "'Hello_World'"
      ]
     },
     "execution_count": 49,
     "metadata": {},
     "output_type": "execute_result"
    }
   ],
   "source": [
    "combineTwoStrings(\"Hello\",\"World\")"
   ]
  },
  {
   "cell_type": "markdown",
   "metadata": {},
   "source": [
    "** Exercise ** Cash Register\n",
    "\n",
    "Write a function **RingUp** that takes in a list of product names, as well as your *inventory* dictionary, and return the total price of the items."
   ]
  },
  {
   "cell_type": "code",
   "execution_count": 81,
   "metadata": {
    "collapsed": true
   },
   "outputs": [],
   "source": [
    "def RingUp(items,inventory):\n",
    "    return '$' + '{0:.2f}'.format(round(sum([inventory[x] for x in items if x in inventory.keys()]),2))"
   ]
  },
  {
   "cell_type": "code",
   "execution_count": 82,
   "metadata": {
    "collapsed": false
   },
   "outputs": [
    {
     "data": {
      "text/plain": [
       "191.10999999999999"
      ]
     },
     "execution_count": 82,
     "metadata": {},
     "output_type": "execute_result"
    }
   ],
   "source": [
    "my_items = ['prod1','prod2','prod3','prod1', 'prod4', 'prod5']\n",
    "sum([inventory[x] for x in my_items if x in inventory.keys()])"
   ]
  },
  {
   "cell_type": "code",
   "execution_count": 84,
   "metadata": {
    "collapsed": true
   },
   "outputs": [],
   "source": [
    "my_items2 = ['prod4']"
   ]
  },
  {
   "cell_type": "code",
   "execution_count": 85,
   "metadata": {
    "collapsed": false
   },
   "outputs": [
    {
     "name": "stdout",
     "output_type": "stream",
     "text": [
      "$0.60\n"
     ]
    }
   ],
   "source": [
    "print RingUp(my_items2,inventory)"
   ]
  },
  {
   "cell_type": "markdown",
   "metadata": {},
   "source": [
    "** Exercsise** \n",
    "Write a function **GenerousRingUp** that doesn't charge for items that cost less than a dollar."
   ]
  },
  {
   "cell_type": "code",
   "execution_count": 86,
   "metadata": {
    "collapsed": true
   },
   "outputs": [],
   "source": [
    "def GenerousRingUp(items,inventory):\n",
    "    return '$' + '{0:.2f}'.format(round(sum([inventory[x] for x in items \n",
    "                                             if x in inventory.keys() \n",
    "                                             if inventory[x] >= 1.0]),2))"
   ]
  },
  {
   "cell_type": "code",
   "execution_count": 89,
   "metadata": {
    "collapsed": false
   },
   "outputs": [
    {
     "data": {
      "text/plain": [
       "'$190.51'"
      ]
     },
     "execution_count": 89,
     "metadata": {},
     "output_type": "execute_result"
    }
   ],
   "source": [
    "GenerousRingUp(my_items, inventory)"
   ]
  },
  {
   "cell_type": "markdown",
   "metadata": {},
   "source": [
    "** Exercise ** - Reimplement FizzBuzz as a function that takes an argument for N"
   ]
  },
  {
   "cell_type": "code",
   "execution_count": 97,
   "metadata": {
    "collapsed": false
   },
   "outputs": [],
   "source": [
    "def FizzBuss(N):\n",
    "    for num in range(1,N+1):\n",
    "        mystring = \"\"\n",
    "        if num%3 == 0:\n",
    "            mystring = \"Fizz\"\n",
    "        if num%5 == 0:\n",
    "            mystring += \"Buzz\"\n",
    "    \n",
    "        if mystring == \"\":\n",
    "            print str(num)\n",
    "        else:\n",
    "            print mystring"
   ]
  },
  {
   "cell_type": "code",
   "execution_count": 98,
   "metadata": {
    "collapsed": false
   },
   "outputs": [
    {
     "name": "stdout",
     "output_type": "stream",
     "text": [
      "1\n",
      "2\n",
      "Fizz\n",
      "4\n",
      "Buzz\n",
      "Fizz\n",
      "7\n",
      "8\n",
      "Fizz\n",
      "Buzz\n",
      "11\n",
      "Fizz\n",
      "13\n",
      "14\n",
      "FizzBuzz\n"
     ]
    }
   ],
   "source": [
    "FizzBuss(15)"
   ]
  },
  {
   "cell_type": "markdown",
   "metadata": {},
   "source": [
    "** Reading In Files **"
   ]
  },
  {
   "cell_type": "code",
   "execution_count": 100,
   "metadata": {
    "collapsed": false
   },
   "outputs": [],
   "source": [
    "with open(\"../../DAT-DC-10/data/airlines.csv\", 'rU') as inFile:\n",
    "    f = inFile.read()"
   ]
  },
  {
   "cell_type": "markdown",
   "metadata": {},
   "source": [
    "** Exercise **\n",
    "\n",
    "- Read in the airlines file\n",
    "- split into rows (use the token \\n to split)\n",
    "- split each row on the comma \n",
    "- separate the header row from the data rows\n"
   ]
  },
  {
   "cell_type": "code",
   "execution_count": 108,
   "metadata": {
    "collapsed": false
   },
   "outputs": [],
   "source": [
    "with open(\"../../DAT-DC-10/data/airlines.csv\", 'rU') as inFile:\n",
    "    f = inFile.read()\n",
    "    air_rows=f.split('\\n')\n",
    "    new_rows = [row.split(',') for row in air_rows]\n",
    "    header = new_rows[0]\n",
    "    data = new_rows[1:]"
   ]
  },
  {
   "cell_type": "code",
   "execution_count": 111,
   "metadata": {
    "collapsed": false
   },
   "outputs": [
    {
     "name": "stdout",
     "output_type": "stream",
     "text": [
      "['airline', 'avail_seat_km_per_week', 'incidents_85_99', 'fatal_accidents_85_99', 'fatalities_85_99', 'incidents_00_14', 'fatal_accidents_00_14', 'fatalities_00_14']\n",
      "[['Aer Lingus', '320906734', '2', '0', '0', '0', '0', '0'], ['Aeroflot*', '1197672318', '76', '14', '128', '6', '1', '88'], ['Aerolineas Argentinas', '385803648', '6', '0', '0', '1', '0', '0'], ['Aeromexico*', '596871813', '3', '1', '64', '5', '0', '0'], ['Air Canada', '1865253802', '2', '0', '0', '2', '0', '0'], ['Air France', '3004002661', '14', '4', '79', '6', '2', '337'], ['Air India*', '869253552', '2', '1', '329', '4', '1', '158'], ['Air New Zealand*', '710174817', '3', '0', '0', '5', '1', '7'], ['Alaska Airlines*', '965346773', '5', '0', '0', '5', '1', '88'], ['Alitalia', '698012498', '7', '2', '50', '4', '0', '0'], ['All Nippon Airways', '1841234177', '3', '1', '1', '7', '0', '0'], ['American*', '5228357340', '21', '5', '101', '17', '3', '416'], ['Austrian Airlines', '358239823', '1', '0', '0', '1', '0', '0'], ['Avianca', '396922563', '5', '3', '323', '0', '0', '0'], ['British Airways*', '3179760952', '4', '0', '0', '6', '0', '0'], ['Cathay Pacific*', '2582459303', '0', '0', '0', '2', '0', '0'], ['China Airlines', '813216487', '12', '6', '535', '2', '1', '225'], ['Condor', '417982610', '2', '1', '16', '0', '0', '0'], ['COPA', '550491507', '3', '1', '47', '0', '0', '0'], ['Delta / Northwest*', '6525658894', '24', '12', '407', '24', '2', '51'], ['Egyptair', '557699891', '8', '3', '282', '4', '1', '14'], ['El Al', '335448023', '1', '1', '4', '1', '0', '0'], ['Ethiopian Airlines', '488560643', '25', '5', '167', '5', '2', '92'], ['Finnair', '506464950', '1', '0', '0', '0', '0', '0'], ['Garuda Indonesia', '613356665', '10', '3', '260', '4', '2', '22'], ['Gulf Air', '301379762', '1', '0', '0', '3', '1', '143'], ['Hawaiian Airlines', '493877795', '0', '0', '0', '1', '0', '0'], ['Iberia', '1173203126', '4', '1', '148', '5', '0', '0'], ['Japan Airlines', '1574217531', '3', '1', '520', '0', '0', '0'], ['Kenya Airways', '277414794', '2', '0', '0', '2', '2', '283'], ['KLM*', '1874561773', '7', '1', '3', '1', '0', '0'], ['Korean Air', '1734522605', '12', '5', '425', '1', '0', '0'], ['LAN Airlines', '1001965891', '3', '2', '21', '0', '0', '0'], ['Lufthansa*', '3426529504', '6', '1', '2', '3', '0', '0'], ['Malaysia Airlines', '1039171244', '3', '1', '34', '3', '2', '537'], ['Pakistan International', '348563137', '8', '3', '234', '10', '2', '46'], ['Philippine Airlines', '413007158', '7', '4', '74', '2', '1', '1'], ['Qantas*', '1917428984', '1', '0', '0', '5', '0', '0'], ['Royal Air Maroc', '295705339', '5', '3', '51', '3', '0', '0'], ['SAS*', '682971852', '5', '0', '0', '6', '1', '110'], ['Saudi Arabian', '859673901', '7', '2', '313', '11', '0', '0'], ['Singapore Airlines', '2376857805', '2', '2', '6', '2', '1', '83'], ['South African', '651502442', '2', '1', '159', '1', '0', '0'], ['Southwest Airlines', '3276525770', '1', '0', '0', '8', '0', '0'], ['Sri Lankan / AirLanka', '325582976', '2', '1', '14', '4', '0', '0'], ['SWISS*', '792601299', '2', '1', '229', '3', '0', '0'], ['TACA', '259373346', '3', '1', '3', '1', '1', '3'], ['TAM', '1509195646', '8', '3', '98', '7', '2', '188'], ['TAP - Air Portugal', '619130754', '0', '0', '0', '0', '0', '0'], ['Thai Airways', '1702802250', '8', '4', '308', '2', '1', '1'], ['Turkish Airlines', '1946098294', '8', '3', '64', '8', '2', '84'], ['United / Continental*', '7139291291', '19', '8', '319', '14', '2', '109'], ['US Airways / America West*', '2455687887', '16', '7', '224', '11', '2', '23'], ['Vietnam Airlines', '625084918', '7', '3', '171', '1', '0', '0'], ['Virgin Atlantic', '1005248585', '1', '0', '0', '0', '0', '0'], ['Xiamen Airlines', '430462962', '9', '1', '82', '2', '0', '0'], ['']]\n"
     ]
    }
   ],
   "source": [
    "print header\n",
    "print data"
   ]
  },
  {
   "cell_type": "markdown",
   "metadata": {},
   "source": [
    "We can use other utilities that are particularly good at parsing CSV files."
   ]
  },
  {
   "cell_type": "code",
   "execution_count": 113,
   "metadata": {
    "collapsed": false
   },
   "outputs": [],
   "source": [
    "import csv\n",
    "with open('../../DAT-DC-10/data/airlines.csv', mode='rU') as f:\n",
    "    file_nested_list = [row for row in csv.reader(f)]"
   ]
  },
  {
   "cell_type": "code",
   "execution_count": 114,
   "metadata": {
    "collapsed": false,
    "scrolled": true
   },
   "outputs": [
    {
     "data": {
      "text/plain": [
       "[['airline',\n",
       "  'avail_seat_km_per_week',\n",
       "  'incidents_85_99',\n",
       "  'fatal_accidents_85_99',\n",
       "  'fatalities_85_99',\n",
       "  'incidents_00_14',\n",
       "  'fatal_accidents_00_14',\n",
       "  'fatalities_00_14'],\n",
       " ['Aer Lingus', '320906734', '2', '0', '0', '0', '0', '0'],\n",
       " ['Aeroflot*', '1197672318', '76', '14', '128', '6', '1', '88'],\n",
       " ['Aerolineas Argentinas', '385803648', '6', '0', '0', '1', '0', '0'],\n",
       " ['Aeromexico*', '596871813', '3', '1', '64', '5', '0', '0'],\n",
       " ['Air Canada', '1865253802', '2', '0', '0', '2', '0', '0'],\n",
       " ['Air France', '3004002661', '14', '4', '79', '6', '2', '337'],\n",
       " ['Air India*', '869253552', '2', '1', '329', '4', '1', '158'],\n",
       " ['Air New Zealand*', '710174817', '3', '0', '0', '5', '1', '7'],\n",
       " ['Alaska Airlines*', '965346773', '5', '0', '0', '5', '1', '88'],\n",
       " ['Alitalia', '698012498', '7', '2', '50', '4', '0', '0'],\n",
       " ['All Nippon Airways', '1841234177', '3', '1', '1', '7', '0', '0'],\n",
       " ['American*', '5228357340', '21', '5', '101', '17', '3', '416'],\n",
       " ['Austrian Airlines', '358239823', '1', '0', '0', '1', '0', '0'],\n",
       " ['Avianca', '396922563', '5', '3', '323', '0', '0', '0'],\n",
       " ['British Airways*', '3179760952', '4', '0', '0', '6', '0', '0'],\n",
       " ['Cathay Pacific*', '2582459303', '0', '0', '0', '2', '0', '0'],\n",
       " ['China Airlines', '813216487', '12', '6', '535', '2', '1', '225'],\n",
       " ['Condor', '417982610', '2', '1', '16', '0', '0', '0'],\n",
       " ['COPA', '550491507', '3', '1', '47', '0', '0', '0'],\n",
       " ['Delta / Northwest*', '6525658894', '24', '12', '407', '24', '2', '51'],\n",
       " ['Egyptair', '557699891', '8', '3', '282', '4', '1', '14'],\n",
       " ['El Al', '335448023', '1', '1', '4', '1', '0', '0'],\n",
       " ['Ethiopian Airlines', '488560643', '25', '5', '167', '5', '2', '92'],\n",
       " ['Finnair', '506464950', '1', '0', '0', '0', '0', '0'],\n",
       " ['Garuda Indonesia', '613356665', '10', '3', '260', '4', '2', '22'],\n",
       " ['Gulf Air', '301379762', '1', '0', '0', '3', '1', '143'],\n",
       " ['Hawaiian Airlines', '493877795', '0', '0', '0', '1', '0', '0'],\n",
       " ['Iberia', '1173203126', '4', '1', '148', '5', '0', '0'],\n",
       " ['Japan Airlines', '1574217531', '3', '1', '520', '0', '0', '0'],\n",
       " ['Kenya Airways', '277414794', '2', '0', '0', '2', '2', '283'],\n",
       " ['KLM*', '1874561773', '7', '1', '3', '1', '0', '0'],\n",
       " ['Korean Air', '1734522605', '12', '5', '425', '1', '0', '0'],\n",
       " ['LAN Airlines', '1001965891', '3', '2', '21', '0', '0', '0'],\n",
       " ['Lufthansa*', '3426529504', '6', '1', '2', '3', '0', '0'],\n",
       " ['Malaysia Airlines', '1039171244', '3', '1', '34', '3', '2', '537'],\n",
       " ['Pakistan International', '348563137', '8', '3', '234', '10', '2', '46'],\n",
       " ['Philippine Airlines', '413007158', '7', '4', '74', '2', '1', '1'],\n",
       " ['Qantas*', '1917428984', '1', '0', '0', '5', '0', '0'],\n",
       " ['Royal Air Maroc', '295705339', '5', '3', '51', '3', '0', '0'],\n",
       " ['SAS*', '682971852', '5', '0', '0', '6', '1', '110'],\n",
       " ['Saudi Arabian', '859673901', '7', '2', '313', '11', '0', '0'],\n",
       " ['Singapore Airlines', '2376857805', '2', '2', '6', '2', '1', '83'],\n",
       " ['South African', '651502442', '2', '1', '159', '1', '0', '0'],\n",
       " ['Southwest Airlines', '3276525770', '1', '0', '0', '8', '0', '0'],\n",
       " ['Sri Lankan / AirLanka', '325582976', '2', '1', '14', '4', '0', '0'],\n",
       " ['SWISS*', '792601299', '2', '1', '229', '3', '0', '0'],\n",
       " ['TACA', '259373346', '3', '1', '3', '1', '1', '3'],\n",
       " ['TAM', '1509195646', '8', '3', '98', '7', '2', '188'],\n",
       " ['TAP - Air Portugal', '619130754', '0', '0', '0', '0', '0', '0'],\n",
       " ['Thai Airways', '1702802250', '8', '4', '308', '2', '1', '1'],\n",
       " ['Turkish Airlines', '1946098294', '8', '3', '64', '8', '2', '84'],\n",
       " ['United / Continental*', '7139291291', '19', '8', '319', '14', '2', '109'],\n",
       " ['US Airways / America West*',\n",
       "  '2455687887',\n",
       "  '16',\n",
       "  '7',\n",
       "  '224',\n",
       "  '11',\n",
       "  '2',\n",
       "  '23'],\n",
       " ['Vietnam Airlines', '625084918', '7', '3', '171', '1', '0', '0'],\n",
       " ['Virgin Atlantic', '1005248585', '1', '0', '0', '0', '0', '0'],\n",
       " ['Xiamen Airlines', '430462962', '9', '1', '82', '2', '0', '0']]"
      ]
     },
     "execution_count": 114,
     "metadata": {},
     "output_type": "execute_result"
    }
   ],
   "source": [
    "file_nested_list"
   ]
  },
  {
   "cell_type": "markdown",
   "metadata": {},
   "source": [
    "** Data Cleaning Exercises ** \n",
    "- With the airlines data, create a list of airline names that end in a *\n",
    "- Create a dictionary where the airline name (without a star) is the key, the value is a 1 or a 0 to indicate whether the name had a star"
   ]
  },
  {
   "cell_type": "markdown",
   "metadata": {},
   "source": [
    "** Exercise ** With the data set you brought in\n",
    "- Repeat this process (if applicable)\n",
    "- Read in the data, separate the rows\n",
    "- Further parse the rows, if needed\n",
    "- Come up with something to calculate about the data\n"
   ]
  },
  {
   "cell_type": "code",
   "execution_count": 115,
   "metadata": {
    "collapsed": true
   },
   "outputs": [],
   "source": [
    "import csv\n",
    "with open('../../project/data/Net_generation_for_all_sectors.csv', mode='rU') as f:\n",
    "    file_nested_list = [row for row in csv.reader(f)]"
   ]
  },
  {
   "cell_type": "code",
   "execution_count": 119,
   "metadata": {
    "collapsed": false
   },
   "outputs": [],
   "source": [
    "header = file_nested_list[4]"
   ]
  },
  {
   "cell_type": "code",
   "execution_count": 122,
   "metadata": {
    "collapsed": false
   },
   "outputs": [],
   "source": [
    "data = [row for row in file_nested_list[5:] if row[3] != \"\"]"
   ]
  },
  {
   "cell_type": "markdown",
   "metadata": {},
   "source": [
    "Testing the last month if that has a value"
   ]
  },
  {
   "cell_type": "code",
   "execution_count": 137,
   "metadata": {
    "collapsed": false
   },
   "outputs": [
    {
     "name": "stdout",
     "output_type": "stream",
     "text": [
      "189.835685484\n"
     ]
    }
   ],
   "source": [
    "total = 0.0\n",
    "for row in data:\n",
    "    if (row[-1] != '--' and row[-1] != 'NM' and row[-1] != '-- '):\n",
    "        total += float(row[-1])\n",
    "print total/len(data)"
   ]
  },
  {
   "cell_type": "markdown",
   "metadata": {
    "collapsed": true
   },
   "source": [
    "*** Optional Material ***"
   ]
  },
  {
   "cell_type": "markdown",
   "metadata": {},
   "source": [
    "** Higher-Order functions ** \n",
    "\n",
    "A higher-order function is any function that either (i) takes a function as an input or (ii) produces a function as an output. \n",
    "\n",
    "A common one is *map* which provides us another way to iterate over collections and perform some operation to each element. The first argument to map is a function which we wish to apply to every element. The second argument is the collection."
   ]
  },
  {
   "cell_type": "code",
   "execution_count": 138,
   "metadata": {
    "collapsed": false
   },
   "outputs": [
    {
     "data": {
      "text/plain": [
       "[4, 4, 1, 8, 7, 2, 1, 8, 4, 3, 5]"
      ]
     },
     "execution_count": 138,
     "metadata": {},
     "output_type": "execute_result"
    }
   ],
   "source": [
    "map(len, poe.split(\" \"))"
   ]
  },
  {
   "cell_type": "markdown",
   "metadata": {},
   "source": [
    "Another common one is *reduce* which has the same positional arguments. For reduce, you function you pass in must take in two elements and produce a single element in return (this forms a *commutative monoid* if you really want to get nerdy here). "
   ]
  },
  {
   "cell_type": "code",
   "execution_count": 139,
   "metadata": {
    "collapsed": false
   },
   "outputs": [
    {
     "data": {
      "text/plain": [
       "'Once_upon_a_midnight_dreary,_As_I_pondered_weak_and_weary'"
      ]
     },
     "execution_count": 139,
     "metadata": {},
     "output_type": "execute_result"
    }
   ],
   "source": [
    "reduce(combineTwoStrings, poe.split(\" \"))"
   ]
  },
  {
   "cell_type": "markdown",
   "metadata": {},
   "source": [
    "** Lambdas aka Anonymous Functions aka Function Literals **\n",
    "\n",
    "You may encouter Lambda expressions, and they seem more complicated than they are. Once you get the hang of them, they're super useful, most especially in combination with higher-order functions."
   ]
  },
  {
   "cell_type": "code",
   "execution_count": 140,
   "metadata": {
    "collapsed": false
   },
   "outputs": [
    {
     "data": {
      "text/plain": [
       "['Once',\n",
       " 'Upon',\n",
       " 'A',\n",
       " 'Midnight',\n",
       " 'Dreary,',\n",
       " 'As',\n",
       " 'I',\n",
       " 'Pondered',\n",
       " 'Weak',\n",
       " 'And',\n",
       " 'Weary']"
      ]
     },
     "execution_count": 140,
     "metadata": {},
     "output_type": "execute_result"
    }
   ],
   "source": [
    "map(lambda s: s.capitalize(),poe.split(\" \"))"
   ]
  },
  {
   "cell_type": "markdown",
   "metadata": {},
   "source": [
    "** Classes and Methods **\n",
    "\n",
    "We don't really need to write code in the Object Oriented style, but many of the libraries we'll use (such as scikit-learn) implement their functionality through such an interface, so we should be familiar with the premise. "
   ]
  },
  {
   "cell_type": "code",
   "execution_count": 141,
   "metadata": {
    "collapsed": true
   },
   "outputs": [],
   "source": [
    "class Person:\n",
    "    def __init__(self,name,age):\n",
    "        self.name=name\n",
    "        self.age=age\n",
    "        \n",
    "    def age_in_dog_years(self):\n",
    "        return self.age / 7"
   ]
  },
  {
   "cell_type": "code",
   "execution_count": 142,
   "metadata": {
    "collapsed": true
   },
   "outputs": [],
   "source": [
    "person1 = Person(\"Alice\", 22)\n",
    "person2 = Person(\"Jeff\",42)"
   ]
  },
  {
   "cell_type": "code",
   "execution_count": 143,
   "metadata": {
    "collapsed": false
   },
   "outputs": [
    {
     "data": {
      "text/plain": [
       "22"
      ]
     },
     "execution_count": 143,
     "metadata": {},
     "output_type": "execute_result"
    }
   ],
   "source": [
    "person1.name\n",
    "person1.age"
   ]
  },
  {
   "cell_type": "code",
   "execution_count": 144,
   "metadata": {
    "collapsed": false
   },
   "outputs": [
    {
     "data": {
      "text/plain": [
       "6"
      ]
     },
     "execution_count": 144,
     "metadata": {},
     "output_type": "execute_result"
    }
   ],
   "source": [
    "person2.age_in_dog_years()"
   ]
  },
  {
   "cell_type": "code",
   "execution_count": null,
   "metadata": {
    "collapsed": true
   },
   "outputs": [],
   "source": []
  }
 ],
 "metadata": {
  "kernelspec": {
   "display_name": "Python 2",
   "language": "python",
   "name": "python2"
  },
  "language_info": {
   "codemirror_mode": {
    "name": "ipython",
    "version": 2
   },
   "file_extension": ".py",
   "mimetype": "text/x-python",
   "name": "python",
   "nbconvert_exporter": "python",
   "pygments_lexer": "ipython2",
   "version": "2.7.10"
  }
 },
 "nbformat": 4,
 "nbformat_minor": 0
}
